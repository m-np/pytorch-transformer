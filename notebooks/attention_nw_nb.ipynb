{
 "cells": [
  {
   "cell_type": "markdown",
   "id": "a07ed93d",
   "metadata": {
    "_cell_guid": "b1076dfc-b9ad-4769-8c92-a6c4dae69d19",
    "_uuid": "8f2839f25d086af736a60e9eeb907d3b93b6e0e5",
    "papermill": {
     "duration": 0.014014,
     "end_time": "2024-01-20T08:13:25.277098",
     "exception": false,
     "start_time": "2024-01-20T08:13:25.263084",
     "status": "completed"
    },
    "tags": []
   },
   "source": [
    "# Attention Network Model Notebook\n",
    "\n",
    "Library Imports for the jupyter notebook. We are refering to this [blog](https://medium.com/@hunter-j-phillips/putting-it-all-together-the-implemented-transformer-bfb11ac1ddfehttps://medium.com/@hunter-j-phillips/putting-it-all-together-the-implemented-transformer-bfb11ac1ddfe) to understand attention network in depth"
   ]
  },
  {
   "cell_type": "code",
   "execution_count": 1,
   "id": "7d5ea730",
   "metadata": {
    "execution": {
     "iopub.execute_input": "2024-01-20T08:13:25.307237Z",
     "iopub.status.busy": "2024-01-20T08:13:25.306373Z",
     "iopub.status.idle": "2024-01-20T08:13:25.319967Z",
     "shell.execute_reply": "2024-01-20T08:13:25.318733Z"
    },
    "papermill": {
     "duration": 0.032271,
     "end_time": "2024-01-20T08:13:25.323026",
     "exception": false,
     "start_time": "2024-01-20T08:13:25.290755",
     "status": "completed"
    },
    "tags": []
   },
   "outputs": [],
   "source": [
    "import os  # miscellaneous os interfaces\n",
    "import sys  # configuring python runtime environment\n",
    "import time  # library for time manipulation, and logging"
   ]
  },
  {
   "cell_type": "code",
   "execution_count": 2,
   "id": "8ca5d5a8",
   "metadata": {
    "execution": {
     "iopub.execute_input": "2024-01-20T08:13:25.352474Z",
     "iopub.status.busy": "2024-01-20T08:13:25.351974Z",
     "iopub.status.idle": "2024-01-20T08:13:25.357437Z",
     "shell.execute_reply": "2024-01-20T08:13:25.356278Z"
    },
    "papermill": {
     "duration": 0.02288,
     "end_time": "2024-01-20T08:13:25.360046",
     "exception": false,
     "start_time": "2024-01-20T08:13:25.337166",
     "status": "completed"
    },
    "tags": []
   },
   "outputs": [],
   "source": [
    "# use `datetime` to control and preceive the environment\n",
    "# in addition `pandas` also provides date time functionalities\n",
    "import datetime as dt"
   ]
  },
  {
   "cell_type": "code",
   "execution_count": 3,
   "id": "54e185b7",
   "metadata": {
    "execution": {
     "iopub.execute_input": "2024-01-20T08:13:25.389498Z",
     "iopub.status.busy": "2024-01-20T08:13:25.388553Z",
     "iopub.status.idle": "2024-01-20T08:13:25.399762Z",
     "shell.execute_reply": "2024-01-20T08:13:25.398622Z"
    },
    "papermill": {
     "duration": 0.02899,
     "end_time": "2024-01-20T08:13:25.402544",
     "exception": false,
     "start_time": "2024-01-20T08:13:25.373554",
     "status": "completed"
    },
    "tags": []
   },
   "outputs": [],
   "source": [
    "from copy import deepcopy  # dataframe is mutable\n",
    "from tqdm import tqdm  # progress bar for loops\n",
    "from uuid import uuid4 as UUID  # unique identifier for objs"
   ]
  },
  {
   "cell_type": "code",
   "execution_count": 4,
   "id": "0c25ad36",
   "metadata": {
    "execution": {
     "iopub.execute_input": "2024-01-20T08:13:25.431659Z",
     "iopub.status.busy": "2024-01-20T08:13:25.430884Z",
     "iopub.status.idle": "2024-01-20T08:13:25.436007Z",
     "shell.execute_reply": "2024-01-20T08:13:25.435187Z"
    },
    "papermill": {
     "duration": 0.022383,
     "end_time": "2024-01-20T08:13:25.438252",
     "exception": false,
     "start_time": "2024-01-20T08:13:25.415869",
     "status": "completed"
    },
    "tags": []
   },
   "outputs": [],
   "source": [
    "import numpy as np\n",
    "import matplotlib.pyplot as plt"
   ]
  },
  {
   "cell_type": "code",
   "execution_count": 5,
   "id": "60fa179d",
   "metadata": {
    "execution": {
     "iopub.execute_input": "2024-01-20T08:13:25.467098Z",
     "iopub.status.busy": "2024-01-20T08:13:25.466031Z",
     "iopub.status.idle": "2024-01-20T08:13:42.141746Z",
     "shell.execute_reply": "2024-01-20T08:13:42.140145Z"
    },
    "papermill": {
     "duration": 16.693622,
     "end_time": "2024-01-20T08:13:42.145108",
     "exception": false,
     "start_time": "2024-01-20T08:13:25.451486",
     "status": "completed"
    },
    "tags": []
   },
   "outputs": [
    {
     "name": "stdout",
     "output_type": "stream",
     "text": [
      "Collecting torchsummary\r\n",
      "  Downloading torchsummary-1.5.1-py3-none-any.whl (2.8 kB)\r\n",
      "Installing collected packages: torchsummary\r\n",
      "Successfully installed torchsummary-1.5.1\r\n"
     ]
    }
   ],
   "source": [
    "!pip install torchsummary"
   ]
  },
  {
   "cell_type": "code",
   "execution_count": 6,
   "id": "2246eb07",
   "metadata": {
    "execution": {
     "iopub.execute_input": "2024-01-20T08:13:42.176541Z",
     "iopub.status.busy": "2024-01-20T08:13:42.175704Z",
     "iopub.status.idle": "2024-01-20T08:13:46.957190Z",
     "shell.execute_reply": "2024-01-20T08:13:46.955719Z"
    },
    "papermill": {
     "duration": 4.800655,
     "end_time": "2024-01-20T08:13:46.960417",
     "exception": false,
     "start_time": "2024-01-20T08:13:42.159762",
     "status": "completed"
    },
    "tags": []
   },
   "outputs": [],
   "source": [
    "import torch\n",
    "import torch.nn as nn\n",
    "import torch.optim as optim\n",
    "import torch.nn.functional as F\n",
    "import torchvision.transforms as transforms\n",
    "\n",
    "from torchinfo import summary\n",
    "from torch.utils.data import DataLoader\n",
    "from torchsummary import summary"
   ]
  },
  {
   "cell_type": "code",
   "execution_count": null,
   "id": "ec4702b2",
   "metadata": {
    "papermill": {
     "duration": 0.013784,
     "end_time": "2024-01-20T08:13:46.988262",
     "exception": false,
     "start_time": "2024-01-20T08:13:46.974478",
     "status": "completed"
    },
    "tags": []
   },
   "outputs": [],
   "source": []
  },
  {
   "cell_type": "code",
   "execution_count": 7,
   "id": "fada183d",
   "metadata": {
    "execution": {
     "iopub.execute_input": "2024-01-20T08:13:47.018107Z",
     "iopub.status.busy": "2024-01-20T08:13:47.017480Z",
     "iopub.status.idle": "2024-01-20T08:13:47.022858Z",
     "shell.execute_reply": "2024-01-20T08:13:47.021485Z"
    },
    "papermill": {
     "duration": 0.023144,
     "end_time": "2024-01-20T08:13:47.025242",
     "exception": false,
     "start_time": "2024-01-20T08:13:47.002098",
     "status": "completed"
    },
    "tags": []
   },
   "outputs": [],
   "source": [
    "import math"
   ]
  },
  {
   "cell_type": "markdown",
   "id": "a2595ead",
   "metadata": {
    "papermill": {
     "duration": 0.013249,
     "end_time": "2024-01-20T08:13:47.053086",
     "exception": false,
     "start_time": "2024-01-20T08:13:47.039837",
     "status": "completed"
    },
    "tags": []
   },
   "source": [
    "## Modify Pytorch summary for my own use"
   ]
  },
  {
   "cell_type": "code",
   "execution_count": 8,
   "id": "3d3c2082",
   "metadata": {
    "execution": {
     "iopub.execute_input": "2024-01-20T08:13:47.083126Z",
     "iopub.status.busy": "2024-01-20T08:13:47.082623Z",
     "iopub.status.idle": "2024-01-20T08:13:47.093283Z",
     "shell.execute_reply": "2024-01-20T08:13:47.092022Z"
    },
    "papermill": {
     "duration": 0.029149,
     "end_time": "2024-01-20T08:13:47.096002",
     "exception": false,
     "start_time": "2024-01-20T08:13:47.066853",
     "status": "completed"
    },
    "tags": []
   },
   "outputs": [],
   "source": [
    "# import torch\n",
    "# import torch.nn as nn\n",
    "# from torch.autograd import Variable\n",
    "\n",
    "# from collections import OrderedDict\n",
    "# import numpy as np\n",
    "\n",
    "\n",
    "# def summary(model, input_size, batch_size=-1, device=\"cuda\"):\n",
    "\n",
    "#     def register_hook(module):\n",
    "\n",
    "#         def hook(module, input, output):\n",
    "#             class_name = str(module.__class__).split(\".\")[-1].split(\"'\")[0]\n",
    "#             module_idx = len(summary)\n",
    "\n",
    "#             m_key = \"%s-%i\" % (class_name, module_idx + 1)\n",
    "#             summary[m_key] = OrderedDict()\n",
    "#             print(11, module)\n",
    "#             print(111, input[0])\n",
    "#             summary[m_key][\"input_shape\"] = list(input[0].size())\n",
    "#             summary[m_key][\"input_shape\"][0] = batch_size\n",
    "#             if isinstance(output, (list, tuple)):\n",
    "#                 summary[m_key][\"output_shape\"] = [\n",
    "#                     [-1] + list(o.size())[1:] for o in output\n",
    "#                 ]\n",
    "#             else:\n",
    "#                 summary[m_key][\"output_shape\"] = list(output.size())\n",
    "#                 summary[m_key][\"output_shape\"][0] = batch_size\n",
    "\n",
    "#             params = 0\n",
    "#             if hasattr(module, \"weight\") and hasattr(module.weight, \"size\"):\n",
    "#                 params += torch.prod(torch.LongTensor(list(module.weight.size())))\n",
    "#                 summary[m_key][\"trainable\"] = module.weight.requires_grad\n",
    "#             if hasattr(module, \"bias\") and hasattr(module.bias, \"size\"):\n",
    "#                 params += torch.prod(torch.LongTensor(list(module.bias.size())))\n",
    "#             summary[m_key][\"nb_params\"] = params\n",
    "\n",
    "#         if (\n",
    "#             not isinstance(module, nn.Sequential)\n",
    "#             and not isinstance(module, nn.ModuleList)\n",
    "#             and not (module == model)\n",
    "#         ):\n",
    "#             hooks.append(module.register_forward_hook(hook))\n",
    "\n",
    "#     device = device.lower()\n",
    "#     assert device in [\n",
    "#         \"cuda\",\n",
    "#         \"cpu\",\n",
    "#     ], \"Input device is not valid, please specify 'cuda' or 'cpu'\"\n",
    "\n",
    "#     if device == \"cuda\" and torch.cuda.is_available():\n",
    "#         dtype = torch.cuda.FloatTensor\n",
    "#     else:\n",
    "#         dtype = torch.FloatTensor\n",
    "\n",
    "#     # multiple inputs to the network\n",
    "#     if isinstance(input_size, tuple):\n",
    "#         input_size = [input_size]\n",
    "\n",
    "#     # batch_size of 2 for batchnorm\n",
    "#     x = [torch.rand(2, *in_size).type(dtype) for in_size in input_size]\n",
    "#     # print(type(x[0]))\n",
    "\n",
    "#     # create properties\n",
    "#     summary = OrderedDict()\n",
    "#     hooks = []\n",
    "\n",
    "#     # register hook\n",
    "#     model.apply(register_hook)\n",
    "\n",
    "#     # make a forward pass\n",
    "#     # print(x.shape)\n",
    "#     model(*x)\n",
    "\n",
    "#     # remove these hooks\n",
    "#     for h in hooks:\n",
    "#         h.remove()\n",
    "\n",
    "#     print(\"----------------------------------------------------------------\")\n",
    "#     line_new = \"{:>20}  {:>25} {:>15}\".format(\"Layer (type)\", \"Output Shape\", \"Param #\")\n",
    "#     print(line_new)\n",
    "#     print(\"================================================================\")\n",
    "#     total_params = 0\n",
    "#     total_output = 0\n",
    "#     trainable_params = 0\n",
    "#     for layer in summary:\n",
    "#         # input_shape, output_shape, trainable, nb_params\n",
    "#         line_new = \"{:>20}  {:>25} {:>15}\".format(\n",
    "#             layer,\n",
    "#             str(summary[layer][\"output_shape\"]),\n",
    "#             \"{0:,}\".format(summary[layer][\"nb_params\"]),\n",
    "#         )\n",
    "#         total_params += summary[layer][\"nb_params\"]\n",
    "#         total_output += np.prod(summary[layer][\"output_shape\"])\n",
    "#         if \"trainable\" in summary[layer]:\n",
    "#             if summary[layer][\"trainable\"] == True:\n",
    "#                 trainable_params += summary[layer][\"nb_params\"]\n",
    "#         print(line_new)\n",
    "\n",
    "#     # assume 4 bytes/number (float on cuda).\n",
    "#     total_input_size = abs(np.prod(input_size) * batch_size * 4. / (1024 ** 2.))\n",
    "#     total_output_size = abs(2. * total_output * 4. / (1024 ** 2.))  # x2 for gradients\n",
    "#     total_params_size = abs(total_params.numpy() * 4. / (1024 ** 2.))\n",
    "#     total_size = total_params_size + total_output_size + total_input_size\n",
    "\n",
    "#     print(\"================================================================\")\n",
    "#     print(\"Total params: {0:,}\".format(total_params))\n",
    "#     print(\"Trainable params: {0:,}\".format(trainable_params))\n",
    "#     print(\"Non-trainable params: {0:,}\".format(total_params - trainable_params))\n",
    "#     print(\"----------------------------------------------------------------\")\n",
    "#     print(\"Input size (MB): %0.2f\" % total_input_size)\n",
    "#     print(\"Forward/backward pass size (MB): %0.2f\" % total_output_size)\n",
    "#     print(\"Params size (MB): %0.2f\" % total_params_size)\n",
    "#     print(\"Estimated Total Size (MB): %0.2f\" % total_size)\n",
    "#     print(\"----------------------------------------------------------------\")\n",
    "#     # return summary"
   ]
  },
  {
   "cell_type": "markdown",
   "id": "13c53501",
   "metadata": {
    "papermill": {
     "duration": 0.013675,
     "end_time": "2024-01-20T08:13:47.123745",
     "exception": false,
     "start_time": "2024-01-20T08:13:47.110070",
     "status": "completed"
    },
    "tags": []
   },
   "source": [
    "## Building model\n",
    "\n",
    "Create a transformer model from the original [transformer paper](https://arxiv.org/abs/1706.03762)\n",
    "\n",
    "Lets start the build by understanding the fundamental block of transformers and build the entire model from here\n",
    "\n",
    "### Understanding Multi Head Attention (MHA)"
   ]
  },
  {
   "cell_type": "code",
   "execution_count": 9,
   "id": "d05c9d51",
   "metadata": {
    "execution": {
     "iopub.execute_input": "2024-01-20T08:13:47.154178Z",
     "iopub.status.busy": "2024-01-20T08:13:47.153701Z",
     "iopub.status.idle": "2024-01-20T08:13:47.170387Z",
     "shell.execute_reply": "2024-01-20T08:13:47.169006Z"
    },
    "papermill": {
     "duration": 0.035067,
     "end_time": "2024-01-20T08:13:47.173000",
     "exception": false,
     "start_time": "2024-01-20T08:13:47.137933",
     "status": "completed"
    },
    "tags": []
   },
   "outputs": [],
   "source": [
    "class UnoptimizedMultiHeadAttention(nn.Module):\n",
    "    \"\"\"\n",
    "    We can refer to the following blog to understand in depth about the transformer and MHA\n",
    "    https://jalammar.github.io/illustrated-transformer/\n",
    "    \"\"\"\n",
    "\n",
    "    def __init__(self, dk, dv, h):\n",
    "        \"\"\"\n",
    "        Input Args:\n",
    "\n",
    "        dk(int): Key dimensions used for generating Key weight matrix\n",
    "        dv(int): Val dimensions used for generating val weight matrix\n",
    "        h(int) : Number of heads in MHA\n",
    "        \"\"\"\n",
    "        super().__init__()\n",
    "        assert dk == dv\n",
    "        self.dk = dk\n",
    "        self.dv = dv\n",
    "        self.h = h\n",
    "        self.dmodel = self.dk * self.h  # model dimension\n",
    "\n",
    "        # Add the params in modulelist as the params in the conv list needs to be tracked\n",
    "        # wq, wk, wv -> multiple linear weights for the number of heads\n",
    "        self.WQ = nn.ModuleList(\n",
    "            [nn.Linear(self.dmodel, self.dk) for _ in range(self.h)]\n",
    "        )  # shape -> (dmodel, dk)\n",
    "        self.WK = nn.ModuleList(\n",
    "            [nn.Linear(self.dmodel, self.dk) for _ in range(self.h)]\n",
    "        )  # shape -> (dmodel, dk)\n",
    "        self.WV = nn.ModuleList(\n",
    "            [nn.Linear(self.dmodel, self.dv) for _ in range(self.h)]\n",
    "        )  # shape -> (dmodel, dv)\n",
    "        # Output Weights\n",
    "        self.WO = nn.Linear(self.h * self.dv, self.dmodel)  # shape -> (dmodel, dmodel)\n",
    "\n",
    "        #         self.attention_dropout = nn.Dropout(p=dropout_probability)\n",
    "        self.softmax = nn.Softmax(dim=-1)\n",
    "\n",
    "    def attention(self, query, key, val):\n",
    "        \"\"\"\n",
    "        Perform Scaled Dot Product Attention on multi head attention.\n",
    "\n",
    "        Notation: B - batch size, S/T - max src/trg token-sequence length\n",
    "        query shape = (B, dmodel, S/T)\n",
    "        key shape = (B, dmodel, S/T)\n",
    "        val shape = (B, dmodel, S/T)\n",
    "        \"\"\"\n",
    "        head = []\n",
    "        # Create multiple heads using SDP\n",
    "        for i in range(self.h):\n",
    "            Q = self.WQ[i](query)  # shape -> (B, 1, dk)\n",
    "            K = self.WK[i](key)  # shape -> (B, 1, dk)\n",
    "            V = self.WV[i](val)  # shape -> (B, 1, dv)\n",
    "            score = torch.matmul(Q, K.transpose(-2, -1)) / math.sqrt(\n",
    "                self.dk\n",
    "            )  # shape -> (B, 1, 1)\n",
    "            score = self.softmax(score)\n",
    "            H = torch.matmul(\n",
    "                score, V\n",
    "            )  # V Transpose not needed here as per the paper shape -> (B, 1, dk)\n",
    "            head.append(H)\n",
    "        return head\n",
    "\n",
    "    def forward(self, x):\n",
    "        \"\"\"\n",
    "        Forward pass for MHA\n",
    "        \"\"\"\n",
    "        query = (\n",
    "            key\n",
    "        ) = (\n",
    "            val\n",
    "        ) = x  # For visualization we use the same input for all shape = (B, 1, dmodel)\n",
    "        # Calculate multi head attentions for Q, K, V\n",
    "        head = self.attention(query, key, val)\n",
    "        # Concatenate multiple head along dim 1 as head shape = [B x 1 x dk]xh\n",
    "        # therefore resultant would be out shape = B x 1 x dk*h\n",
    "        out = torch.cat(head, axis=-1)\n",
    "        # Final token_representation shape = (B, (dmodel*h), dmodel)\n",
    "        token_representation = self.WO(out)  # shape = B x 1 x (dk*h=dmodel)\n",
    "        return token_representation"
   ]
  },
  {
   "cell_type": "code",
   "execution_count": 10,
   "id": "53e5ff47",
   "metadata": {
    "execution": {
     "iopub.execute_input": "2024-01-20T08:13:47.203855Z",
     "iopub.status.busy": "2024-01-20T08:13:47.203392Z",
     "iopub.status.idle": "2024-01-20T08:13:47.208927Z",
     "shell.execute_reply": "2024-01-20T08:13:47.207594Z"
    },
    "papermill": {
     "duration": 0.024537,
     "end_time": "2024-01-20T08:13:47.211562",
     "exception": false,
     "start_time": "2024-01-20T08:13:47.187025",
     "status": "completed"
    },
    "tags": []
   },
   "outputs": [],
   "source": [
    "dk = dv = 64\n",
    "h = 8"
   ]
  },
  {
   "cell_type": "code",
   "execution_count": 11,
   "id": "38712fd7",
   "metadata": {
    "execution": {
     "iopub.execute_input": "2024-01-20T08:13:47.242491Z",
     "iopub.status.busy": "2024-01-20T08:13:47.241609Z",
     "iopub.status.idle": "2024-01-20T08:13:47.397409Z",
     "shell.execute_reply": "2024-01-20T08:13:47.396149Z"
    },
    "papermill": {
     "duration": 0.175281,
     "end_time": "2024-01-20T08:13:47.400955",
     "exception": false,
     "start_time": "2024-01-20T08:13:47.225674",
     "status": "completed"
    },
    "tags": []
   },
   "outputs": [
    {
     "name": "stdout",
     "output_type": "stream",
     "text": [
      "UnoptimizedMultiHeadAttention(\n",
      "  (WQ): ModuleList(\n",
      "    (0-7): 8 x Linear(in_features=512, out_features=64, bias=True)\n",
      "  )\n",
      "  (WK): ModuleList(\n",
      "    (0-7): 8 x Linear(in_features=512, out_features=64, bias=True)\n",
      "  )\n",
      "  (WV): ModuleList(\n",
      "    (0-7): 8 x Linear(in_features=512, out_features=64, bias=True)\n",
      "  )\n",
      "  (WO): Linear(in_features=512, out_features=512, bias=True)\n",
      "  (softmax): Softmax(dim=-1)\n",
      ")\n",
      "----------------------------------------------------------------\n",
      "        Layer (type)               Output Shape         Param #\n",
      "================================================================\n",
      "            Linear-1                [-1, 1, 64]          32,832\n",
      "            Linear-2                [-1, 1, 64]          32,832\n",
      "            Linear-3                [-1, 1, 64]          32,832\n",
      "           Softmax-4                 [-1, 1, 1]               0\n",
      "            Linear-5                [-1, 1, 64]          32,832\n",
      "            Linear-6                [-1, 1, 64]          32,832\n",
      "            Linear-7                [-1, 1, 64]          32,832\n",
      "           Softmax-8                 [-1, 1, 1]               0\n",
      "            Linear-9                [-1, 1, 64]          32,832\n",
      "           Linear-10                [-1, 1, 64]          32,832\n",
      "           Linear-11                [-1, 1, 64]          32,832\n",
      "          Softmax-12                 [-1, 1, 1]               0\n",
      "           Linear-13                [-1, 1, 64]          32,832\n",
      "           Linear-14                [-1, 1, 64]          32,832\n",
      "           Linear-15                [-1, 1, 64]          32,832\n",
      "          Softmax-16                 [-1, 1, 1]               0\n",
      "           Linear-17                [-1, 1, 64]          32,832\n",
      "           Linear-18                [-1, 1, 64]          32,832\n",
      "           Linear-19                [-1, 1, 64]          32,832\n",
      "          Softmax-20                 [-1, 1, 1]               0\n",
      "           Linear-21                [-1, 1, 64]          32,832\n",
      "           Linear-22                [-1, 1, 64]          32,832\n",
      "           Linear-23                [-1, 1, 64]          32,832\n",
      "          Softmax-24                 [-1, 1, 1]               0\n",
      "           Linear-25                [-1, 1, 64]          32,832\n",
      "           Linear-26                [-1, 1, 64]          32,832\n",
      "           Linear-27                [-1, 1, 64]          32,832\n",
      "          Softmax-28                 [-1, 1, 1]               0\n",
      "           Linear-29                [-1, 1, 64]          32,832\n",
      "           Linear-30                [-1, 1, 64]          32,832\n",
      "           Linear-31                [-1, 1, 64]          32,832\n",
      "          Softmax-32                 [-1, 1, 1]               0\n",
      "           Linear-33               [-1, 1, 512]         262,656\n",
      "================================================================\n",
      "Total params: 1,050,624\n",
      "Trainable params: 1,050,624\n",
      "Non-trainable params: 0\n",
      "----------------------------------------------------------------\n",
      "Input size (MB): 0.00\n",
      "Forward/backward pass size (MB): 0.02\n",
      "Params size (MB): 4.01\n",
      "Estimated Total Size (MB): 4.03\n",
      "----------------------------------------------------------------\n"
     ]
    }
   ],
   "source": [
    "net = UnoptimizedMultiHeadAttention(dk, dv, h)\n",
    "print(net)\n",
    "summary(net, (1, 512))  # Input should be 1, dk*h"
   ]
  },
  {
   "cell_type": "markdown",
   "id": "72769929",
   "metadata": {
    "papermill": {
     "duration": 0.013416,
     "end_time": "2024-01-20T08:13:47.428793",
     "exception": false,
     "start_time": "2024-01-20T08:13:47.415377",
     "status": "completed"
    },
    "tags": []
   },
   "source": [
    "Now optimizing the multi head attention by removing the for loop and introducing matrix calculation for the optimization.\n",
    "\n",
    "We also refer to this [blog](https://medium.com/@hunter-j-phillips/multi-head-attention-7924371d477a)"
   ]
  },
  {
   "cell_type": "code",
   "execution_count": 12,
   "id": "b9b27722",
   "metadata": {
    "execution": {
     "iopub.execute_input": "2024-01-20T08:13:47.458985Z",
     "iopub.status.busy": "2024-01-20T08:13:47.458514Z",
     "iopub.status.idle": "2024-01-20T08:13:47.475676Z",
     "shell.execute_reply": "2024-01-20T08:13:47.474552Z"
    },
    "papermill": {
     "duration": 0.035842,
     "end_time": "2024-01-20T08:13:47.478501",
     "exception": false,
     "start_time": "2024-01-20T08:13:47.442659",
     "status": "completed"
    },
    "tags": []
   },
   "outputs": [],
   "source": [
    "class MultiHeadAttention1(nn.Module):\n",
    "    \"\"\"\n",
    "    We can refer to the following blog to understand in depth about the transformer and MHA\n",
    "    https://medium.com/@hunter-j-phillips/multi-head-attention-7924371d477a\n",
    "\n",
    "    Here we are clubbing all the linear layers together and duplicating the inputs and\n",
    "    then performing matrix multiplications\n",
    "    \"\"\"\n",
    "\n",
    "    def __init__(self, dk, dv, h):\n",
    "        \"\"\"\n",
    "        Input Args:\n",
    "\n",
    "        dk(int): Key dimensions used for generating Key weight matrix\n",
    "        dv(int): Val dimensions used for generating val weight matrix\n",
    "        h(int) : Number of heads in MHA\n",
    "        \"\"\"\n",
    "        super().__init__()\n",
    "        assert dk == dv\n",
    "        self.dk = dk\n",
    "        self.dv = dv\n",
    "        self.h = h\n",
    "        self.dmodel = self.dk * self.h  # model dimension\n",
    "\n",
    "        # Add the params in modulelist as the params in the conv list needs to be tracked\n",
    "        # wq, wk, wv -> multiple linear weights for the number of heads\n",
    "        self.WQ = nn.Linear(self.dmodel, self.dmodel)  # shape -> (dmodel, dmodel)\n",
    "        self.WK = nn.Linear(self.dmodel, self.dmodel)  # shape -> (dmodel, dmodel)\n",
    "        self.WV = nn.Linear(self.dmodel, self.dmodel)  # shape -> (dmodel, dmodel)\n",
    "        # Output Weights\n",
    "        self.WO = nn.Linear(self.h * self.dv, self.dmodel)  # shape -> (dmodel, dmodel)\n",
    "        self.softmax = nn.Softmax(dim=-1)\n",
    "\n",
    "    def forward(self, x):\n",
    "        \"\"\"\n",
    "        Forward pass for MHA\n",
    "\n",
    "        X has a size of (batch_size, seq_length, d_model)\n",
    "        Wq, Wk, and Wv have a size of (d_model, d_model)\n",
    "\n",
    "        Perform Scaled Dot Product Attention on multi head attention.\n",
    "\n",
    "        Notation: B - batch size, S/T - max src/trg token-sequence length\n",
    "        query shape = (B, S, dmodel)\n",
    "        key shape = (B, S, dmodel)\n",
    "        val shape = (B, S, dmodel)\n",
    "        \"\"\"\n",
    "        #         TODO: Define the inputs properly\n",
    "        query = (\n",
    "            key\n",
    "        ) = (\n",
    "            val\n",
    "        ) = x  # For visualization we use the same input for all shape = (B, S, dmodel)\n",
    "\n",
    "        # Weight the queries\n",
    "        Q = self.WQ(query)  # shape -> (B, S, dmodel)\n",
    "        K = self.WK(key)  # shape -> (B, S, dmodel)\n",
    "        V = self.WV(val)  # shape -> (B, S, dmodel)\n",
    "\n",
    "        # Separate last dimension to number of head and dk\n",
    "        batch_size = Q.size(0)\n",
    "        Q = Q.view(batch_size, -1, self.h, self.dk)  # shape -> (B, S, h, dk)\n",
    "        K = K.view(batch_size, -1, self.h, self.dk)  # shape -> (B, S, h, dk)\n",
    "        V = V.view(batch_size, -1, self.h, self.dk)  # shape -> (B, S, h, dk)\n",
    "\n",
    "        # each sequence is split across n_heads, with each head receiving seq_length tokens\n",
    "        # with d_key elements in each token instead of d_model.\n",
    "        Q = Q.permute(0, 2, 1, 3)  # shape -> (B, h, S, dk)\n",
    "        K = K.permute(0, 2, 1, 3)  # shape -> (B, h, S, dk)\n",
    "        V = V.permute(0, 2, 1, 3)  # shape -> (B, h, S, dk)\n",
    "\n",
    "        # dot product of Q and K\n",
    "        scaled_dot_product = torch.matmul(Q, K.permute(0, 1, 3, 2)) / math.sqrt(self.dk)\n",
    "        scaled_dot_product = self.softmax(scaled_dot_product)\n",
    "\n",
    "        # Create head\n",
    "        head = torch.matmul(\n",
    "            scaled_dot_product, V\n",
    "        )  # shape -> (B, h, S, S) * (B, h, S, dk) = (B, h, S, dk)\n",
    "        # Prepare the head to pass it through output linear layer\n",
    "        head = head.permute(0, 2, 1, 3).contiguous()  # shape -> (B, S, h, dk)\n",
    "        # Concatenate the head together\n",
    "        head = head.view(\n",
    "            batch_size, -1, self.h * self.dk\n",
    "        )  # shape -> (B, S, (h*dk = dmodel))\n",
    "        # Pass through output layer\n",
    "        token_representation = self.WO(head)\n",
    "        return token_representation"
   ]
  },
  {
   "cell_type": "code",
   "execution_count": 13,
   "id": "dabb86f4",
   "metadata": {
    "execution": {
     "iopub.execute_input": "2024-01-20T08:13:47.509594Z",
     "iopub.status.busy": "2024-01-20T08:13:47.508834Z",
     "iopub.status.idle": "2024-01-20T08:13:47.538622Z",
     "shell.execute_reply": "2024-01-20T08:13:47.537410Z"
    },
    "papermill": {
     "duration": 0.04971,
     "end_time": "2024-01-20T08:13:47.542477",
     "exception": false,
     "start_time": "2024-01-20T08:13:47.492767",
     "status": "completed"
    },
    "tags": []
   },
   "outputs": [
    {
     "name": "stdout",
     "output_type": "stream",
     "text": [
      "MultiHeadAttention1(\n",
      "  (WQ): Linear(in_features=512, out_features=512, bias=True)\n",
      "  (WK): Linear(in_features=512, out_features=512, bias=True)\n",
      "  (WV): Linear(in_features=512, out_features=512, bias=True)\n",
      "  (WO): Linear(in_features=512, out_features=512, bias=True)\n",
      "  (softmax): Softmax(dim=-1)\n",
      ")\n",
      "----------------------------------------------------------------\n",
      "        Layer (type)               Output Shape         Param #\n",
      "================================================================\n",
      "            Linear-1              [-1, 10, 512]         262,656\n",
      "            Linear-2              [-1, 10, 512]         262,656\n",
      "            Linear-3              [-1, 10, 512]         262,656\n",
      "           Softmax-4            [-1, 8, 10, 10]               0\n",
      "            Linear-5              [-1, 10, 512]         262,656\n",
      "================================================================\n",
      "Total params: 1,050,624\n",
      "Trainable params: 1,050,624\n",
      "Non-trainable params: 0\n",
      "----------------------------------------------------------------\n",
      "Input size (MB): 0.02\n",
      "Forward/backward pass size (MB): 0.16\n",
      "Params size (MB): 4.01\n",
      "Estimated Total Size (MB): 4.19\n",
      "----------------------------------------------------------------\n"
     ]
    }
   ],
   "source": [
    "dk = dv = 64\n",
    "h = 8\n",
    "net = MultiHeadAttention1(dk, dv, h)\n",
    "print(net)\n",
    "summary(net, (10, 512))  # Input should be S, (dk*h=dmodel)"
   ]
  },
  {
   "cell_type": "markdown",
   "id": "e30136bc",
   "metadata": {
    "execution": {
     "iopub.execute_input": "2024-01-18T03:50:53.448453Z",
     "iopub.status.busy": "2024-01-18T03:50:53.447059Z",
     "iopub.status.idle": "2024-01-18T03:50:53.458960Z",
     "shell.execute_reply": "2024-01-18T03:50:53.456634Z",
     "shell.execute_reply.started": "2024-01-18T03:50:53.448388Z"
    },
    "papermill": {
     "duration": 0.013627,
     "end_time": "2024-01-20T08:13:47.570516",
     "exception": false,
     "start_time": "2024-01-20T08:13:47.556889",
     "status": "completed"
    },
    "tags": []
   },
   "source": [
    "## Understanding Positonal Encoding"
   ]
  },
  {
   "cell_type": "code",
   "execution_count": 14,
   "id": "70f60aba",
   "metadata": {
    "execution": {
     "iopub.execute_input": "2024-01-20T08:13:47.601561Z",
     "iopub.status.busy": "2024-01-20T08:13:47.600140Z",
     "iopub.status.idle": "2024-01-20T08:13:47.609684Z",
     "shell.execute_reply": "2024-01-20T08:13:47.608487Z"
    },
    "papermill": {
     "duration": 0.027995,
     "end_time": "2024-01-20T08:13:47.612589",
     "exception": false,
     "start_time": "2024-01-20T08:13:47.584594",
     "status": "completed"
    },
    "tags": []
   },
   "outputs": [],
   "source": [
    "class Embedding(nn.Module):\n",
    "    \"\"\"\n",
    "    Embedding lookup table which is used by the positional embedding block.\n",
    "    Embedding lookup table is shared across input and output\n",
    "    \"\"\"\n",
    "\n",
    "    def __init__(self, vocab_size, dmodel):\n",
    "        \"\"\"\n",
    "        Embedding lookup needs a vocab size and model dimension size matrix for\n",
    "        creating lookups\n",
    "        \"\"\"\n",
    "        super().__init__()\n",
    "        self.embedding_lookup = nn.Embedding(vocab_size, dmodel)\n",
    "        self.vocab_size = vocab_size\n",
    "        self.dmodel = dmodel\n",
    "\n",
    "    def forward(self, token_ids):\n",
    "        \"\"\"\n",
    "        For a given token lookup the embedding vector\n",
    "\n",
    "        As per the paper, we also multiply the embedding vector with sqrt of dmodel\n",
    "        \"\"\"\n",
    "        token_ids = torch.Tensor([[0, 0], [1, 1]]).type(torch.IntTensor)\n",
    "        #         TODO: delete the above\n",
    "        # Since tokens -> shape -> (batch_size, token)\n",
    "        assert (\n",
    "            token_ids.ndim == 2\n",
    "        ), f\"Expected: (batch size, max token sequence length), got {token_ids.shape}\"\n",
    "        embedding_vector = self.embedding_lookup(token_ids)\n",
    "\n",
    "        return embedding_vector * math.sqrt(self.dmodel)"
   ]
  },
  {
   "cell_type": "code",
   "execution_count": 15,
   "id": "84eaa3b1",
   "metadata": {
    "execution": {
     "iopub.execute_input": "2024-01-20T08:13:47.643864Z",
     "iopub.status.busy": "2024-01-20T08:13:47.643380Z",
     "iopub.status.idle": "2024-01-20T08:13:47.662108Z",
     "shell.execute_reply": "2024-01-20T08:13:47.660757Z"
    },
    "papermill": {
     "duration": 0.038064,
     "end_time": "2024-01-20T08:13:47.665666",
     "exception": false,
     "start_time": "2024-01-20T08:13:47.627602",
     "status": "completed"
    },
    "tags": []
   },
   "outputs": [
    {
     "name": "stdout",
     "output_type": "stream",
     "text": [
      "Embedding(\n",
      "  (embedding_lookup): Embedding(100, 512)\n",
      ")\n",
      "----------------------------------------------------------------\n",
      "        Layer (type)               Output Shape         Param #\n",
      "================================================================\n",
      "         Embedding-1               [-1, 2, 512]          51,200\n",
      "================================================================\n",
      "Total params: 51,200\n",
      "Trainable params: 51,200\n",
      "Non-trainable params: 0\n",
      "----------------------------------------------------------------\n",
      "Input size (MB): 0.00\n",
      "Forward/backward pass size (MB): 0.01\n",
      "Params size (MB): 0.20\n",
      "Estimated Total Size (MB): 0.20\n",
      "----------------------------------------------------------------\n"
     ]
    }
   ],
   "source": [
    "vocab_size = 100\n",
    "dmodel = dk * h\n",
    "net = Embedding(vocab_size, dmodel)\n",
    "print(net)\n",
    "summary(net, input_size=([[2]]))"
   ]
  },
  {
   "cell_type": "code",
   "execution_count": 16,
   "id": "bdee9192",
   "metadata": {
    "execution": {
     "iopub.execute_input": "2024-01-20T08:13:47.696550Z",
     "iopub.status.busy": "2024-01-20T08:13:47.696055Z",
     "iopub.status.idle": "2024-01-20T08:13:47.709224Z",
     "shell.execute_reply": "2024-01-20T08:13:47.708026Z"
    },
    "papermill": {
     "duration": 0.031959,
     "end_time": "2024-01-20T08:13:47.711966",
     "exception": false,
     "start_time": "2024-01-20T08:13:47.680007",
     "status": "completed"
    },
    "tags": []
   },
   "outputs": [],
   "source": [
    "class PositionalEncoding(nn.Module):\n",
    "    def __init__(\n",
    "        self,\n",
    "        dmodel,\n",
    "        max_seq_length=5000,\n",
    "        pdropout=0.1,\n",
    "    ):\n",
    "        \"\"\"\n",
    "        dmodel(int): model dimensions\n",
    "        max_seq_length(int): Maximum input sequence length\n",
    "        pdropout(float): Dropout probability\n",
    "        \"\"\"\n",
    "        super().__init__()\n",
    "        self.dropout = nn.Dropout(p=pdropout)\n",
    "\n",
    "        # Calculate frequencies\n",
    "        position_ids = torch.arange(0, max_seq_length).unsqueeze(1)\n",
    "        # -ve sign is added because the exponents are inverted when you multiply position and frequencies\n",
    "        frequencies = torch.pow(\n",
    "            10000, -torch.arange(0, dmodel, 2, dtype=torch.float) / dmodel\n",
    "        )\n",
    "\n",
    "        # Create positional encoding table\n",
    "        positional_encoding_table = torch.zeros(max_seq_length, dmodel)\n",
    "        # Fill the table with even entries with sin and odd entries with cosine\n",
    "        positional_encoding_table[:, 0::2] = torch.sin(position_ids * frequencies)\n",
    "        positional_encoding_table[:, 1::2] = torch.cos(position_ids * frequencies)\n",
    "\n",
    "        # Registering the position enconding in state_dict but the its not included\n",
    "        # in named parameter as it is not trainable\n",
    "        self.register_buffer(\"positional_encoding_table\", positional_encoding_table)\n",
    "\n",
    "    def forward(self, embeddings_batch):\n",
    "        \"\"\"\n",
    "        embeddings_batch shape = (batch size, seq_length, dmodel)\n",
    "        positional_encoding_table shape = (max_seq_length, dmodel)\n",
    "        \"\"\"\n",
    "        assert (\n",
    "            embeddings_batch.ndim == 3\n",
    "        ), f\"Embeddings batch should have dimension of 3 but got {embeddings_batch.ndim}\"\n",
    "        assert (\n",
    "            embeddings_batch.size()[-1] == self.positional_encoding_table.size()[-1]\n",
    "        ), f\"Embedding batch shape and positional_encoding_table shape should match, expected Embedding batch shape : {embeddings_batch.shape[-1]} while positional_encoding_table shape : {positional_encoding_table[-1]}\"\n",
    "\n",
    "        # Get encodings for the given input sequence length\n",
    "        pos_encodings = self.positional_encoding_table[\n",
    "            : embeddings_batch.shape[1]\n",
    "        ]  # Choose only seq_length out of max_seq_length\n",
    "\n",
    "        # Final output\n",
    "        out = embeddings_batch + pos_encodings\n",
    "        out = self.dropout(out)\n",
    "        return out"
   ]
  },
  {
   "cell_type": "code",
   "execution_count": 17,
   "id": "02a7809f",
   "metadata": {
    "execution": {
     "iopub.execute_input": "2024-01-20T08:13:47.835703Z",
     "iopub.status.busy": "2024-01-20T08:13:47.835217Z",
     "iopub.status.idle": "2024-01-20T08:13:47.892081Z",
     "shell.execute_reply": "2024-01-20T08:13:47.890332Z"
    },
    "papermill": {
     "duration": 0.076064,
     "end_time": "2024-01-20T08:13:47.895013",
     "exception": false,
     "start_time": "2024-01-20T08:13:47.818949",
     "status": "completed"
    },
    "tags": []
   },
   "outputs": [
    {
     "name": "stdout",
     "output_type": "stream",
     "text": [
      "PositionalEncoding(\n",
      "  (dropout): Dropout(p=0.1, inplace=False)\n",
      ")\n"
     ]
    }
   ],
   "source": [
    "vocab_size = 100\n",
    "dmodel = dk * h\n",
    "net = PositionalEncoding(dmodel)\n",
    "print(net)\n",
    "# summary(net, input_size=(100, 512))  # Can't visualize since params are none"
   ]
  },
  {
   "cell_type": "markdown",
   "id": "58e7e024",
   "metadata": {
    "papermill": {
     "duration": 0.013925,
     "end_time": "2024-01-20T08:13:47.923548",
     "exception": false,
     "start_time": "2024-01-20T08:13:47.909623",
     "status": "completed"
    },
    "tags": []
   },
   "source": [
    "## Understanding positionwise FeedForward Network"
   ]
  },
  {
   "cell_type": "code",
   "execution_count": 18,
   "id": "38315c4d",
   "metadata": {
    "execution": {
     "iopub.execute_input": "2024-01-20T08:13:47.954146Z",
     "iopub.status.busy": "2024-01-20T08:13:47.953644Z",
     "iopub.status.idle": "2024-01-20T08:13:47.962207Z",
     "shell.execute_reply": "2024-01-20T08:13:47.961019Z"
    },
    "papermill": {
     "duration": 0.026868,
     "end_time": "2024-01-20T08:13:47.964712",
     "exception": false,
     "start_time": "2024-01-20T08:13:47.937844",
     "status": "completed"
    },
    "tags": []
   },
   "outputs": [],
   "source": [
    "class PositionwiseFeedForward(nn.Module):\n",
    "    def __init__(self, dmodel, dff, pdropout=0.1):\n",
    "        super().__init__()\n",
    "\n",
    "        self.dropout = nn.Dropout(p=pdropout)\n",
    "\n",
    "        self.W1 = nn.Linear(dmodel, dff)  # Intermediate layer\n",
    "        self.W2 = nn.Linear(dff, dmodel)  # Output layer\n",
    "\n",
    "        self.relu = nn.ReLU()\n",
    "\n",
    "    def forward(self, x):\n",
    "        \"\"\"\n",
    "        Perform Feedforward calculation\n",
    "\n",
    "        x shape = (B - batch size, S/T - max token sequence length, D- model dimension).\n",
    "        \"\"\"\n",
    "        out = self.W2(self.relu(self.dropout(self.W1(x))))\n",
    "        return out"
   ]
  },
  {
   "cell_type": "code",
   "execution_count": 19,
   "id": "175ed586",
   "metadata": {
    "execution": {
     "iopub.execute_input": "2024-01-20T08:13:47.996430Z",
     "iopub.status.busy": "2024-01-20T08:13:47.995429Z",
     "iopub.status.idle": "2024-01-20T08:13:48.037235Z",
     "shell.execute_reply": "2024-01-20T08:13:48.036014Z"
    },
    "papermill": {
     "duration": 0.060758,
     "end_time": "2024-01-20T08:13:48.040164",
     "exception": false,
     "start_time": "2024-01-20T08:13:47.979406",
     "status": "completed"
    },
    "tags": []
   },
   "outputs": [
    {
     "name": "stdout",
     "output_type": "stream",
     "text": [
      "PositionwiseFeedForward(\n",
      "  (dropout): Dropout(p=0.1, inplace=False)\n",
      "  (W1): Linear(in_features=512, out_features=2048, bias=True)\n",
      "  (W2): Linear(in_features=2048, out_features=512, bias=True)\n",
      "  (relu): ReLU()\n",
      ")\n",
      "----------------------------------------------------------------\n",
      "        Layer (type)               Output Shape         Param #\n",
      "================================================================\n",
      "            Linear-1              [-1, 2, 2048]       1,050,624\n",
      "           Dropout-2              [-1, 2, 2048]               0\n",
      "              ReLU-3              [-1, 2, 2048]               0\n",
      "            Linear-4               [-1, 2, 512]       1,049,088\n",
      "================================================================\n",
      "Total params: 2,099,712\n",
      "Trainable params: 2,099,712\n",
      "Non-trainable params: 0\n",
      "----------------------------------------------------------------\n",
      "Input size (MB): 0.00\n",
      "Forward/backward pass size (MB): 0.10\n",
      "Params size (MB): 8.01\n",
      "Estimated Total Size (MB): 8.12\n",
      "----------------------------------------------------------------\n"
     ]
    }
   ],
   "source": [
    "vocab_size = 100\n",
    "dmodel = dk * h\n",
    "dff = dmodel * 4\n",
    "net = PositionwiseFeedForward(dmodel, dff)\n",
    "print(net)\n",
    "summary(net, input_size=(2, 512))"
   ]
  },
  {
   "cell_type": "markdown",
   "id": "d8f24e2b",
   "metadata": {
    "papermill": {
     "duration": 0.014078,
     "end_time": "2024-01-20T08:13:48.068902",
     "exception": false,
     "start_time": "2024-01-20T08:13:48.054824",
     "status": "completed"
    },
    "tags": []
   },
   "source": [
    "## Understanding Encoder model"
   ]
  },
  {
   "cell_type": "code",
   "execution_count": 20,
   "id": "68ce482a",
   "metadata": {
    "execution": {
     "iopub.execute_input": "2024-01-20T08:13:48.099982Z",
     "iopub.status.busy": "2024-01-20T08:13:48.099528Z",
     "iopub.status.idle": "2024-01-20T08:13:48.117301Z",
     "shell.execute_reply": "2024-01-20T08:13:48.116110Z"
    },
    "papermill": {
     "duration": 0.036319,
     "end_time": "2024-01-20T08:13:48.119652",
     "exception": false,
     "start_time": "2024-01-20T08:13:48.083333",
     "status": "completed"
    },
    "tags": []
   },
   "outputs": [],
   "source": [
    "class MultiHeadAttention(nn.Module):\n",
    "    \"\"\"\n",
    "    We can refer to the following blog to understand in depth about the transformer and MHA\n",
    "    https://medium.com/@hunter-j-phillips/multi-head-attention-7924371d477a\n",
    "\n",
    "    Here we are clubbing all the linear layers together and duplicating the inputs and\n",
    "    then performing matrix multiplications\n",
    "    \"\"\"\n",
    "\n",
    "    def __init__(self, dk, dv, h):\n",
    "        \"\"\"\n",
    "        Input Args:\n",
    "\n",
    "        dk(int): Key dimensions used for generating Key weight matrix\n",
    "        dv(int): Val dimensions used for generating val weight matrix\n",
    "        h(int) : Number of heads in MHA\n",
    "        \"\"\"\n",
    "        super().__init__()\n",
    "        assert dk == dv\n",
    "        self.dk = dk\n",
    "        self.dv = dv\n",
    "        self.h = h\n",
    "        self.dmodel = self.dk * self.h  # model dimension\n",
    "\n",
    "        # Add the params in modulelist as the params in the conv list needs to be tracked\n",
    "        # wq, wk, wv -> multiple linear weights for the number of heads\n",
    "        self.WQ = nn.Linear(self.dmodel, self.dmodel)  # shape -> (dmodel, dmodel)\n",
    "        self.WK = nn.Linear(self.dmodel, self.dmodel)  # shape -> (dmodel, dmodel)\n",
    "        self.WV = nn.Linear(self.dmodel, self.dmodel)  # shape -> (dmodel, dmodel)\n",
    "        # Output Weights\n",
    "        self.WO = nn.Linear(self.h * self.dv, self.dmodel)  # shape -> (dmodel, dmodel)\n",
    "        self.softmax = nn.Softmax(dim=-1)\n",
    "\n",
    "    def forward(self, query, key, val, mask=None):\n",
    "        \"\"\"\n",
    "        Forward pass for MHA\n",
    "\n",
    "        X has a size of (batch_size, seq_length, d_model)\n",
    "        Wq, Wk, and Wv have a size of (d_model, d_model)\n",
    "\n",
    "        Perform Scaled Dot Product Attention on multi head attention.\n",
    "\n",
    "        Notation: B - batch size, S/T - max src/trg token-sequence length\n",
    "        query shape = (B, S, dmodel)\n",
    "        key shape = (B, S, dmodel)\n",
    "        val shape = (B, S, dmodel)\n",
    "        \"\"\"\n",
    "        # Weight the queries\n",
    "        Q = self.WQ(query)  # shape -> (B, S, dmodel)\n",
    "        K = self.WK(key)  # shape -> (B, S, dmodel)\n",
    "        V = self.WV(val)  # shape -> (B, S, dmodel)\n",
    "\n",
    "        # Separate last dimension to number of head and dk\n",
    "        batch_size = Q.size(0)\n",
    "        Q = Q.view(batch_size, -1, self.h, self.dk)  # shape -> (B, S, h, dk)\n",
    "        K = K.view(batch_size, -1, self.h, self.dk)  # shape -> (B, S, h, dk)\n",
    "        V = V.view(batch_size, -1, self.h, self.dk)  # shape -> (B, S, h, dk)\n",
    "\n",
    "        # each sequence is split across n_heads, with each head receiving seq_length tokens\n",
    "        # with d_key elements in each token instead of d_model.\n",
    "        Q = Q.permute(0, 2, 1, 3)  # shape -> (B, h, S, dk)\n",
    "        K = K.permute(0, 2, 1, 3)  # shape -> (B, h, S, dk)\n",
    "        V = V.permute(0, 2, 1, 3)  # shape -> (B, h, S, dk)\n",
    "\n",
    "        # dot product of Q and K\n",
    "        scaled_dot_product = torch.matmul(Q, K.permute(0, 1, 3, 2)) / math.sqrt(self.dk)\n",
    "\n",
    "        # fill those positions of product as (-1e10) where mask positions are 0\n",
    "        if mask is not None:\n",
    "            scaled_dot_product = scaled_dot_product.masked_fill(mask == 0, -1e10)\n",
    "\n",
    "        scaled_dot_product = self.softmax(scaled_dot_product)\n",
    "        attention_prob = scaled_dot_product\n",
    "\n",
    "        # Create head\n",
    "        head = torch.matmul(\n",
    "            scaled_dot_product, V\n",
    "        )  # shape -> (B, h, S, S) * (B, h, S, dk) = (B, h, S, dk)\n",
    "        # Prepare the head to pass it through output linear layer\n",
    "        head = head.permute(0, 2, 1, 3).contiguous()  # shape -> (B, S, h, dk)\n",
    "        # Concatenate the head together\n",
    "        head = head.view(\n",
    "            batch_size, -1, self.h * self.dk\n",
    "        )  # shape -> (B, S, (h*dk = dmodel))\n",
    "        # Pass through output layer\n",
    "        token_representation = self.WO(head)\n",
    "        return token_representation, attention_prob"
   ]
  },
  {
   "cell_type": "code",
   "execution_count": 21,
   "id": "a465eae9",
   "metadata": {
    "execution": {
     "iopub.execute_input": "2024-01-20T08:13:48.151541Z",
     "iopub.status.busy": "2024-01-20T08:13:48.151058Z",
     "iopub.status.idle": "2024-01-20T08:13:48.162633Z",
     "shell.execute_reply": "2024-01-20T08:13:48.161533Z"
    },
    "papermill": {
     "duration": 0.030223,
     "end_time": "2024-01-20T08:13:48.165042",
     "exception": false,
     "start_time": "2024-01-20T08:13:48.134819",
     "status": "completed"
    },
    "tags": []
   },
   "outputs": [],
   "source": [
    "class EncoderLayer(nn.Module):\n",
    "    \"\"\"\n",
    "    This building block in the encoder layer consists of the following\n",
    "    1. MultiHead Attention\n",
    "    2. Sublayer Logic\n",
    "    3. Positional FeedForward Network\n",
    "    \"\"\"\n",
    "\n",
    "    def __init__(self, dk, dv, h, dim_multiplier=4, pdropout=0.1):\n",
    "        super().__init__()\n",
    "        self.attention = MultiHeadAttention(dk, dv, h)\n",
    "        # Reference page 5 chapter 3.2.2 Multi-head attention\n",
    "        dmodel = dk * h\n",
    "        # Reference page 5 chapter 3.3 positionwise FeedForward\n",
    "        dff = dmodel * dim_multiplier\n",
    "        self.attn_norm = nn.LayerNorm(dmodel)\n",
    "        self.ff = PositionwiseFeedForward(dmodel, dff, pdropout=pdropout)\n",
    "        self.ff_norm = nn.LayerNorm(dmodel)\n",
    "\n",
    "        self.dropout = nn.Dropout(p=pdropout)\n",
    "\n",
    "    def forward(self, src_inputs, src_mask=None):\n",
    "        \"\"\"\n",
    "        Forward pass as per page 3 chapter 3.1\n",
    "        \"\"\"\n",
    "        mha_out, attention_wts = self.attention(\n",
    "            query=src_inputs, key=src_inputs, val=src_inputs, mask=src_mask\n",
    "        )\n",
    "\n",
    "        # Residual connection between input and sublayer output, details: Page 7, Chapter 5.4 \"Regularization\",\n",
    "        # Actual paper design is the following\n",
    "        intermediate_out = self.attn_norm(src_inputs + self.dropout(mha_out))\n",
    "\n",
    "        pff_out = self.ff(intermediate_out)\n",
    "\n",
    "        # Perform Add Norm again\n",
    "        out = self.ff_norm(intermediate_out + self.dropout(pff_out))\n",
    "        return out, attention_wts"
   ]
  },
  {
   "cell_type": "code",
   "execution_count": 22,
   "id": "3d2529fe",
   "metadata": {
    "execution": {
     "iopub.execute_input": "2024-01-20T08:13:48.197015Z",
     "iopub.status.busy": "2024-01-20T08:13:48.196378Z",
     "iopub.status.idle": "2024-01-20T08:13:48.244278Z",
     "shell.execute_reply": "2024-01-20T08:13:48.243403Z"
    },
    "papermill": {
     "duration": 0.067044,
     "end_time": "2024-01-20T08:13:48.246937",
     "exception": false,
     "start_time": "2024-01-20T08:13:48.179893",
     "status": "completed"
    },
    "tags": []
   },
   "outputs": [
    {
     "name": "stdout",
     "output_type": "stream",
     "text": [
      "EncoderLayer(\n",
      "  (attention): MultiHeadAttention(\n",
      "    (WQ): Linear(in_features=512, out_features=512, bias=True)\n",
      "    (WK): Linear(in_features=512, out_features=512, bias=True)\n",
      "    (WV): Linear(in_features=512, out_features=512, bias=True)\n",
      "    (WO): Linear(in_features=512, out_features=512, bias=True)\n",
      "    (softmax): Softmax(dim=-1)\n",
      "  )\n",
      "  (attn_norm): LayerNorm((512,), eps=1e-05, elementwise_affine=True)\n",
      "  (ff): PositionwiseFeedForward(\n",
      "    (dropout): Dropout(p=0.1, inplace=False)\n",
      "    (W1): Linear(in_features=512, out_features=2048, bias=True)\n",
      "    (W2): Linear(in_features=2048, out_features=512, bias=True)\n",
      "    (relu): ReLU()\n",
      "  )\n",
      "  (ff_norm): LayerNorm((512,), eps=1e-05, elementwise_affine=True)\n",
      "  (dropout): Dropout(p=0.1, inplace=False)\n",
      ")\n"
     ]
    }
   ],
   "source": [
    "dk = 64\n",
    "dv = 64\n",
    "h = 8\n",
    "net = EncoderLayer(dk, dv, h)\n",
    "print(net)\n",
    "# summary(net, input_size=(2, 512), device=\"cpu\")"
   ]
  },
  {
   "cell_type": "code",
   "execution_count": 23,
   "id": "80d7210b",
   "metadata": {
    "execution": {
     "iopub.execute_input": "2024-01-20T08:13:48.279543Z",
     "iopub.status.busy": "2024-01-20T08:13:48.278140Z",
     "iopub.status.idle": "2024-01-20T08:13:48.286917Z",
     "shell.execute_reply": "2024-01-20T08:13:48.285762Z"
    },
    "papermill": {
     "duration": 0.027731,
     "end_time": "2024-01-20T08:13:48.289475",
     "exception": false,
     "start_time": "2024-01-20T08:13:48.261744",
     "status": "completed"
    },
    "tags": []
   },
   "outputs": [],
   "source": [
    "class Encoder(nn.Module):\n",
    "    def __init__(self, dk, dv, h, num_encoders, dim_multiplier=4, pdropout=0.1):\n",
    "        super().__init__()\n",
    "        self.encoder_layers = nn.ModuleList(\n",
    "            [\n",
    "                EncoderLayer(dk, dv, h, dim_multiplier, pdropout)\n",
    "                for _ in range(num_encoders)\n",
    "            ]\n",
    "        )\n",
    "\n",
    "    def forward(self, src_inputs, src_mask=None):\n",
    "        \"\"\"\n",
    "        Input from the Embedding layer\n",
    "        src_inputs = (B - batch size, S/T - max token sequence length, D- model dimension)\n",
    "        \"\"\"\n",
    "        src_representation = src_inputs\n",
    "\n",
    "        # Forward pass through encoder stack\n",
    "        for enc in self.encoder_layers:\n",
    "            src_representation, attention_wts = enc(src_representation, src_mask)\n",
    "\n",
    "        self.attention_wts = attention_wts\n",
    "        return src_representation"
   ]
  },
  {
   "cell_type": "code",
   "execution_count": 24,
   "id": "a9daa2d7",
   "metadata": {
    "execution": {
     "iopub.execute_input": "2024-01-20T08:13:48.321740Z",
     "iopub.status.busy": "2024-01-20T08:13:48.321178Z",
     "iopub.status.idle": "2024-01-20T08:13:48.563623Z",
     "shell.execute_reply": "2024-01-20T08:13:48.562360Z"
    },
    "papermill": {
     "duration": 0.262255,
     "end_time": "2024-01-20T08:13:48.566601",
     "exception": false,
     "start_time": "2024-01-20T08:13:48.304346",
     "status": "completed"
    },
    "tags": []
   },
   "outputs": [
    {
     "name": "stdout",
     "output_type": "stream",
     "text": [
      "Encoder(\n",
      "  (encoder_layers): ModuleList(\n",
      "    (0-5): 6 x EncoderLayer(\n",
      "      (attention): MultiHeadAttention(\n",
      "        (WQ): Linear(in_features=512, out_features=512, bias=True)\n",
      "        (WK): Linear(in_features=512, out_features=512, bias=True)\n",
      "        (WV): Linear(in_features=512, out_features=512, bias=True)\n",
      "        (WO): Linear(in_features=512, out_features=512, bias=True)\n",
      "        (softmax): Softmax(dim=-1)\n",
      "      )\n",
      "      (attn_norm): LayerNorm((512,), eps=1e-05, elementwise_affine=True)\n",
      "      (ff): PositionwiseFeedForward(\n",
      "        (dropout): Dropout(p=0.1, inplace=False)\n",
      "        (W1): Linear(in_features=512, out_features=2048, bias=True)\n",
      "        (W2): Linear(in_features=2048, out_features=512, bias=True)\n",
      "        (relu): ReLU()\n",
      "      )\n",
      "      (ff_norm): LayerNorm((512,), eps=1e-05, elementwise_affine=True)\n",
      "      (dropout): Dropout(p=0.1, inplace=False)\n",
      "    )\n",
      "  )\n",
      ")\n"
     ]
    }
   ],
   "source": [
    "dk = 64\n",
    "dv = 64\n",
    "h = 8\n",
    "num_encoders = 6\n",
    "dim_multiplier = 4\n",
    "pdropout = 0.1\n",
    "net = Encoder(dk, dv, h, num_encoders, dim_multiplier, pdropout)\n",
    "print(net)\n",
    "# summary(net, input_size=(2, 512), device=\"cpu\")"
   ]
  },
  {
   "cell_type": "markdown",
   "id": "a9565c00",
   "metadata": {
    "papermill": {
     "duration": 0.014388,
     "end_time": "2024-01-20T08:13:48.595772",
     "exception": false,
     "start_time": "2024-01-20T08:13:48.581384",
     "status": "completed"
    },
    "tags": []
   },
   "source": [
    "## Understanding Decoder Model"
   ]
  },
  {
   "cell_type": "code",
   "execution_count": 25,
   "id": "408e244b",
   "metadata": {
    "execution": {
     "iopub.execute_input": "2024-01-20T08:13:48.628486Z",
     "iopub.status.busy": "2024-01-20T08:13:48.627176Z",
     "iopub.status.idle": "2024-01-20T08:13:48.640471Z",
     "shell.execute_reply": "2024-01-20T08:13:48.639588Z"
    },
    "papermill": {
     "duration": 0.032393,
     "end_time": "2024-01-20T08:13:48.642920",
     "exception": false,
     "start_time": "2024-01-20T08:13:48.610527",
     "status": "completed"
    },
    "tags": []
   },
   "outputs": [],
   "source": [
    "class DecoderLayer(nn.Module):\n",
    "    def __init__(self, dk, dv, h, dim_multiplier=4, pdropout=0.1):\n",
    "        super().__init__()\n",
    "\n",
    "        # Reference page 5 chapter 3.2.2 Multi-head attention\n",
    "        dmodel = dk * h\n",
    "        # Reference page 5 chapter 3.3 positionwise FeedForward\n",
    "        dff = dmodel * dim_multiplier\n",
    "\n",
    "        # Masked Multi Head Attention\n",
    "        self.masked_attention = MultiHeadAttention(dk, dv, h)\n",
    "        self.masked_attn_norm = nn.LayerNorm(dmodel)\n",
    "\n",
    "        # Multi head attention\n",
    "        self.attention = MultiHeadAttention(dk, dv, h)\n",
    "        self.attn_norm = nn.LayerNorm(dmodel)\n",
    "\n",
    "        # Add position FeedForward Network\n",
    "        self.ff = PositionwiseFeedForward(dmodel, dff, pdropout=pdropout)\n",
    "        self.ff_norm = nn.LayerNorm(dmodel)\n",
    "\n",
    "        self.dropout = nn.Dropout(p=pdropout)\n",
    "\n",
    "    def forward(self, target_inputs, src_inputs, target_mask, src_mask):\n",
    "        \"\"\"\n",
    "        Input from the Embedding layer\n",
    "        target_inputs = embedded sequences    (batch_size, trg_seq_length, d_model)\n",
    "        src_inputs = embedded sequences       (batch_size, src_seq_length, d_model)\n",
    "        target_mask = mask for the sequences  (batch_size, 1, trg_seq_length, trg_seq_length)\n",
    "        src_mask = mask for the sequences     (batch_size, 1, 1, src_seq_length)\n",
    "        \"\"\"\n",
    "        mmha_out, attention_wts = self.masked_attention(\n",
    "            query=target_inputs, key=target_inputs, val=target_inputs, mask=target_mask\n",
    "        )\n",
    "\n",
    "        # Residual connection between input and sublayer output, details: Page 7, Chapter 5.4 \"Regularization\",\n",
    "        # Actual paper design is the following\n",
    "        target_inputs = self.masked_attn_norm(target_inputs + self.dropout(mmha_out))\n",
    "\n",
    "        # Inputs to the decoder attention is given as follows\n",
    "        # query = previous decoder layer\n",
    "        # key and val = output of encoder\n",
    "        # mask = src_mask\n",
    "        # Reference : page 5 chapter 3.2.3 point 1\n",
    "        mha_out, attention_wts = self.attention(\n",
    "            query=target_inputs, key=src_inputs, val=src_inputs, mask=src_mask\n",
    "        )\n",
    "        target_inputs = self.attn_norm(target_inputs + self.dropout(mha_out))\n",
    "\n",
    "        pff_out = self.ff(target_inputs)\n",
    "        # Perform Add Norm again\n",
    "        out = self.ff_norm(target_inputs + self.dropout(pff_out))\n",
    "        return out, attention_wts"
   ]
  },
  {
   "cell_type": "code",
   "execution_count": 26,
   "id": "6b1adb0a",
   "metadata": {
    "execution": {
     "iopub.execute_input": "2024-01-20T08:13:48.675056Z",
     "iopub.status.busy": "2024-01-20T08:13:48.674368Z",
     "iopub.status.idle": "2024-01-20T08:13:48.726488Z",
     "shell.execute_reply": "2024-01-20T08:13:48.725246Z"
    },
    "papermill": {
     "duration": 0.07129,
     "end_time": "2024-01-20T08:13:48.729027",
     "exception": false,
     "start_time": "2024-01-20T08:13:48.657737",
     "status": "completed"
    },
    "tags": []
   },
   "outputs": [
    {
     "name": "stdout",
     "output_type": "stream",
     "text": [
      "DecoderLayer(\n",
      "  (masked_attention): MultiHeadAttention(\n",
      "    (WQ): Linear(in_features=512, out_features=512, bias=True)\n",
      "    (WK): Linear(in_features=512, out_features=512, bias=True)\n",
      "    (WV): Linear(in_features=512, out_features=512, bias=True)\n",
      "    (WO): Linear(in_features=512, out_features=512, bias=True)\n",
      "    (softmax): Softmax(dim=-1)\n",
      "  )\n",
      "  (masked_attn_norm): LayerNorm((512,), eps=1e-05, elementwise_affine=True)\n",
      "  (attention): MultiHeadAttention(\n",
      "    (WQ): Linear(in_features=512, out_features=512, bias=True)\n",
      "    (WK): Linear(in_features=512, out_features=512, bias=True)\n",
      "    (WV): Linear(in_features=512, out_features=512, bias=True)\n",
      "    (WO): Linear(in_features=512, out_features=512, bias=True)\n",
      "    (softmax): Softmax(dim=-1)\n",
      "  )\n",
      "  (attn_norm): LayerNorm((512,), eps=1e-05, elementwise_affine=True)\n",
      "  (ff): PositionwiseFeedForward(\n",
      "    (dropout): Dropout(p=0.1, inplace=False)\n",
      "    (W1): Linear(in_features=512, out_features=2048, bias=True)\n",
      "    (W2): Linear(in_features=2048, out_features=512, bias=True)\n",
      "    (relu): ReLU()\n",
      "  )\n",
      "  (ff_norm): LayerNorm((512,), eps=1e-05, elementwise_affine=True)\n",
      "  (dropout): Dropout(p=0.1, inplace=False)\n",
      ")\n"
     ]
    }
   ],
   "source": [
    "dk = 64\n",
    "dv = 64\n",
    "h = 8\n",
    "net = DecoderLayer(dk, dv, h)\n",
    "print(net)\n",
    "# summary(net, input_size=(2, 512), device=\"cpu\")"
   ]
  },
  {
   "cell_type": "code",
   "execution_count": 27,
   "id": "1a50cff7",
   "metadata": {
    "execution": {
     "iopub.execute_input": "2024-01-20T08:13:48.761632Z",
     "iopub.status.busy": "2024-01-20T08:13:48.760502Z",
     "iopub.status.idle": "2024-01-20T08:13:48.769883Z",
     "shell.execute_reply": "2024-01-20T08:13:48.768753Z"
    },
    "papermill": {
     "duration": 0.028687,
     "end_time": "2024-01-20T08:13:48.772644",
     "exception": false,
     "start_time": "2024-01-20T08:13:48.743957",
     "status": "completed"
    },
    "tags": []
   },
   "outputs": [],
   "source": [
    "class Decoder(nn.Module):\n",
    "    def __init__(self, dk, dv, h, num_decoders, dim_multiplier=4, pdropout=0.1):\n",
    "        super().__init__()\n",
    "        self.decoder_layers = nn.ModuleList(\n",
    "            [\n",
    "                DecoderLayer(dk, dv, h, dim_multiplier, pdropout)\n",
    "                for _ in range(num_decoders)\n",
    "            ]\n",
    "        )\n",
    "\n",
    "    def forward(self, target_inputs, src_inputs, target_mask, src_mask):\n",
    "        \"\"\"\n",
    "        Input from the Embedding layer\n",
    "        target_inputs = embedded sequences    (batch_size, trg_seq_length, d_model)\n",
    "        src_inputs = embedded sequences       (batch_size, src_seq_length, d_model)\n",
    "        target_mask = mask for the sequences  (batch_size, 1, trg_seq_length, trg_seq_length)\n",
    "        src_mask = mask for the sequences     (batch_size, 1, 1, src_seq_length)\n",
    "        \"\"\"\n",
    "        target_representation = target_inputs\n",
    "\n",
    "        # Forward pass through decoder stack\n",
    "        for layer in self.decoder_layers:\n",
    "            target_representation = layer(\n",
    "                target_representation, src_inputs, target_mask, src_mask\n",
    "            )\n",
    "        return target_representation"
   ]
  },
  {
   "cell_type": "code",
   "execution_count": 28,
   "id": "28aa4868",
   "metadata": {
    "execution": {
     "iopub.execute_input": "2024-01-20T08:13:48.805524Z",
     "iopub.status.busy": "2024-01-20T08:13:48.804988Z",
     "iopub.status.idle": "2024-01-20T08:13:49.072066Z",
     "shell.execute_reply": "2024-01-20T08:13:49.070708Z"
    },
    "papermill": {
     "duration": 0.286974,
     "end_time": "2024-01-20T08:13:49.074831",
     "exception": false,
     "start_time": "2024-01-20T08:13:48.787857",
     "status": "completed"
    },
    "tags": []
   },
   "outputs": [
    {
     "name": "stdout",
     "output_type": "stream",
     "text": [
      "Decoder(\n",
      "  (decoder_layers): ModuleList(\n",
      "    (0-5): 6 x DecoderLayer(\n",
      "      (masked_attention): MultiHeadAttention(\n",
      "        (WQ): Linear(in_features=512, out_features=512, bias=True)\n",
      "        (WK): Linear(in_features=512, out_features=512, bias=True)\n",
      "        (WV): Linear(in_features=512, out_features=512, bias=True)\n",
      "        (WO): Linear(in_features=512, out_features=512, bias=True)\n",
      "        (softmax): Softmax(dim=-1)\n",
      "      )\n",
      "      (masked_attn_norm): LayerNorm((512,), eps=1e-05, elementwise_affine=True)\n",
      "      (attention): MultiHeadAttention(\n",
      "        (WQ): Linear(in_features=512, out_features=512, bias=True)\n",
      "        (WK): Linear(in_features=512, out_features=512, bias=True)\n",
      "        (WV): Linear(in_features=512, out_features=512, bias=True)\n",
      "        (WO): Linear(in_features=512, out_features=512, bias=True)\n",
      "        (softmax): Softmax(dim=-1)\n",
      "      )\n",
      "      (attn_norm): LayerNorm((512,), eps=1e-05, elementwise_affine=True)\n",
      "      (ff): PositionwiseFeedForward(\n",
      "        (dropout): Dropout(p=0.1, inplace=False)\n",
      "        (W1): Linear(in_features=512, out_features=2048, bias=True)\n",
      "        (W2): Linear(in_features=2048, out_features=512, bias=True)\n",
      "        (relu): ReLU()\n",
      "      )\n",
      "      (ff_norm): LayerNorm((512,), eps=1e-05, elementwise_affine=True)\n",
      "      (dropout): Dropout(p=0.1, inplace=False)\n",
      "    )\n",
      "  )\n",
      ")\n"
     ]
    }
   ],
   "source": [
    "dk = 64\n",
    "dv = 64\n",
    "h = 8\n",
    "num_decoders = 6\n",
    "dim_multiplier = 4\n",
    "pdropout = 0.1\n",
    "net = Decoder(dk, dv, h, num_decoders, dim_multiplier, pdropout)\n",
    "print(net)\n",
    "# summary(net, input_size=([[2, 10, 512], [2, 10, 512], [2, 1, 10, 10], [2, 1, 1, 10]]), device=\"cpu\")"
   ]
  },
  {
   "cell_type": "markdown",
   "id": "4087b0b1",
   "metadata": {
    "papermill": {
     "duration": 0.01484,
     "end_time": "2024-01-20T08:13:49.104735",
     "exception": false,
     "start_time": "2024-01-20T08:13:49.089895",
     "status": "completed"
    },
    "tags": []
   },
   "source": [
    "## Adding all up to construct the complete model for language translation"
   ]
  },
  {
   "cell_type": "code",
   "execution_count": 29,
   "id": "c175e3cc",
   "metadata": {
    "execution": {
     "iopub.execute_input": "2024-01-20T08:13:49.137182Z",
     "iopub.status.busy": "2024-01-20T08:13:49.136363Z",
     "iopub.status.idle": "2024-01-20T08:13:49.157006Z",
     "shell.execute_reply": "2024-01-20T08:13:49.156010Z"
    },
    "papermill": {
     "duration": 0.040279,
     "end_time": "2024-01-20T08:13:49.159844",
     "exception": false,
     "start_time": "2024-01-20T08:13:49.119565",
     "status": "completed"
    },
    "tags": []
   },
   "outputs": [],
   "source": [
    "class Transformer(nn.Module):\n",
    "    def __init__(\n",
    "        self,\n",
    "        dk,\n",
    "        dv,\n",
    "        h,\n",
    "        src_vocab_size,\n",
    "        target_vocab_size,\n",
    "        num_encoders,\n",
    "        num_decoders,\n",
    "        dim_multiplier=4,\n",
    "        pdropout=0.1,\n",
    "        device=\"cpu\",\n",
    "    ):\n",
    "        super().__init__()\n",
    "\n",
    "        dmodel = dk * h\n",
    "\n",
    "        # Modules required to build Encoder\n",
    "        self.src_embeddings = Embedding(src_vocab_size, dmodel)\n",
    "        self.src_positional_encoding = PositionalEncoding(\n",
    "            dmodel, max_seq_length=src_vocab_size, pdropout=pdropout\n",
    "        )\n",
    "        self.encoder = Encoder(\n",
    "            dk, dv, h, num_encoders, dim_multiplier=dim_multiplier, pdropout=pdropout\n",
    "        )\n",
    "\n",
    "        # Modules required to build Decoder\n",
    "        self.target_embeddings = Embedding(target_vocab_size, dmodel)\n",
    "        self.target_positional_encoding = PositionalEncoding(\n",
    "            dmodel, max_seq_length=target_vocab_size, pdropout=pdropout\n",
    "        )\n",
    "        self.decoder = Decoder(dk, dv, h, num_decoders, dim_multiplier=4, pdropout=0.1)\n",
    "\n",
    "        # Final output\n",
    "        self.linear = nn.Linear(dmodel, target_vocab_size)\n",
    "        self.softmax = nn.Softmax(dim=-1)\n",
    "        self.device = device\n",
    "        self.init_params()\n",
    "\n",
    "    # This part wasn't mentioned in the paper, but it's super important!\n",
    "    def init_params(self):\n",
    "        \"\"\"\n",
    "        xavier has tremendous impact! I didn't expect\n",
    "        that the model's perf, with normalization layers,\n",
    "        is so dependent on the choice of weight initialization.\n",
    "        \"\"\"\n",
    "        for name, p in self.named_parameters():\n",
    "            if p.dim() > 1:\n",
    "                nn.init.xavier_uniform_(p)\n",
    "\n",
    "    def make_src_mask(self, src, src_pad_idx):\n",
    "        \"\"\"\n",
    "        Args:\n",
    "            src: raw sequences with padding        (batch_size, seq_length)\n",
    "            src_pad_idx(int): index where the token need not be attended\n",
    "\n",
    "        Returns:\n",
    "            src_mask: mask for each sequence            (batch_size, 1, 1, seq_length)\n",
    "        \"\"\"\n",
    "        batch_size = src.shape[0]\n",
    "        # assign 1 to tokens that need attended to and 0 to padding tokens,\n",
    "        # then add 2 dimensions\n",
    "        src_mask = (src != src_pad_idx).view(batch_size, 1, 1, -1)\n",
    "        return src_mask\n",
    "\n",
    "    def make_target_mask(self, target, target_pad_idx):\n",
    "        \"\"\"\n",
    "        Args:\n",
    "            target:  raw sequences with padding        (batch_size, seq_length)\n",
    "            target_pad_idx(int): index where the token need not be attended\n",
    "\n",
    "        Returns:\n",
    "            target_mask: mask for each sequence   (batch_size, 1, seq_length, seq_length)\n",
    "        \"\"\"\n",
    "\n",
    "        seq_length = target.shape[1]\n",
    "        batch_size = target.shape[0]\n",
    "\n",
    "        # assign True to tokens that need attended to and False to padding tokens, then add 2 dimensions\n",
    "        target_mask = (trg != target_pad_idx).view(\n",
    "            batch_size, 1, 1, -1\n",
    "        )  # (batch_size, 1, 1, seq_length)\n",
    "\n",
    "        # generate subsequent mask\n",
    "        trg_sub_mask = torch.tril(\n",
    "            torch.ones((seq_length, seq_length), device=self.device)\n",
    "        ).bool()  # (batch_size, 1, seq_length, seq_length)\n",
    "\n",
    "        # bitwise \"and\" operator | 0 & 0 = 0, 1 & 1 = 1, 1 & 0 = 0\n",
    "        target_mask = target_mask & trg_sub_mask\n",
    "\n",
    "        return target_mask\n",
    "\n",
    "    def forward(\n",
    "        self, src_token_ids_batch, target_token_ids_batch, src_pad_idx, target_pad_idx\n",
    "    ):\n",
    "        # create source and target masks\n",
    "        src_mask = self.make_src_mask(\n",
    "            src_token_ids_batch, src_pad_idx\n",
    "        )  # (batch_size, 1, 1, src_seq_length)\n",
    "        target_mask = self.make_target_mask(\n",
    "            target_token_ids_batch, target_pad_idx\n",
    "        )  # (batch_size, 1, trg_seq_length, trg_seq_length)\n",
    "\n",
    "        # Create embeddings\n",
    "        src_representations = self.src_embeddings(src_token_ids_batch)\n",
    "        src_representations = self.src_positional_encoding(src_representations)\n",
    "\n",
    "        target_representations = self.target_embeddings(target_token_ids_batch)\n",
    "        target_representations = self.target_positional_encoding(target_representations)\n",
    "\n",
    "        # Encode\n",
    "        encoded_src = self.encoder(src_representations, src_mask)\n",
    "\n",
    "        # Decode\n",
    "        decoded_output = self.decoder(\n",
    "            target_representations, encoded_src, target_mask, src_mask\n",
    "        )\n",
    "\n",
    "        # Post processing\n",
    "        out = self.linear(decoded_output)\n",
    "        # Output\n",
    "        out = self.softmax(out)\n",
    "        return out"
   ]
  },
  {
   "cell_type": "code",
   "execution_count": 30,
   "id": "08fbe374",
   "metadata": {
    "execution": {
     "iopub.execute_input": "2024-01-20T08:13:49.193540Z",
     "iopub.status.busy": "2024-01-20T08:13:49.192603Z",
     "iopub.status.idle": "2024-01-20T08:13:50.196607Z",
     "shell.execute_reply": "2024-01-20T08:13:50.195381Z"
    },
    "papermill": {
     "duration": 1.024596,
     "end_time": "2024-01-20T08:13:50.199698",
     "exception": false,
     "start_time": "2024-01-20T08:13:49.175102",
     "status": "completed"
    },
    "tags": []
   },
   "outputs": [
    {
     "name": "stdout",
     "output_type": "stream",
     "text": [
      "Transformer(\n",
      "  (src_embeddings): Embedding(\n",
      "    (embedding_lookup): Embedding(1000, 512)\n",
      "  )\n",
      "  (src_positional_encoding): PositionalEncoding(\n",
      "    (dropout): Dropout(p=0.1, inplace=False)\n",
      "  )\n",
      "  (encoder): Encoder(\n",
      "    (encoder_layers): ModuleList(\n",
      "      (0-5): 6 x EncoderLayer(\n",
      "        (attention): MultiHeadAttention(\n",
      "          (WQ): Linear(in_features=512, out_features=512, bias=True)\n",
      "          (WK): Linear(in_features=512, out_features=512, bias=True)\n",
      "          (WV): Linear(in_features=512, out_features=512, bias=True)\n",
      "          (WO): Linear(in_features=512, out_features=512, bias=True)\n",
      "          (softmax): Softmax(dim=-1)\n",
      "        )\n",
      "        (attn_norm): LayerNorm((512,), eps=1e-05, elementwise_affine=True)\n",
      "        (ff): PositionwiseFeedForward(\n",
      "          (dropout): Dropout(p=0.1, inplace=False)\n",
      "          (W1): Linear(in_features=512, out_features=2048, bias=True)\n",
      "          (W2): Linear(in_features=2048, out_features=512, bias=True)\n",
      "          (relu): ReLU()\n",
      "        )\n",
      "        (ff_norm): LayerNorm((512,), eps=1e-05, elementwise_affine=True)\n",
      "        (dropout): Dropout(p=0.1, inplace=False)\n",
      "      )\n",
      "    )\n",
      "  )\n",
      "  (target_embeddings): Embedding(\n",
      "    (embedding_lookup): Embedding(1000, 512)\n",
      "  )\n",
      "  (target_positional_encoding): PositionalEncoding(\n",
      "    (dropout): Dropout(p=0.1, inplace=False)\n",
      "  )\n",
      "  (decoder): Decoder(\n",
      "    (decoder_layers): ModuleList(\n",
      "      (0-5): 6 x DecoderLayer(\n",
      "        (masked_attention): MultiHeadAttention(\n",
      "          (WQ): Linear(in_features=512, out_features=512, bias=True)\n",
      "          (WK): Linear(in_features=512, out_features=512, bias=True)\n",
      "          (WV): Linear(in_features=512, out_features=512, bias=True)\n",
      "          (WO): Linear(in_features=512, out_features=512, bias=True)\n",
      "          (softmax): Softmax(dim=-1)\n",
      "        )\n",
      "        (masked_attn_norm): LayerNorm((512,), eps=1e-05, elementwise_affine=True)\n",
      "        (attention): MultiHeadAttention(\n",
      "          (WQ): Linear(in_features=512, out_features=512, bias=True)\n",
      "          (WK): Linear(in_features=512, out_features=512, bias=True)\n",
      "          (WV): Linear(in_features=512, out_features=512, bias=True)\n",
      "          (WO): Linear(in_features=512, out_features=512, bias=True)\n",
      "          (softmax): Softmax(dim=-1)\n",
      "        )\n",
      "        (attn_norm): LayerNorm((512,), eps=1e-05, elementwise_affine=True)\n",
      "        (ff): PositionwiseFeedForward(\n",
      "          (dropout): Dropout(p=0.1, inplace=False)\n",
      "          (W1): Linear(in_features=512, out_features=2048, bias=True)\n",
      "          (W2): Linear(in_features=2048, out_features=512, bias=True)\n",
      "          (relu): ReLU()\n",
      "        )\n",
      "        (ff_norm): LayerNorm((512,), eps=1e-05, elementwise_affine=True)\n",
      "        (dropout): Dropout(p=0.1, inplace=False)\n",
      "      )\n",
      "    )\n",
      "  )\n",
      "  (linear): Linear(in_features=512, out_features=1000, bias=True)\n",
      "  (softmax): Softmax(dim=-1)\n",
      ")\n"
     ]
    }
   ],
   "source": [
    "dk = 64\n",
    "dv = 64\n",
    "h = 8\n",
    "src_vocab_size = 1000\n",
    "target_vocab_size = 1000\n",
    "num_encoders = 6\n",
    "num_decoders = 6\n",
    "dim_multiplier = 4\n",
    "pdropout = 0.1\n",
    "device = torch.device(\"cuda\" if torch.cuda.is_available() else \"cpu\")\n",
    "net = Transformer(\n",
    "    dk,\n",
    "    dv,\n",
    "    h,\n",
    "    src_vocab_size,\n",
    "    target_vocab_size,\n",
    "    num_encoders,\n",
    "    num_decoders,\n",
    "    dim_multiplier,\n",
    "    pdropout,\n",
    "    device=device,\n",
    ")\n",
    "print(net)"
   ]
  },
  {
   "cell_type": "code",
   "execution_count": null,
   "id": "0c387ed8",
   "metadata": {
    "papermill": {
     "duration": 0.015006,
     "end_time": "2024-01-20T08:13:50.230036",
     "exception": false,
     "start_time": "2024-01-20T08:13:50.215030",
     "status": "completed"
    },
    "tags": []
   },
   "outputs": [],
   "source": []
  }
 ],
 "metadata": {
  "kaggle": {
   "accelerator": "none",
   "dataSources": [],
   "dockerImageVersionId": 30635,
   "isGpuEnabled": false,
   "isInternetEnabled": true,
   "language": "python",
   "sourceType": "notebook"
  },
  "kernelspec": {
   "display_name": "Python 3",
   "language": "python",
   "name": "python3"
  },
  "language_info": {
   "codemirror_mode": {
    "name": "ipython",
    "version": 3
   },
   "file_extension": ".py",
   "mimetype": "text/x-python",
   "name": "python",
   "nbconvert_exporter": "python",
   "pygments_lexer": "ipython3",
   "version": "3.10.12"
  },
  "papermill": {
   "default_parameters": {},
   "duration": 30.042898,
   "end_time": "2024-01-20T08:13:51.572789",
   "environment_variables": {},
   "exception": null,
   "input_path": "__notebook__.ipynb",
   "output_path": "__notebook__.ipynb",
   "parameters": {},
   "start_time": "2024-01-20T08:13:21.529891",
   "version": "2.4.0"
  }
 },
 "nbformat": 4,
 "nbformat_minor": 5
}
