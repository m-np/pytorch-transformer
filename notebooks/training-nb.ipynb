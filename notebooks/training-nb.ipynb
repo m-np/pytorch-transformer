{
 "cells": [
  {
   "cell_type": "markdown",
   "id": "f966cafc",
   "metadata": {
    "_cell_guid": "b1076dfc-b9ad-4769-8c92-a6c4dae69d19",
    "_uuid": "8f2839f25d086af736a60e9eeb907d3b93b6e0e5",
    "papermill": {
     "duration": 0.0089,
     "end_time": "2024-01-19T11:39:32.759980",
     "exception": false,
     "start_time": "2024-01-19T11:39:32.751080",
     "status": "completed"
    },
    "tags": []
   },
   "source": [
    "# Training Notebook\n",
    "\n",
    "Library Imports for the jupyter notebook"
   ]
  },
  {
   "cell_type": "code",
   "execution_count": 1,
   "id": "0d04829c",
   "metadata": {
    "execution": {
     "iopub.execute_input": "2024-01-19T11:39:32.779165Z",
     "iopub.status.busy": "2024-01-19T11:39:32.778715Z",
     "iopub.status.idle": "2024-01-19T11:39:32.791176Z",
     "shell.execute_reply": "2024-01-19T11:39:32.790213Z"
    },
    "papermill": {
     "duration": 0.025043,
     "end_time": "2024-01-19T11:39:32.794006",
     "exception": false,
     "start_time": "2024-01-19T11:39:32.768963",
     "status": "completed"
    },
    "tags": []
   },
   "outputs": [],
   "source": [
    "import os   # miscellaneous os interfaces\n",
    "import sys  # configuring python runtime environment\n",
    "import time # library for time manipulation, and logging"
   ]
  },
  {
   "cell_type": "code",
   "execution_count": 2,
   "id": "d59df69e",
   "metadata": {
    "execution": {
     "iopub.execute_input": "2024-01-19T11:39:32.814120Z",
     "iopub.status.busy": "2024-01-19T11:39:32.813476Z",
     "iopub.status.idle": "2024-01-19T11:39:32.817515Z",
     "shell.execute_reply": "2024-01-19T11:39:32.816613Z"
    },
    "papermill": {
     "duration": 0.01704,
     "end_time": "2024-01-19T11:39:32.819850",
     "exception": false,
     "start_time": "2024-01-19T11:39:32.802810",
     "status": "completed"
    },
    "tags": []
   },
   "outputs": [],
   "source": [
    "# use `datetime` to control and preceive the environment\n",
    "# in addition `pandas` also provides date time functionalities\n",
    "import datetime as dt"
   ]
  },
  {
   "cell_type": "code",
   "execution_count": 3,
   "id": "d8b20104",
   "metadata": {
    "execution": {
     "iopub.execute_input": "2024-01-19T11:39:32.838523Z",
     "iopub.status.busy": "2024-01-19T11:39:32.837909Z",
     "iopub.status.idle": "2024-01-19T11:39:32.847730Z",
     "shell.execute_reply": "2024-01-19T11:39:32.846516Z"
    },
    "papermill": {
     "duration": 0.02243,
     "end_time": "2024-01-19T11:39:32.850576",
     "exception": false,
     "start_time": "2024-01-19T11:39:32.828146",
     "status": "completed"
    },
    "tags": []
   },
   "outputs": [],
   "source": [
    "from copy import deepcopy      # dataframe is mutable\n",
    "from tqdm import tqdm     # progress bar for loops\n",
    "from uuid import uuid4 as UUID # unique identifier for objs"
   ]
  },
  {
   "cell_type": "code",
   "execution_count": 4,
   "id": "aba142b4",
   "metadata": {
    "execution": {
     "iopub.execute_input": "2024-01-19T11:39:32.869550Z",
     "iopub.status.busy": "2024-01-19T11:39:32.869099Z",
     "iopub.status.idle": "2024-01-19T11:39:32.874038Z",
     "shell.execute_reply": "2024-01-19T11:39:32.872984Z"
    },
    "papermill": {
     "duration": 0.017246,
     "end_time": "2024-01-19T11:39:32.876316",
     "exception": false,
     "start_time": "2024-01-19T11:39:32.859070",
     "status": "completed"
    },
    "tags": []
   },
   "outputs": [],
   "source": [
    "import numpy as np\n",
    "import matplotlib.pyplot as plt"
   ]
  },
  {
   "cell_type": "code",
   "execution_count": 5,
   "id": "1849dd57",
   "metadata": {
    "execution": {
     "iopub.execute_input": "2024-01-19T11:39:32.895325Z",
     "iopub.status.busy": "2024-01-19T11:39:32.894577Z",
     "iopub.status.idle": "2024-01-19T11:39:49.171051Z",
     "shell.execute_reply": "2024-01-19T11:39:49.169580Z"
    },
    "papermill": {
     "duration": 16.289118,
     "end_time": "2024-01-19T11:39:49.173977",
     "exception": false,
     "start_time": "2024-01-19T11:39:32.884859",
     "status": "completed"
    },
    "tags": []
   },
   "outputs": [
    {
     "name": "stdout",
     "output_type": "stream",
     "text": [
      "Collecting torchsummary\r\n",
      "  Downloading torchsummary-1.5.1-py3-none-any.whl (2.8 kB)\r\n",
      "Installing collected packages: torchsummary\r\n",
      "Successfully installed torchsummary-1.5.1\r\n"
     ]
    }
   ],
   "source": [
    "!pip install torchsummary"
   ]
  },
  {
   "cell_type": "code",
   "execution_count": 6,
   "id": "33d58f3a",
   "metadata": {
    "execution": {
     "iopub.execute_input": "2024-01-19T11:39:49.193736Z",
     "iopub.status.busy": "2024-01-19T11:39:49.193316Z",
     "iopub.status.idle": "2024-01-19T11:39:53.675311Z",
     "shell.execute_reply": "2024-01-19T11:39:53.674012Z"
    },
    "papermill": {
     "duration": 4.495356,
     "end_time": "2024-01-19T11:39:53.678428",
     "exception": false,
     "start_time": "2024-01-19T11:39:49.183072",
     "status": "completed"
    },
    "tags": []
   },
   "outputs": [],
   "source": [
    "import torch\n",
    "import torch.nn as nn\n",
    "import torch.optim as optim\n",
    "import torch.nn.functional as F\n",
    "import torchvision.transforms as transforms\n",
    "\n",
    "from torchinfo import summary\n",
    "from torch.utils.data import DataLoader\n",
    "from torchsummary import summary"
   ]
  },
  {
   "cell_type": "code",
   "execution_count": 7,
   "id": "bed48676",
   "metadata": {
    "execution": {
     "iopub.execute_input": "2024-01-19T11:39:53.698301Z",
     "iopub.status.busy": "2024-01-19T11:39:53.697661Z",
     "iopub.status.idle": "2024-01-19T11:39:53.703316Z",
     "shell.execute_reply": "2024-01-19T11:39:53.702213Z"
    },
    "papermill": {
     "duration": 0.01864,
     "end_time": "2024-01-19T11:39:53.706085",
     "exception": false,
     "start_time": "2024-01-19T11:39:53.687445",
     "status": "completed"
    },
    "tags": []
   },
   "outputs": [],
   "source": [
    "import math"
   ]
  },
  {
   "cell_type": "markdown",
   "id": "29d56241",
   "metadata": {
    "papermill": {
     "duration": 0.008793,
     "end_time": "2024-01-19T11:39:53.724621",
     "exception": false,
     "start_time": "2024-01-19T11:39:53.715828",
     "status": "completed"
    },
    "tags": []
   },
   "source": [
    "## Building model\n",
    "\n",
    "Create a transformer model from the original [transformer paper](https://arxiv.org/abs/1706.03762)\n",
    "\n",
    "Lets start the build by understanding the fundamental block of transformers and build the entire model from here\n",
    "\n",
    "### Understanding Multi Head Attention (MHA)"
   ]
  },
  {
   "cell_type": "code",
   "execution_count": 8,
   "id": "6001150a",
   "metadata": {
    "execution": {
     "iopub.execute_input": "2024-01-19T11:39:53.744291Z",
     "iopub.status.busy": "2024-01-19T11:39:53.743861Z",
     "iopub.status.idle": "2024-01-19T11:39:53.759904Z",
     "shell.execute_reply": "2024-01-19T11:39:53.758727Z"
    },
    "papermill": {
     "duration": 0.02874,
     "end_time": "2024-01-19T11:39:53.762213",
     "exception": false,
     "start_time": "2024-01-19T11:39:53.733473",
     "status": "completed"
    },
    "tags": []
   },
   "outputs": [],
   "source": [
    "class UnoptimizedMultiHeadAttention(nn.Module):\n",
    "    \"\"\"\n",
    "    We can refer to the following blog to understand in depth about the transformer and MHA\n",
    "    https://jalammar.github.io/illustrated-transformer/\n",
    "    \"\"\"\n",
    "    def __init__(self, dk, dv, h):\n",
    "        \"\"\"\n",
    "        Input Args:\n",
    "        \n",
    "        dk(int): Key dimensions used for generating Key weight matrix\n",
    "        dv(int): Val dimensions used for generating val weight matrix\n",
    "        h(int) : Number of heads in MHA\n",
    "        \"\"\"\n",
    "        super().__init__()\n",
    "        assert dk == dv\n",
    "        self.dk = dk\n",
    "        self.dv = dv\n",
    "        self.h = h\n",
    "        self.dmodel = self.dk * self.h  # model dimension\n",
    "        \n",
    "        # Add the params in modulelist as the params in the conv list needs to be tracked\n",
    "        # wq, wk, wv -> multiple linear weights for the number of heads\n",
    "        self.WQ = nn.ModuleList([nn.Linear(self.dmodel, self.dk) for _ in range(self.h)]) # shape -> (dmodel, dk)\n",
    "        self.WK = nn.ModuleList([nn.Linear(self.dmodel, self.dk) for _ in range(self.h)]) # shape -> (dmodel, dk)\n",
    "        self.WV = nn.ModuleList([nn.Linear(self.dmodel, self.dv) for _ in range(self.h)]) # shape -> (dmodel, dv)\n",
    "        # Output Weights\n",
    "        self.WO = nn.Linear(self.h*self.dv, self.dmodel)  # shape -> (dmodel, dmodel)\n",
    "        \n",
    "#         self.attention_dropout = nn.Dropout(p=dropout_probability)\n",
    "        self.softmax = nn.Softmax(dim=-1)\n",
    "        \n",
    "    def attention(self, query, key, val):\n",
    "        \"\"\"\n",
    "        Perform Scaled Dot Product Attention on multi head attention. \n",
    "        \n",
    "        Notation: B - batch size, S/T - max src/trg token-sequence length\n",
    "        query shape = (B, dmodel, S/T)\n",
    "        key shape = (B, dmodel, S/T)\n",
    "        val shape = (B, dmodel, S/T)\n",
    "        \"\"\"\n",
    "        head = []\n",
    "        # Create multiple heads using SDP\n",
    "        for i in range(self.h):\n",
    "            Q = self.WQ[i](query) # shape -> (B, 1, dk)\n",
    "            K = self.WK[i](key)   # shape -> (B, 1, dk)\n",
    "            V = self.WV[i](val)   # shape -> (B, 1, dv)\n",
    "            score = torch.matmul(Q, K.transpose(-2, -1)) / math.sqrt(self.dk) # shape -> (B, 1, 1)\n",
    "            score = self.softmax(score)\n",
    "            H = torch.matmul(score, V) # V Transpose not needed here as per the paper shape -> (B, 1, dk)\n",
    "            head.append(H)\n",
    "        return head\n",
    "            \n",
    "    def forward(self, x):\n",
    "        \"\"\"\n",
    "        Forward pass for MHA\n",
    "        \"\"\"\n",
    "        query = key = val = x # For visualization we use the same input for all shape = (B, 1, dmodel)\n",
    "        # Calculate multi head attentions for Q, K, V\n",
    "        head = self.attention(query, key, val)\n",
    "        # Concatenate multiple head along dim 1 as head shape = [B x 1 x dk]xh\n",
    "        # therefore resultant would be out shape = B x 1 x dk*h\n",
    "        out = torch.cat(head, axis=-1)\n",
    "        # Final token_representation shape = (B, (dmodel*h), dmodel)\n",
    "        token_representation = self.WO(out)  # shape = B x 1 x (dk*h=dmodel)\n",
    "        return token_representation\n",
    "        \n",
    "        \n",
    "    \n",
    "    "
   ]
  },
  {
   "cell_type": "code",
   "execution_count": 9,
   "id": "18740f69",
   "metadata": {
    "execution": {
     "iopub.execute_input": "2024-01-19T11:39:53.782297Z",
     "iopub.status.busy": "2024-01-19T11:39:53.781866Z",
     "iopub.status.idle": "2024-01-19T11:39:53.786832Z",
     "shell.execute_reply": "2024-01-19T11:39:53.785698Z"
    },
    "papermill": {
     "duration": 0.017629,
     "end_time": "2024-01-19T11:39:53.789187",
     "exception": false,
     "start_time": "2024-01-19T11:39:53.771558",
     "status": "completed"
    },
    "tags": []
   },
   "outputs": [],
   "source": [
    "dk = dv = 64\n",
    "h = 8"
   ]
  },
  {
   "cell_type": "code",
   "execution_count": 10,
   "id": "d9b51b24",
   "metadata": {
    "execution": {
     "iopub.execute_input": "2024-01-19T11:39:53.811542Z",
     "iopub.status.busy": "2024-01-19T11:39:53.810838Z",
     "iopub.status.idle": "2024-01-19T11:39:53.975054Z",
     "shell.execute_reply": "2024-01-19T11:39:53.973863Z"
    },
    "papermill": {
     "duration": 0.178843,
     "end_time": "2024-01-19T11:39:53.977571",
     "exception": false,
     "start_time": "2024-01-19T11:39:53.798728",
     "status": "completed"
    },
    "tags": []
   },
   "outputs": [
    {
     "name": "stdout",
     "output_type": "stream",
     "text": [
      "UnoptimizedMultiHeadAttention(\n",
      "  (WQ): ModuleList(\n",
      "    (0-7): 8 x Linear(in_features=512, out_features=64, bias=True)\n",
      "  )\n",
      "  (WK): ModuleList(\n",
      "    (0-7): 8 x Linear(in_features=512, out_features=64, bias=True)\n",
      "  )\n",
      "  (WV): ModuleList(\n",
      "    (0-7): 8 x Linear(in_features=512, out_features=64, bias=True)\n",
      "  )\n",
      "  (WO): Linear(in_features=512, out_features=512, bias=True)\n",
      "  (softmax): Softmax(dim=-1)\n",
      ")\n",
      "----------------------------------------------------------------\n",
      "        Layer (type)               Output Shape         Param #\n",
      "================================================================\n",
      "            Linear-1                [-1, 1, 64]          32,832\n",
      "            Linear-2                [-1, 1, 64]          32,832\n",
      "            Linear-3                [-1, 1, 64]          32,832\n",
      "           Softmax-4                 [-1, 1, 1]               0\n",
      "            Linear-5                [-1, 1, 64]          32,832\n",
      "            Linear-6                [-1, 1, 64]          32,832\n",
      "            Linear-7                [-1, 1, 64]          32,832\n",
      "           Softmax-8                 [-1, 1, 1]               0\n",
      "            Linear-9                [-1, 1, 64]          32,832\n",
      "           Linear-10                [-1, 1, 64]          32,832\n",
      "           Linear-11                [-1, 1, 64]          32,832\n",
      "          Softmax-12                 [-1, 1, 1]               0\n",
      "           Linear-13                [-1, 1, 64]          32,832\n",
      "           Linear-14                [-1, 1, 64]          32,832\n",
      "           Linear-15                [-1, 1, 64]          32,832\n",
      "          Softmax-16                 [-1, 1, 1]               0\n",
      "           Linear-17                [-1, 1, 64]          32,832\n",
      "           Linear-18                [-1, 1, 64]          32,832\n",
      "           Linear-19                [-1, 1, 64]          32,832\n",
      "          Softmax-20                 [-1, 1, 1]               0\n",
      "           Linear-21                [-1, 1, 64]          32,832\n",
      "           Linear-22                [-1, 1, 64]          32,832\n",
      "           Linear-23                [-1, 1, 64]          32,832\n",
      "          Softmax-24                 [-1, 1, 1]               0\n",
      "           Linear-25                [-1, 1, 64]          32,832\n",
      "           Linear-26                [-1, 1, 64]          32,832\n",
      "           Linear-27                [-1, 1, 64]          32,832\n",
      "          Softmax-28                 [-1, 1, 1]               0\n",
      "           Linear-29                [-1, 1, 64]          32,832\n",
      "           Linear-30                [-1, 1, 64]          32,832\n",
      "           Linear-31                [-1, 1, 64]          32,832\n",
      "          Softmax-32                 [-1, 1, 1]               0\n",
      "           Linear-33               [-1, 1, 512]         262,656\n",
      "================================================================\n",
      "Total params: 1,050,624\n",
      "Trainable params: 1,050,624\n",
      "Non-trainable params: 0\n",
      "----------------------------------------------------------------\n",
      "Input size (MB): 0.00\n",
      "Forward/backward pass size (MB): 0.02\n",
      "Params size (MB): 4.01\n",
      "Estimated Total Size (MB): 4.03\n",
      "----------------------------------------------------------------\n"
     ]
    }
   ],
   "source": [
    "net = UnoptimizedMultiHeadAttention(dk, dv, h)\n",
    "print(net)\n",
    "summary(net, (1, 512)) # Input should be 1, dk*h"
   ]
  },
  {
   "cell_type": "markdown",
   "id": "95607816",
   "metadata": {
    "papermill": {
     "duration": 0.008635,
     "end_time": "2024-01-19T11:39:53.995556",
     "exception": false,
     "start_time": "2024-01-19T11:39:53.986921",
     "status": "completed"
    },
    "tags": []
   },
   "source": [
    "Now optimizing the multi head attention by removing the for loop and introducing matrix calculation for the optimization.\n",
    "\n",
    "We also refer to this [blog](https://medium.com/@hunter-j-phillips/multi-head-attention-7924371d477a) to understand the MHA further"
   ]
  },
  {
   "cell_type": "code",
   "execution_count": 11,
   "id": "793e613f",
   "metadata": {
    "execution": {
     "iopub.execute_input": "2024-01-19T11:39:54.016442Z",
     "iopub.status.busy": "2024-01-19T11:39:54.015610Z",
     "iopub.status.idle": "2024-01-19T11:39:54.032673Z",
     "shell.execute_reply": "2024-01-19T11:39:54.031018Z"
    },
    "papermill": {
     "duration": 0.031079,
     "end_time": "2024-01-19T11:39:54.035836",
     "exception": false,
     "start_time": "2024-01-19T11:39:54.004757",
     "status": "completed"
    },
    "tags": []
   },
   "outputs": [],
   "source": [
    "class MultiHeadAttention(nn.Module):\n",
    "    \"\"\"\n",
    "    We can refer to the following blog to understand in depth about the transformer and MHA\n",
    "    https://medium.com/@hunter-j-phillips/multi-head-attention-7924371d477a\n",
    "    \n",
    "    Here we are clubbing all the linear layers together and duplicating the inputs and \n",
    "    then performing matrix multiplications\n",
    "    \"\"\"\n",
    "    def __init__(self, dk, dv, h):\n",
    "        \"\"\"\n",
    "        Input Args:\n",
    "        \n",
    "        dk(int): Key dimensions used for generating Key weight matrix\n",
    "        dv(int): Val dimensions used for generating val weight matrix\n",
    "        h(int) : Number of heads in MHA\n",
    "        \"\"\"\n",
    "        super().__init__()\n",
    "        assert dk == dv\n",
    "        self.dk = dk\n",
    "        self.dv = dv\n",
    "        self.h = h\n",
    "        self.dmodel = self.dk * self.h  # model dimension\n",
    "        \n",
    "        # Add the params in modulelist as the params in the conv list needs to be tracked\n",
    "        # wq, wk, wv -> multiple linear weights for the number of heads\n",
    "        self.WQ = nn.Linear(self.dmodel, self.dmodel) # shape -> (dmodel, dmodel)\n",
    "        self.WK = nn.Linear(self.dmodel, self.dmodel) # shape -> (dmodel, dmodel)\n",
    "        self.WV = nn.Linear(self.dmodel, self.dmodel) # shape -> (dmodel, dmodel)\n",
    "        # Output Weights\n",
    "        self.WO = nn.Linear(self.h*self.dv, self.dmodel)  # shape -> (dmodel, dmodel)\n",
    "        self.softmax = nn.Softmax(dim=-1)\n",
    "        \n",
    "            \n",
    "    def forward(self, x):\n",
    "        \"\"\"\n",
    "        Forward pass for MHA\n",
    "        \n",
    "        X has a size of (batch_size, seq_length, d_model)\n",
    "        Wq, Wk, and Wv have a size of (d_model, d_model)\n",
    "        \n",
    "        Perform Scaled Dot Product Attention on multi head attention. \n",
    "        \n",
    "        Notation: B - batch size, S/T - max src/trg token-sequence length\n",
    "        query shape = (B, S, dmodel)\n",
    "        key shape = (B, S, dmodel)\n",
    "        val shape = (B, S, dmodel)\n",
    "        \"\"\"\n",
    "#         TODO: Define the inputs properly\n",
    "        query = key = val = x # For visualization we use the same input for all shape = (B, S, dmodel)\n",
    "        \n",
    "        # Weight the queries\n",
    "        Q = self.WQ(query)     # shape -> (B, S, dmodel)\n",
    "        K = self.WK(key)       # shape -> (B, S, dmodel)\n",
    "        V = self.WV(val)       # shape -> (B, S, dmodel)\n",
    "        \n",
    "        # Separate last dimension to number of head and dk\n",
    "        batch_size = Q.size(0)   \n",
    "        Q = Q.view(batch_size, -1, self.h, self.dk)   # shape -> (B, S, h, dk)\n",
    "        K = K.view(batch_size, -1, self.h, self.dk)   # shape -> (B, S, h, dk)\n",
    "        V = V.view(batch_size, -1, self.h, self.dk)   # shape -> (B, S, h, dk)\n",
    "        \n",
    "        # each sequence is split across n_heads, with each head receiving seq_length tokens \n",
    "        # with d_key elements in each token instead of d_model.\n",
    "        Q = Q.permute(0, 2, 1, 3) # shape -> (B, h, S, dk)\n",
    "        K = K.permute(0, 2, 1, 3) # shape -> (B, h, S, dk)\n",
    "        V = V.permute(0, 2, 1, 3) # shape -> (B, h, S, dk)\n",
    "        \n",
    "        # dot product of Q and K\n",
    "        scaled_dot_product = torch.matmul(Q, K.permute(0, 1, 3, 2)) / math.sqrt(self.dk)\n",
    "        scaled_dot_product = self.softmax(scaled_dot_product)\n",
    "        \n",
    "        # Create head \n",
    "        head = torch.matmul(scaled_dot_product, V)  # shape -> (B, h, S, S) * (B, h, S, dk) = (B, h, S, dk)\n",
    "        # Prepare the head to pass it through output linear layer\n",
    "        head = head.permute(0, 2, 1, 3).contiguous()  # shape -> (B, S, h, dk)\n",
    "        # Concatenate the head together\n",
    "        head = head.view(batch_size, -1, self.h* self.dk)  # shape -> (B, S, (h*dk = dmodel))\n",
    "        # Pass through output layer\n",
    "        token_representation = self.WO(head)\n",
    "        return token_representation\n",
    "        "
   ]
  },
  {
   "cell_type": "code",
   "execution_count": 12,
   "id": "9dbe18b7",
   "metadata": {
    "execution": {
     "iopub.execute_input": "2024-01-19T11:39:54.056879Z",
     "iopub.status.busy": "2024-01-19T11:39:54.056140Z",
     "iopub.status.idle": "2024-01-19T11:39:54.086479Z",
     "shell.execute_reply": "2024-01-19T11:39:54.085347Z"
    },
    "papermill": {
     "duration": 0.043848,
     "end_time": "2024-01-19T11:39:54.089150",
     "exception": false,
     "start_time": "2024-01-19T11:39:54.045302",
     "status": "completed"
    },
    "tags": []
   },
   "outputs": [
    {
     "name": "stdout",
     "output_type": "stream",
     "text": [
      "MultiHeadAttention(\n",
      "  (WQ): Linear(in_features=512, out_features=512, bias=True)\n",
      "  (WK): Linear(in_features=512, out_features=512, bias=True)\n",
      "  (WV): Linear(in_features=512, out_features=512, bias=True)\n",
      "  (WO): Linear(in_features=512, out_features=512, bias=True)\n",
      "  (softmax): Softmax(dim=-1)\n",
      ")\n",
      "----------------------------------------------------------------\n",
      "        Layer (type)               Output Shape         Param #\n",
      "================================================================\n",
      "            Linear-1              [-1, 10, 512]         262,656\n",
      "            Linear-2              [-1, 10, 512]         262,656\n",
      "            Linear-3              [-1, 10, 512]         262,656\n",
      "           Softmax-4            [-1, 8, 10, 10]               0\n",
      "            Linear-5              [-1, 10, 512]         262,656\n",
      "================================================================\n",
      "Total params: 1,050,624\n",
      "Trainable params: 1,050,624\n",
      "Non-trainable params: 0\n",
      "----------------------------------------------------------------\n",
      "Input size (MB): 0.02\n",
      "Forward/backward pass size (MB): 0.16\n",
      "Params size (MB): 4.01\n",
      "Estimated Total Size (MB): 4.19\n",
      "----------------------------------------------------------------\n"
     ]
    }
   ],
   "source": [
    "dk = dv = 64\n",
    "h = 8\n",
    "net = MultiHeadAttention(dk, dv, h)\n",
    "print(net)\n",
    "summary(net, (10, 512)) # Input should be S, (dk*h=dmodel)"
   ]
  },
  {
   "cell_type": "markdown",
   "id": "0ea74826",
   "metadata": {
    "execution": {
     "iopub.execute_input": "2024-01-18T03:50:53.448453Z",
     "iopub.status.busy": "2024-01-18T03:50:53.447059Z",
     "iopub.status.idle": "2024-01-18T03:50:53.458960Z",
     "shell.execute_reply": "2024-01-18T03:50:53.456634Z",
     "shell.execute_reply.started": "2024-01-18T03:50:53.448388Z"
    },
    "papermill": {
     "duration": 0.00884,
     "end_time": "2024-01-19T11:39:54.106829",
     "exception": false,
     "start_time": "2024-01-19T11:39:54.097989",
     "status": "completed"
    },
    "tags": []
   },
   "source": [
    "## Understanding Positonal Encoding"
   ]
  },
  {
   "cell_type": "code",
   "execution_count": 13,
   "id": "e62a8a3b",
   "metadata": {
    "execution": {
     "iopub.execute_input": "2024-01-19T11:39:54.127732Z",
     "iopub.status.busy": "2024-01-19T11:39:54.127297Z",
     "iopub.status.idle": "2024-01-19T11:39:54.135526Z",
     "shell.execute_reply": "2024-01-19T11:39:54.134368Z"
    },
    "papermill": {
     "duration": 0.02121,
     "end_time": "2024-01-19T11:39:54.137752",
     "exception": false,
     "start_time": "2024-01-19T11:39:54.116542",
     "status": "completed"
    },
    "tags": []
   },
   "outputs": [],
   "source": [
    "class Embedding(nn.Module):\n",
    "    \"\"\"\n",
    "    Embedding lookup table which is used by the positional embedding block.\n",
    "    Embedding lookup table is shared across input and output\n",
    "    \"\"\"\n",
    "    def __init__(self, vocab_size, dmodel):\n",
    "        \"\"\"\n",
    "        Embedding lookup needs a vocab size and model dimension size matrix for \n",
    "        creating lookups\n",
    "        \"\"\"\n",
    "        super().__init__()\n",
    "        self.embedding_lookup = nn.Embedding(vocab_size, dmodel)\n",
    "        self.vocab_size = vocab_size\n",
    "        self.dmodel = dmodel\n",
    "        \n",
    "    def forward(self, token_ids):\n",
    "        \"\"\"\n",
    "        For a given token lookup the embedding vector\n",
    "        \n",
    "        As per the paper, we also multiply the embedding vector with sqrt of dmodel \n",
    "        \"\"\"\n",
    "        token_ids = torch.Tensor([[0, 0], [1, 1]]).type(torch.IntTensor)\n",
    "#         TODO: delete the above\n",
    "        # Since tokens -> shape -> (batch_size, token)\n",
    "        assert token_ids.ndim == 2, f'Expected: (batch size, max token sequence length), got {token_ids.shape}'\n",
    "        embedding_vector = self.embedding_lookup(token_ids)\n",
    "        \n",
    "        return embedding_vector * math.sqrt(self.dmodel)\n",
    "              "
   ]
  },
  {
   "cell_type": "code",
   "execution_count": 14,
   "id": "723351ee",
   "metadata": {
    "execution": {
     "iopub.execute_input": "2024-01-19T11:39:54.157784Z",
     "iopub.status.busy": "2024-01-19T11:39:54.157347Z",
     "iopub.status.idle": "2024-01-19T11:39:54.176512Z",
     "shell.execute_reply": "2024-01-19T11:39:54.175001Z"
    },
    "papermill": {
     "duration": 0.032402,
     "end_time": "2024-01-19T11:39:54.179137",
     "exception": false,
     "start_time": "2024-01-19T11:39:54.146735",
     "status": "completed"
    },
    "tags": []
   },
   "outputs": [
    {
     "name": "stdout",
     "output_type": "stream",
     "text": [
      "Embedding(\n",
      "  (embedding_lookup): Embedding(100, 512)\n",
      ")\n",
      "----------------------------------------------------------------\n",
      "        Layer (type)               Output Shape         Param #\n",
      "================================================================\n",
      "         Embedding-1               [-1, 2, 512]          51,200\n",
      "================================================================\n",
      "Total params: 51,200\n",
      "Trainable params: 51,200\n",
      "Non-trainable params: 0\n",
      "----------------------------------------------------------------\n",
      "Input size (MB): 0.00\n",
      "Forward/backward pass size (MB): 0.01\n",
      "Params size (MB): 0.20\n",
      "Estimated Total Size (MB): 0.20\n",
      "----------------------------------------------------------------\n"
     ]
    }
   ],
   "source": [
    "vocab_size = 100\n",
    "dmodel = dk*h\n",
    "net = Embedding(vocab_size, dmodel)\n",
    "print(net)\n",
    "summary(net, input_size=([[2]])) "
   ]
  },
  {
   "cell_type": "code",
   "execution_count": 15,
   "id": "2c0f2256",
   "metadata": {
    "execution": {
     "iopub.execute_input": "2024-01-19T11:39:54.201134Z",
     "iopub.status.busy": "2024-01-19T11:39:54.200068Z",
     "iopub.status.idle": "2024-01-19T11:39:54.212310Z",
     "shell.execute_reply": "2024-01-19T11:39:54.211008Z"
    },
    "papermill": {
     "duration": 0.026748,
     "end_time": "2024-01-19T11:39:54.215208",
     "exception": false,
     "start_time": "2024-01-19T11:39:54.188460",
     "status": "completed"
    },
    "tags": []
   },
   "outputs": [],
   "source": [
    "class PositionalEncoding(nn.Module):\n",
    "    def __init__(self, dmodel, max_seq_length = 5000, pdropout = 0.1,):\n",
    "        \"\"\"\n",
    "        dmodel(int): model dimensions\n",
    "        max_seq_length(int): Maximum input sequence length\n",
    "        pdropout(float): Dropout probability\n",
    "        \"\"\"\n",
    "        super().__init__()\n",
    "        self.dropout = nn.Dropout(p = pdropout)\n",
    "        \n",
    "        # Calculate frequencies\n",
    "        position_ids = torch.arange(0, max_seq_length).unsqueeze(1)\n",
    "        # -ve sign is added because the exponents are inverted when you multiply position and frequencies\n",
    "        frequencies = torch.pow(10000, -torch.arange(0, dmodel, 2, dtype = torch.float)/ dmodel) \n",
    "        \n",
    "        # Create positional encoding table\n",
    "        positional_encoding_table = torch.zeros(max_seq_length, dmodel)\n",
    "        # Fill the table with even entries with sin and odd entries with cosine\n",
    "        positional_encoding_table[:, 0::2] = torch.sin(position_ids * frequencies)\n",
    "        positional_encoding_table[:, 1::2] = torch.cos(position_ids * frequencies)\n",
    "    \n",
    "        # Registering the position enconding in state_dict but the its not included \n",
    "        # in named parameter as it is not trainable\n",
    "        self.register_buffer(\"positional_encoding_table\", positional_encoding_table)\n",
    "        \n",
    "    \n",
    "    def forward(self, embeddings_batch):\n",
    "        \"\"\"\n",
    "        embeddings_batch shape = (batch size, seq_length, dmodel)\n",
    "        positional_encoding_table shape = (max_seq_length, dmodel)\n",
    "        \"\"\"\n",
    "        assert embeddings_batch.ndim == 3, \\\n",
    "        f\"Embeddings batch should have dimension of 3 but got {embeddings_batch.ndim}\"\n",
    "        assert embeddings_batch.size()[-1] == self.positional_encoding_table.size()[-1], \\\n",
    "        f\"Embedding batch shape and positional_encoding_table shape should match, expected Embedding batch shape : {embeddings_batch.shape[-1]} while positional_encoding_table shape : {positional_encoding_table[-1]}\"\n",
    "        \n",
    "        # Get encodings for the given input sequence length\n",
    "        pos_encodings = self.positional_encoding_table[:embeddings_batch.shape[1]] # Choose only seq_length out of max_seq_length\n",
    "        \n",
    "        # Final output \n",
    "        out = embeddings_batch + pos_encodings\n",
    "        out = self.dropout(out)\n",
    "        return out"
   ]
  },
  {
   "cell_type": "code",
   "execution_count": 16,
   "id": "20531a3c",
   "metadata": {
    "execution": {
     "iopub.execute_input": "2024-01-19T11:39:54.235570Z",
     "iopub.status.busy": "2024-01-19T11:39:54.235097Z",
     "iopub.status.idle": "2024-01-19T11:39:54.286404Z",
     "shell.execute_reply": "2024-01-19T11:39:54.285018Z"
    },
    "papermill": {
     "duration": 0.064567,
     "end_time": "2024-01-19T11:39:54.289082",
     "exception": false,
     "start_time": "2024-01-19T11:39:54.224515",
     "status": "completed"
    },
    "tags": []
   },
   "outputs": [
    {
     "name": "stdout",
     "output_type": "stream",
     "text": [
      "PositionalEncoding(\n",
      "  (dropout): Dropout(p=0.1, inplace=False)\n",
      ")\n"
     ]
    }
   ],
   "source": [
    "vocab_size = 100\n",
    "dmodel = dk*h\n",
    "net = PositionalEncoding(dmodel)\n",
    "print(net)\n",
    "# summary(net, input_size=(100, 512))  # Can't visualize since params are none"
   ]
  },
  {
   "cell_type": "markdown",
   "id": "252ed6c9",
   "metadata": {
    "papermill": {
     "duration": 0.009135,
     "end_time": "2024-01-19T11:39:54.307588",
     "exception": false,
     "start_time": "2024-01-19T11:39:54.298453",
     "status": "completed"
    },
    "tags": []
   },
   "source": [
    "## Understanding positionwise FeedForward Network"
   ]
  },
  {
   "cell_type": "code",
   "execution_count": 17,
   "id": "615c281b",
   "metadata": {
    "execution": {
     "iopub.execute_input": "2024-01-19T11:39:54.328160Z",
     "iopub.status.busy": "2024-01-19T11:39:54.327753Z",
     "iopub.status.idle": "2024-01-19T11:39:54.336370Z",
     "shell.execute_reply": "2024-01-19T11:39:54.335143Z"
    },
    "papermill": {
     "duration": 0.021832,
     "end_time": "2024-01-19T11:39:54.338865",
     "exception": false,
     "start_time": "2024-01-19T11:39:54.317033",
     "status": "completed"
    },
    "tags": []
   },
   "outputs": [],
   "source": [
    "class PositionwiseFeedForward(nn.Module):\n",
    "    def __init__(self, dmodel, dff, pdropout = 0.1):\n",
    "        super().__init__()\n",
    "        \n",
    "        self.dropout = nn.Dropout(p = pdropout)\n",
    "        \n",
    "        self.W1 = nn.Linear(dmodel, dff)      # Intermediate layer\n",
    "        self.W2 = nn.Linear(dff, dmodel)    # Output layer\n",
    "        \n",
    "        self.relu = nn.ReLU()\n",
    "        \n",
    "    def forward(self, x):\n",
    "        \"\"\"\n",
    "        Perform Feedforward calculation\n",
    "        \n",
    "        x shape = (B - batch size, S/T - max token sequence length, D- model dimension).\n",
    "        \"\"\"\n",
    "        out = self.W2(self.relu(self.dropout(self.W1(x))))\n",
    "        return out"
   ]
  },
  {
   "cell_type": "code",
   "execution_count": 18,
   "id": "92a38c82",
   "metadata": {
    "execution": {
     "iopub.execute_input": "2024-01-19T11:39:54.359685Z",
     "iopub.status.busy": "2024-01-19T11:39:54.358802Z",
     "iopub.status.idle": "2024-01-19T11:39:54.399925Z",
     "shell.execute_reply": "2024-01-19T11:39:54.398979Z"
    },
    "papermill": {
     "duration": 0.054685,
     "end_time": "2024-01-19T11:39:54.402781",
     "exception": false,
     "start_time": "2024-01-19T11:39:54.348096",
     "status": "completed"
    },
    "tags": []
   },
   "outputs": [
    {
     "name": "stdout",
     "output_type": "stream",
     "text": [
      "PositionwiseFeedForward(\n",
      "  (dropout): Dropout(p=0.1, inplace=False)\n",
      "  (W1): Linear(in_features=512, out_features=2048, bias=True)\n",
      "  (W2): Linear(in_features=2048, out_features=512, bias=True)\n",
      "  (relu): ReLU()\n",
      ")\n",
      "----------------------------------------------------------------\n",
      "        Layer (type)               Output Shape         Param #\n",
      "================================================================\n",
      "            Linear-1              [-1, 2, 2048]       1,050,624\n",
      "           Dropout-2              [-1, 2, 2048]               0\n",
      "              ReLU-3              [-1, 2, 2048]               0\n",
      "            Linear-4               [-1, 2, 512]       1,049,088\n",
      "================================================================\n",
      "Total params: 2,099,712\n",
      "Trainable params: 2,099,712\n",
      "Non-trainable params: 0\n",
      "----------------------------------------------------------------\n",
      "Input size (MB): 0.00\n",
      "Forward/backward pass size (MB): 0.10\n",
      "Params size (MB): 8.01\n",
      "Estimated Total Size (MB): 8.12\n",
      "----------------------------------------------------------------\n"
     ]
    }
   ],
   "source": [
    "vocab_size = 100\n",
    "dmodel = dk*h\n",
    "dff = dmodel * 4\n",
    "net = PositionwiseFeedForward(dmodel, dff)\n",
    "print(net)\n",
    "summary(net, input_size=(2, 512))  "
   ]
  },
  {
   "cell_type": "markdown",
   "id": "2a692e4d",
   "metadata": {
    "papermill": {
     "duration": 0.009089,
     "end_time": "2024-01-19T11:39:54.421805",
     "exception": false,
     "start_time": "2024-01-19T11:39:54.412716",
     "status": "completed"
    },
    "tags": []
   },
   "source": [
    "## Understanding Encoder model"
   ]
  },
  {
   "cell_type": "code",
   "execution_count": 19,
   "id": "661595a1",
   "metadata": {
    "execution": {
     "iopub.execute_input": "2024-01-19T11:39:54.444473Z",
     "iopub.status.busy": "2024-01-19T11:39:54.443763Z",
     "iopub.status.idle": "2024-01-19T11:39:54.449909Z",
     "shell.execute_reply": "2024-01-19T11:39:54.448982Z"
    },
    "papermill": {
     "duration": 0.022361,
     "end_time": "2024-01-19T11:39:54.453393",
     "exception": false,
     "start_time": "2024-01-19T11:39:54.431032",
     "status": "completed"
    },
    "tags": []
   },
   "outputs": [],
   "source": [
    "class Encoder(nn.Module):\n",
    "    def __init__(self):\n",
    "        super().__init__()\n",
    "        pass\n",
    "    \n",
    "    def forward(self):\n",
    "        pass"
   ]
  }
 ],
 "metadata": {
  "kaggle": {
   "accelerator": "none",
   "dataSources": [
    {
     "datasetId": 2802718,
     "sourceId": 4853240,
     "sourceType": "datasetVersion"
    }
   ],
   "dockerImageVersionId": 30635,
   "isGpuEnabled": false,
   "isInternetEnabled": true,
   "language": "python",
   "sourceType": "notebook"
  },
  "kernelspec": {
   "display_name": "Python 3",
   "language": "python",
   "name": "python3"
  },
  "language_info": {
   "codemirror_mode": {
    "name": "ipython",
    "version": 3
   },
   "file_extension": ".py",
   "mimetype": "text/x-python",
   "name": "python",
   "nbconvert_exporter": "python",
   "pygments_lexer": "ipython3",
   "version": "3.10.12"
  },
  "papermill": {
   "default_parameters": {},
   "duration": 26.310484,
   "end_time": "2024-01-19T11:39:55.490165",
   "environment_variables": {},
   "exception": null,
   "input_path": "__notebook__.ipynb",
   "output_path": "__notebook__.ipynb",
   "parameters": {},
   "start_time": "2024-01-19T11:39:29.179681",
   "version": "2.4.0"
  }
 },
 "nbformat": 4,
 "nbformat_minor": 5
}
