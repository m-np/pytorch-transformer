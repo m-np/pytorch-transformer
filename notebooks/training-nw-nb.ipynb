{
 "cells": [
  {
   "cell_type": "markdown",
   "id": "e47f1bc9",
   "metadata": {
    "_cell_guid": "b1076dfc-b9ad-4769-8c92-a6c4dae69d19",
    "_uuid": "8f2839f25d086af736a60e9eeb907d3b93b6e0e5",
    "papermill": {
     "duration": 0.014795,
     "end_time": "2024-01-21T08:05:00.742930",
     "exception": false,
     "start_time": "2024-01-21T08:05:00.728135",
     "status": "completed"
    },
    "tags": []
   },
   "source": [
    "# Training model for Machine Translation\n",
    "\n",
    "Library Imports for the jupyter notebook. We are refering to this [blog](https://medium.com/@hunter-j-phillips/putting-it-all-together-the-implemented-transformer-bfb11ac1ddfehttps://medium.com/@hunter-j-phillips/putting-it-all-together-the-implemented-transformer-bfb11ac1ddfe) to understand attention network in depth"
   ]
  },
  {
   "cell_type": "code",
   "execution_count": 1,
   "id": "329e39b5",
   "metadata": {
    "execution": {
     "iopub.execute_input": "2024-01-21T08:05:00.772508Z",
     "iopub.status.busy": "2024-01-21T08:05:00.772227Z",
     "iopub.status.idle": "2024-01-21T08:05:21.739965Z",
     "shell.execute_reply": "2024-01-21T08:05:21.739042Z"
    },
    "papermill": {
     "duration": 20.984892,
     "end_time": "2024-01-21T08:05:21.742120",
     "exception": false,
     "start_time": "2024-01-21T08:05:00.757228",
     "status": "completed"
    },
    "tags": []
   },
   "outputs": [
    {
     "name": "stderr",
     "output_type": "stream",
     "text": [
      "/opt/conda/lib/python3.10/site-packages/scipy/__init__.py:146: UserWarning: A NumPy version >=1.16.5 and <1.23.0 is required for this version of SciPy (detected version 1.24.3\n",
      "  warnings.warn(f\"A NumPy version >={np_minversion} and <{np_maxversion}\"\n"
     ]
    },
    {
     "data": {
      "text/plain": [
       "device(type='cuda')"
      ]
     },
     "execution_count": 1,
     "metadata": {},
     "output_type": "execute_result"
    }
   ],
   "source": [
    "!pip install -q portalocker\n",
    "\n",
    "# importing required libraries\n",
    "import math\n",
    "import copy\n",
    "import time\n",
    "import random\n",
    "import spacy\n",
    "import numpy as np\n",
    "import os \n",
    "\n",
    "# torch packages\n",
    "import torch\n",
    "import torch.nn as nn\n",
    "import torch.nn.functional as F\n",
    "from torch import Tensor\n",
    "import torch.optim as optim\n",
    "\n",
    "# load and build datasets\n",
    "import torchtext\n",
    "from torchtext.data.functional import to_map_style_dataset\n",
    "from torch.nn.functional import pad\n",
    "from torch.utils.data import DataLoader\n",
    "from torchtext.vocab import build_vocab_from_iterator\n",
    "import torchtext.datasets as datasets\n",
    "import portalocker\n",
    "\n",
    "# visualization packages\n",
    "from mpl_toolkits import mplot3d\n",
    "import matplotlib.pyplot as plt\n",
    "import matplotlib.ticker as ticker\n",
    "\n",
    "device = torch.device('cuda' if torch.cuda.is_available() else 'cpu')\n",
    "device"
   ]
  },
  {
   "cell_type": "markdown",
   "id": "c615f582",
   "metadata": {
    "papermill": {
     "duration": 0.014209,
     "end_time": "2024-01-21T08:05:21.771057",
     "exception": false,
     "start_time": "2024-01-21T08:05:21.756848",
     "status": "completed"
    },
    "tags": []
   },
   "source": [
    "# Reading the dataframe and converting it into iterable for consuming in pytorch dataset"
   ]
  },
  {
   "cell_type": "code",
   "execution_count": 2,
   "id": "384f5b45",
   "metadata": {
    "execution": {
     "iopub.execute_input": "2024-01-21T08:05:21.802367Z",
     "iopub.status.busy": "2024-01-21T08:05:21.801888Z",
     "iopub.status.idle": "2024-01-21T08:05:21.806281Z",
     "shell.execute_reply": "2024-01-21T08:05:21.805416Z"
    },
    "papermill": {
     "duration": 0.021879,
     "end_time": "2024-01-21T08:05:21.808193",
     "exception": false,
     "start_time": "2024-01-21T08:05:21.786314",
     "status": "completed"
    },
    "tags": []
   },
   "outputs": [],
   "source": [
    "import pandas as pd\n",
    "from tqdm import tqdm"
   ]
  },
  {
   "cell_type": "code",
   "execution_count": 3,
   "id": "a3c46463",
   "metadata": {
    "execution": {
     "iopub.execute_input": "2024-01-21T08:05:21.838028Z",
     "iopub.status.busy": "2024-01-21T08:05:21.837765Z",
     "iopub.status.idle": "2024-01-21T08:05:22.004152Z",
     "shell.execute_reply": "2024-01-21T08:05:22.003168Z"
    },
    "papermill": {
     "duration": 0.18366,
     "end_time": "2024-01-21T08:05:22.006253",
     "exception": false,
     "start_time": "2024-01-21T08:05:21.822593",
     "status": "completed"
    },
    "tags": []
   },
   "outputs": [
    {
     "data": {
      "text/html": [
       "<div>\n",
       "<style scoped>\n",
       "    .dataframe tbody tr th:only-of-type {\n",
       "        vertical-align: middle;\n",
       "    }\n",
       "\n",
       "    .dataframe tbody tr th {\n",
       "        vertical-align: top;\n",
       "    }\n",
       "\n",
       "    .dataframe thead th {\n",
       "        text-align: right;\n",
       "    }\n",
       "</style>\n",
       "<table border=\"1\" class=\"dataframe\">\n",
       "  <thead>\n",
       "    <tr style=\"text-align: right;\">\n",
       "      <th></th>\n",
       "      <th>english</th>\n",
       "      <th>german</th>\n",
       "    </tr>\n",
       "  </thead>\n",
       "  <tbody>\n",
       "    <tr>\n",
       "      <th>0</th>\n",
       "      <td>Two young, White males are outside near many b...</td>\n",
       "      <td>Zwei junge weiße Männer sind im Freien in der ...</td>\n",
       "    </tr>\n",
       "    <tr>\n",
       "      <th>1</th>\n",
       "      <td>Several men in hard hats are operating a giant...</td>\n",
       "      <td>Mehrere Männer mit Schutzhelmen bedienen ein A...</td>\n",
       "    </tr>\n",
       "    <tr>\n",
       "      <th>2</th>\n",
       "      <td>A little girl climbing into a wooden playhouse.</td>\n",
       "      <td>Ein kleines Mädchen klettert in ein Spielhaus ...</td>\n",
       "    </tr>\n",
       "    <tr>\n",
       "      <th>3</th>\n",
       "      <td>A man in a blue shirt is standing on a ladder ...</td>\n",
       "      <td>Ein Mann in einem blauen Hemd steht auf einer ...</td>\n",
       "    </tr>\n",
       "    <tr>\n",
       "      <th>4</th>\n",
       "      <td>Two men are at the stove preparing food.</td>\n",
       "      <td>Zwei Männer stehen am Herd und bereiten Essen zu.</td>\n",
       "    </tr>\n",
       "  </tbody>\n",
       "</table>\n",
       "</div>"
      ],
      "text/plain": [
       "                                             english  \\\n",
       "0  Two young, White males are outside near many b...   \n",
       "1  Several men in hard hats are operating a giant...   \n",
       "2    A little girl climbing into a wooden playhouse.   \n",
       "3  A man in a blue shirt is standing on a ladder ...   \n",
       "4           Two men are at the stove preparing food.   \n",
       "\n",
       "                                              german  \n",
       "0  Zwei junge weiße Männer sind im Freien in der ...  \n",
       "1  Mehrere Männer mit Schutzhelmen bedienen ein A...  \n",
       "2  Ein kleines Mädchen klettert in ein Spielhaus ...  \n",
       "3  Ein Mann in einem blauen Hemd steht auf einer ...  \n",
       "4  Zwei Männer stehen am Herd und bereiten Essen zu.  "
      ]
     },
     "execution_count": 3,
     "metadata": {},
     "output_type": "execute_result"
    }
   ],
   "source": [
    "df = pd.read_csv(\"/kaggle/input/machine-translation-dataset-de-en/translation_train.csv\")\n",
    "df.head()"
   ]
  },
  {
   "cell_type": "code",
   "execution_count": 4,
   "id": "9e2eabd8",
   "metadata": {
    "execution": {
     "iopub.execute_input": "2024-01-21T08:05:22.037284Z",
     "iopub.status.busy": "2024-01-21T08:05:22.036991Z",
     "iopub.status.idle": "2024-01-21T08:05:22.042441Z",
     "shell.execute_reply": "2024-01-21T08:05:22.041662Z"
    },
    "papermill": {
     "duration": 0.022988,
     "end_time": "2024-01-21T08:05:22.044314",
     "exception": false,
     "start_time": "2024-01-21T08:05:22.021326",
     "status": "completed"
    },
    "tags": []
   },
   "outputs": [
    {
     "data": {
      "text/plain": [
       "(29000, 2)"
      ]
     },
     "execution_count": 4,
     "metadata": {},
     "output_type": "execute_result"
    }
   ],
   "source": [
    "df.shape"
   ]
  },
  {
   "cell_type": "code",
   "execution_count": 5,
   "id": "15526d0a",
   "metadata": {
    "execution": {
     "iopub.execute_input": "2024-01-21T08:05:22.074900Z",
     "iopub.status.busy": "2024-01-21T08:05:22.074615Z",
     "iopub.status.idle": "2024-01-21T08:05:22.086915Z",
     "shell.execute_reply": "2024-01-21T08:05:22.086255Z"
    },
    "papermill": {
     "duration": 0.029902,
     "end_time": "2024-01-21T08:05:22.088971",
     "exception": false,
     "start_time": "2024-01-21T08:05:22.059069",
     "status": "completed"
    },
    "tags": []
   },
   "outputs": [],
   "source": [
    "# Perform train - val split\n",
    "train_df=df.sample(frac=0.95,random_state=200)\n",
    "val_df=df.drop(train_df.index)"
   ]
  },
  {
   "cell_type": "code",
   "execution_count": 6,
   "id": "ba3fe0ad",
   "metadata": {
    "execution": {
     "iopub.execute_input": "2024-01-21T08:05:22.119903Z",
     "iopub.status.busy": "2024-01-21T08:05:22.119624Z",
     "iopub.status.idle": "2024-01-21T08:05:22.124791Z",
     "shell.execute_reply": "2024-01-21T08:05:22.123980Z"
    },
    "papermill": {
     "duration": 0.022629,
     "end_time": "2024-01-21T08:05:22.126579",
     "exception": false,
     "start_time": "2024-01-21T08:05:22.103950",
     "status": "completed"
    },
    "tags": []
   },
   "outputs": [],
   "source": [
    "def create_iterable(sample_df):\n",
    "    \"\"\"\n",
    "    This converts pandas dataframe into list of tuples\n",
    "    consisting of (german sentences, english sentences).\n",
    "    \n",
    "    This iterable in used in our data preparation\n",
    "    \"\"\"\n",
    "    sample_iter = sample_df.to_dict(orient='records')\n",
    "    out_iter = [(dict1[\"german\"], dict1[\"english\"]) for dict1 in sample_iter]\n",
    "    print(f\"length of iterable: {len(out_iter)}\")\n",
    "    return out_iter"
   ]
  },
  {
   "cell_type": "code",
   "execution_count": 7,
   "id": "9f6591b6",
   "metadata": {
    "execution": {
     "iopub.execute_input": "2024-01-21T08:05:22.157452Z",
     "iopub.status.busy": "2024-01-21T08:05:22.156986Z",
     "iopub.status.idle": "2024-01-21T08:05:22.292166Z",
     "shell.execute_reply": "2024-01-21T08:05:22.290992Z"
    },
    "papermill": {
     "duration": 0.152461,
     "end_time": "2024-01-21T08:05:22.294081",
     "exception": false,
     "start_time": "2024-01-21T08:05:22.141620",
     "status": "completed"
    },
    "tags": []
   },
   "outputs": [
    {
     "name": "stdout",
     "output_type": "stream",
     "text": [
      "length of iterable: 27550\n",
      "length of iterable: 1450\n"
     ]
    }
   ],
   "source": [
    "train_iter = create_iterable(train_df)\n",
    "val_iter = create_iterable(val_df)"
   ]
  },
  {
   "cell_type": "code",
   "execution_count": 8,
   "id": "e13a2f46",
   "metadata": {
    "execution": {
     "iopub.execute_input": "2024-01-21T08:05:22.366586Z",
     "iopub.status.busy": "2024-01-21T08:05:22.365908Z",
     "iopub.status.idle": "2024-01-21T08:05:22.388475Z",
     "shell.execute_reply": "2024-01-21T08:05:22.387579Z"
    },
    "papermill": {
     "duration": 0.081613,
     "end_time": "2024-01-21T08:05:22.390651",
     "exception": false,
     "start_time": "2024-01-21T08:05:22.309038",
     "status": "completed"
    },
    "tags": []
   },
   "outputs": [
    {
     "data": {
      "text/html": [
       "<div>\n",
       "<style scoped>\n",
       "    .dataframe tbody tr th:only-of-type {\n",
       "        vertical-align: middle;\n",
       "    }\n",
       "\n",
       "    .dataframe tbody tr th {\n",
       "        vertical-align: top;\n",
       "    }\n",
       "\n",
       "    .dataframe thead th {\n",
       "        text-align: right;\n",
       "    }\n",
       "</style>\n",
       "<table border=\"1\" class=\"dataframe\">\n",
       "  <thead>\n",
       "    <tr style=\"text-align: right;\">\n",
       "      <th></th>\n",
       "      <th>english</th>\n",
       "      <th>german</th>\n",
       "    </tr>\n",
       "  </thead>\n",
       "  <tbody>\n",
       "    <tr>\n",
       "      <th>0</th>\n",
       "      <td>A man in an orange hat starring at something.</td>\n",
       "      <td>Ein Mann mit einem orangefarbenen Hut, der etw...</td>\n",
       "    </tr>\n",
       "    <tr>\n",
       "      <th>1</th>\n",
       "      <td>A Boston Terrier is running on lush green gras...</td>\n",
       "      <td>Ein Boston Terrier läuft über saftig-grünes Gr...</td>\n",
       "    </tr>\n",
       "    <tr>\n",
       "      <th>2</th>\n",
       "      <td>A girl in karate uniform breaking a stick with...</td>\n",
       "      <td>Ein Mädchen in einem Karateanzug bricht einen ...</td>\n",
       "    </tr>\n",
       "    <tr>\n",
       "      <th>3</th>\n",
       "      <td>Five people wearing winter jackets and helmets...</td>\n",
       "      <td>Fünf Leute in Winterjacken und mit Helmen steh...</td>\n",
       "    </tr>\n",
       "    <tr>\n",
       "      <th>4</th>\n",
       "      <td>People are fixing the roof of a house.</td>\n",
       "      <td>Leute Reparieren das Dach eines Hauses.</td>\n",
       "    </tr>\n",
       "  </tbody>\n",
       "</table>\n",
       "</div>"
      ],
      "text/plain": [
       "                                             english  \\\n",
       "0      A man in an orange hat starring at something.   \n",
       "1  A Boston Terrier is running on lush green gras...   \n",
       "2  A girl in karate uniform breaking a stick with...   \n",
       "3  Five people wearing winter jackets and helmets...   \n",
       "4             People are fixing the roof of a house.   \n",
       "\n",
       "                                              german  \n",
       "0  Ein Mann mit einem orangefarbenen Hut, der etw...  \n",
       "1  Ein Boston Terrier läuft über saftig-grünes Gr...  \n",
       "2  Ein Mädchen in einem Karateanzug bricht einen ...  \n",
       "3  Fünf Leute in Winterjacken und mit Helmen steh...  \n",
       "4            Leute Reparieren das Dach eines Hauses.  "
      ]
     },
     "execution_count": 8,
     "metadata": {},
     "output_type": "execute_result"
    }
   ],
   "source": [
    "test_df = pd.read_csv(\"/kaggle/input/machine-translation-dataset-de-en/translation_test.csv\")\n",
    "test_df.head()"
   ]
  },
  {
   "cell_type": "code",
   "execution_count": 9,
   "id": "1669c00f",
   "metadata": {
    "execution": {
     "iopub.execute_input": "2024-01-21T08:05:22.423199Z",
     "iopub.status.busy": "2024-01-21T08:05:22.422643Z",
     "iopub.status.idle": "2024-01-21T08:05:22.588969Z",
     "shell.execute_reply": "2024-01-21T08:05:22.588095Z"
    },
    "papermill": {
     "duration": 0.184337,
     "end_time": "2024-01-21T08:05:22.590953",
     "exception": false,
     "start_time": "2024-01-21T08:05:22.406616",
     "status": "completed"
    },
    "tags": []
   },
   "outputs": [
    {
     "name": "stdout",
     "output_type": "stream",
     "text": [
      "length of iterable: 1000\n"
     ]
    }
   ],
   "source": [
    "test_iter = create_iterable(test_df)"
   ]
  },
  {
   "cell_type": "markdown",
   "id": "2bfec9f5",
   "metadata": {
    "papermill": {
     "duration": 0.015129,
     "end_time": "2024-01-21T08:05:22.621624",
     "exception": false,
     "start_time": "2024-01-21T08:05:22.606495",
     "status": "completed"
    },
    "tags": []
   },
   "source": [
    "# Create Vocab from data sources"
   ]
  },
  {
   "cell_type": "code",
   "execution_count": 10,
   "id": "d1a1cce3",
   "metadata": {
    "execution": {
     "iopub.execute_input": "2024-01-21T08:05:22.653240Z",
     "iopub.status.busy": "2024-01-21T08:05:22.652951Z",
     "iopub.status.idle": "2024-01-21T08:05:22.658521Z",
     "shell.execute_reply": "2024-01-21T08:05:22.657691Z"
    },
    "papermill": {
     "duration": 0.023683,
     "end_time": "2024-01-21T08:05:22.660491",
     "exception": false,
     "start_time": "2024-01-21T08:05:22.636808",
     "status": "completed"
    },
    "tags": []
   },
   "outputs": [],
   "source": [
    "def load_tokenizers():\n",
    "    \"\"\"\n",
    "    Load the German and English tokenizers provided by spaCy.\n",
    "\n",
    "    Returns:\n",
    "        spacy_de:     German tokenizer\n",
    "        spacy_en:     English tokenizer\n",
    "    \"\"\"\n",
    "    try:\n",
    "        spacy_de = spacy.load(\"de_core_news_sm\")\n",
    "    except OSError:\n",
    "        os.system(\"python -m spacy download de_core_news_sm\")\n",
    "        spacy_de = spacy.load(\"de_core_news_sm\")\n",
    "\n",
    "    try:\n",
    "        spacy_en = spacy.load(\"en_core_web_sm\")\n",
    "    except OSError:\n",
    "        os.system(\"python -m spacy download en_core_web_sm\")\n",
    "        spacy_en = spacy.load(\"en_core_web_sm\")\n",
    "\n",
    "    print(\"Loaded English and German tokenizers.\")\n",
    "    return spacy_de, spacy_en"
   ]
  },
  {
   "cell_type": "code",
   "execution_count": 11,
   "id": "b84bf83b",
   "metadata": {
    "execution": {
     "iopub.execute_input": "2024-01-21T08:05:22.692051Z",
     "iopub.status.busy": "2024-01-21T08:05:22.691777Z",
     "iopub.status.idle": "2024-01-21T08:05:22.696164Z",
     "shell.execute_reply": "2024-01-21T08:05:22.695389Z"
    },
    "papermill": {
     "duration": 0.0222,
     "end_time": "2024-01-21T08:05:22.697887",
     "exception": false,
     "start_time": "2024-01-21T08:05:22.675687",
     "status": "completed"
    },
    "tags": []
   },
   "outputs": [],
   "source": [
    "def tokenize(text: str, tokenizer):\n",
    "  \"\"\"\n",
    "    Split a string into its tokens using the provided tokenizer.\n",
    "\n",
    "    Args:\n",
    "        text:         string \n",
    "        tokenizer:    tokenizer for the language\n",
    "        \n",
    "    Returns:\n",
    "        tokenized list of strings       \n",
    "  \"\"\"\n",
    "  return [tok.text.lower() for tok in tokenizer.tokenizer(text)]"
   ]
  },
  {
   "cell_type": "code",
   "execution_count": 12,
   "id": "bdd3168e",
   "metadata": {
    "execution": {
     "iopub.execute_input": "2024-01-21T08:05:22.729093Z",
     "iopub.status.busy": "2024-01-21T08:05:22.728830Z",
     "iopub.status.idle": "2024-01-21T08:05:22.733222Z",
     "shell.execute_reply": "2024-01-21T08:05:22.732384Z"
    },
    "papermill": {
     "duration": 0.022192,
     "end_time": "2024-01-21T08:05:22.735139",
     "exception": false,
     "start_time": "2024-01-21T08:05:22.712947",
     "status": "completed"
    },
    "tags": []
   },
   "outputs": [],
   "source": [
    "def yield_tokens(data_iter, tokenizer, index: int):\n",
    "  \"\"\"\n",
    "    Return the tokens for the appropriate language.\n",
    "\n",
    "    Args:\n",
    "        data_iter:    text here \n",
    "        tokenizer:    tokenizer for the language\n",
    "        index:        index of the language in the tuple | (de=0, en=1)\n",
    "        \n",
    "    Yields:\n",
    "        sequences based on index       \n",
    "  \"\"\"\n",
    "  for from_tuple in data_iter:\n",
    "    yield tokenizer(from_tuple[index])"
   ]
  },
  {
   "cell_type": "code",
   "execution_count": 13,
   "id": "569b5746",
   "metadata": {
    "execution": {
     "iopub.execute_input": "2024-01-21T08:05:22.766663Z",
     "iopub.status.busy": "2024-01-21T08:05:22.766399Z",
     "iopub.status.idle": "2024-01-21T08:05:22.774139Z",
     "shell.execute_reply": "2024-01-21T08:05:22.773301Z"
    },
    "papermill": {
     "duration": 0.025647,
     "end_time": "2024-01-21T08:05:22.775913",
     "exception": false,
     "start_time": "2024-01-21T08:05:22.750266",
     "status": "completed"
    },
    "tags": []
   },
   "outputs": [],
   "source": [
    "def build_vocabulary(\n",
    "                    spacy_de, \n",
    "                    spacy_en, \n",
    "                    train_iter, \n",
    "                    val_iter, \n",
    "                    test_iter, \n",
    "                    min_freq: int = 2):\n",
    "  \n",
    "    def tokenize_de(text: str):\n",
    "        \"\"\"\n",
    "          Call the German tokenizer.\n",
    "\n",
    "          Args:\n",
    "              text:         string \n",
    "              min_freq:     minimum frequency needed to include a word in the vocabulary\n",
    "\n",
    "          Returns:\n",
    "              tokenized list of strings       \n",
    "        \"\"\"\n",
    "        return tokenize(text, spacy_de)\n",
    "\n",
    "    def tokenize_en(text: str):\n",
    "        \"\"\"\n",
    "          Call the English tokenizer.\n",
    "\n",
    "          Args:\n",
    "              text:         string \n",
    "\n",
    "          Returns:\n",
    "              tokenized list of strings       \n",
    "        \"\"\"\n",
    "        return tokenize(text, spacy_en)\n",
    "\n",
    "    print(\"Building German Vocabulary...\")\n",
    "\n",
    "#     # load train, val, and test data pipelines\n",
    "#     train, val, test = datasets.IWSLT2016(language_pair=(\"de\", \"en\"))\n",
    "    train = train_iter\n",
    "    val = val_iter\n",
    "    test = test_iter\n",
    "\n",
    "    # generate source vocabulary\n",
    "    vocab_src = build_vocab_from_iterator(\n",
    "        yield_tokens(train + val + test, tokenize_de, index=0), # tokens for each German sentence (index 0)\n",
    "        min_freq=min_freq, \n",
    "        specials=[\"<bos>\", \"<eos>\", \"<pad>\", \"<unk>\"],\n",
    "    )\n",
    "\n",
    "    print(\"Building English Vocabulary...\")\n",
    "\n",
    "    # generate target vocabulary\n",
    "    vocab_trg = build_vocab_from_iterator(\n",
    "        yield_tokens(train + val + test, tokenize_en, index=1), # tokens for each English sentence (index 1)\n",
    "        min_freq=2, # \n",
    "        specials=[\"<bos>\", \"<eos>\", \"<pad>\", \"<unk>\"],\n",
    "    )\n",
    "\n",
    "    # set default token for out-of-vocabulary words (OOV)\n",
    "    vocab_src.set_default_index(vocab_src[\"<unk>\"])\n",
    "    vocab_trg.set_default_index(vocab_trg[\"<unk>\"])\n",
    "\n",
    "    return vocab_src, vocab_trg"
   ]
  },
  {
   "cell_type": "code",
   "execution_count": 14,
   "id": "894df7fe",
   "metadata": {
    "execution": {
     "iopub.execute_input": "2024-01-21T08:05:22.807285Z",
     "iopub.status.busy": "2024-01-21T08:05:22.807043Z",
     "iopub.status.idle": "2024-01-21T08:05:22.813079Z",
     "shell.execute_reply": "2024-01-21T08:05:22.812246Z"
    },
    "papermill": {
     "duration": 0.023874,
     "end_time": "2024-01-21T08:05:22.814967",
     "exception": false,
     "start_time": "2024-01-21T08:05:22.791093",
     "status": "completed"
    },
    "tags": []
   },
   "outputs": [],
   "source": [
    "def load_vocab(spacy_de, spacy_en, train_iter, val_iter, test_iter, min_freq: int = 2):\n",
    "    \"\"\"\n",
    "    Args:\n",
    "        spacy_de:     German tokenizer\n",
    "        spacy_en:     English tokenizer\n",
    "        min_freq:     minimum frequency needed to include a word in the vocabulary\n",
    "\n",
    "    Returns:\n",
    "        vocab_src:    German vocabulary\n",
    "        vocab_trg:     English vocabulary       \n",
    "    \"\"\"\n",
    "    if not os.path.exists(\"vocab.pt\"):\n",
    "        # build the German/English vocabulary if it does not exist\n",
    "        vocab_src, vocab_trg = build_vocabulary(spacy_de, \n",
    "                                                spacy_en, \n",
    "                                                train_iter, \n",
    "                                                val_iter, \n",
    "                                                test_iter, \n",
    "                                                min_freq)\n",
    "        # save it to a file\n",
    "        torch.save((vocab_src, vocab_trg), \"vocab.pt\")\n",
    "    else:\n",
    "        # load the vocab if it exists\n",
    "        vocab_src, vocab_trg = torch.load(\"vocab.pt\")\n",
    "\n",
    "    print(\"Finished.\\nVocabulary sizes:\")\n",
    "    print(\"\\tSource:\", len(vocab_src))\n",
    "    print(\"\\tTarget:\", len(vocab_trg))\n",
    "    return vocab_src, vocab_trg"
   ]
  },
  {
   "cell_type": "code",
   "execution_count": 15,
   "id": "bf6203f8",
   "metadata": {
    "execution": {
     "iopub.execute_input": "2024-01-21T08:05:22.846113Z",
     "iopub.status.busy": "2024-01-21T08:05:22.845865Z",
     "iopub.status.idle": "2024-01-21T08:05:41.475919Z",
     "shell.execute_reply": "2024-01-21T08:05:41.474881Z"
    },
    "papermill": {
     "duration": 18.647988,
     "end_time": "2024-01-21T08:05:41.478053",
     "exception": false,
     "start_time": "2024-01-21T08:05:22.830065",
     "status": "completed"
    },
    "tags": []
   },
   "outputs": [
    {
     "name": "stderr",
     "output_type": "stream",
     "text": [
      "/opt/conda/lib/python3.10/site-packages/scipy/__init__.py:146: UserWarning: A NumPy version >=1.16.5 and <1.23.0 is required for this version of SciPy (detected version 1.24.3\n",
      "  warnings.warn(f\"A NumPy version >={np_minversion} and <{np_maxversion}\"\n"
     ]
    },
    {
     "name": "stdout",
     "output_type": "stream",
     "text": [
      "Collecting de-core-news-sm==3.7.0\n",
      "  Downloading https://github.com/explosion/spacy-models/releases/download/de_core_news_sm-3.7.0/de_core_news_sm-3.7.0-py3-none-any.whl (14.6 MB)\n",
      "\u001b[2K     \u001b[90m━━━━━━━━━━━━━━━━━━━━━━━━━━━━━━━━━━━━━━━━\u001b[0m \u001b[32m14.6/14.6 MB\u001b[0m \u001b[31m70.1 MB/s\u001b[0m eta \u001b[36m0:00:00\u001b[0m\n",
      "\u001b[?25hRequirement already satisfied: spacy<3.8.0,>=3.7.0 in /opt/conda/lib/python3.10/site-packages (from de-core-news-sm==3.7.0) (3.7.2)\n",
      "Requirement already satisfied: spacy-legacy<3.1.0,>=3.0.11 in /opt/conda/lib/python3.10/site-packages (from spacy<3.8.0,>=3.7.0->de-core-news-sm==3.7.0) (3.0.12)\n",
      "Requirement already satisfied: spacy-loggers<2.0.0,>=1.0.0 in /opt/conda/lib/python3.10/site-packages (from spacy<3.8.0,>=3.7.0->de-core-news-sm==3.7.0) (1.0.5)\n",
      "Requirement already satisfied: murmurhash<1.1.0,>=0.28.0 in /opt/conda/lib/python3.10/site-packages (from spacy<3.8.0,>=3.7.0->de-core-news-sm==3.7.0) (1.0.10)\n",
      "Requirement already satisfied: cymem<2.1.0,>=2.0.2 in /opt/conda/lib/python3.10/site-packages (from spacy<3.8.0,>=3.7.0->de-core-news-sm==3.7.0) (2.0.8)\n",
      "Requirement already satisfied: preshed<3.1.0,>=3.0.2 in /opt/conda/lib/python3.10/site-packages (from spacy<3.8.0,>=3.7.0->de-core-news-sm==3.7.0) (3.0.9)\n",
      "Requirement already satisfied: thinc<8.3.0,>=8.1.8 in /opt/conda/lib/python3.10/site-packages (from spacy<3.8.0,>=3.7.0->de-core-news-sm==3.7.0) (8.2.2)\n",
      "Requirement already satisfied: wasabi<1.2.0,>=0.9.1 in /opt/conda/lib/python3.10/site-packages (from spacy<3.8.0,>=3.7.0->de-core-news-sm==3.7.0) (1.1.2)\n",
      "Requirement already satisfied: srsly<3.0.0,>=2.4.3 in /opt/conda/lib/python3.10/site-packages (from spacy<3.8.0,>=3.7.0->de-core-news-sm==3.7.0) (2.4.8)\n",
      "Requirement already satisfied: catalogue<2.1.0,>=2.0.6 in /opt/conda/lib/python3.10/site-packages (from spacy<3.8.0,>=3.7.0->de-core-news-sm==3.7.0) (2.0.10)\n",
      "Requirement already satisfied: weasel<0.4.0,>=0.1.0 in /opt/conda/lib/python3.10/site-packages (from spacy<3.8.0,>=3.7.0->de-core-news-sm==3.7.0) (0.3.4)\n",
      "Requirement already satisfied: typer<0.10.0,>=0.3.0 in /opt/conda/lib/python3.10/site-packages (from spacy<3.8.0,>=3.7.0->de-core-news-sm==3.7.0) (0.9.0)\n",
      "Requirement already satisfied: smart-open<7.0.0,>=5.2.1 in /opt/conda/lib/python3.10/site-packages (from spacy<3.8.0,>=3.7.0->de-core-news-sm==3.7.0) (6.3.0)\n",
      "Requirement already satisfied: tqdm<5.0.0,>=4.38.0 in /opt/conda/lib/python3.10/site-packages (from spacy<3.8.0,>=3.7.0->de-core-news-sm==3.7.0) (4.66.1)\n",
      "Requirement already satisfied: requests<3.0.0,>=2.13.0 in /opt/conda/lib/python3.10/site-packages (from spacy<3.8.0,>=3.7.0->de-core-news-sm==3.7.0) (2.31.0)\n",
      "Requirement already satisfied: pydantic!=1.8,!=1.8.1,<3.0.0,>=1.7.4 in /opt/conda/lib/python3.10/site-packages (from spacy<3.8.0,>=3.7.0->de-core-news-sm==3.7.0) (1.10.12)\n",
      "Requirement already satisfied: jinja2 in /opt/conda/lib/python3.10/site-packages (from spacy<3.8.0,>=3.7.0->de-core-news-sm==3.7.0) (3.1.2)\n",
      "Requirement already satisfied: setuptools in /opt/conda/lib/python3.10/site-packages (from spacy<3.8.0,>=3.7.0->de-core-news-sm==3.7.0) (68.1.2)\n",
      "Requirement already satisfied: packaging>=20.0 in /opt/conda/lib/python3.10/site-packages (from spacy<3.8.0,>=3.7.0->de-core-news-sm==3.7.0) (21.3)\n",
      "Requirement already satisfied: langcodes<4.0.0,>=3.2.0 in /opt/conda/lib/python3.10/site-packages (from spacy<3.8.0,>=3.7.0->de-core-news-sm==3.7.0) (3.3.0)\n",
      "Requirement already satisfied: numpy>=1.19.0 in /opt/conda/lib/python3.10/site-packages (from spacy<3.8.0,>=3.7.0->de-core-news-sm==3.7.0) (1.24.3)\n",
      "Requirement already satisfied: pyparsing!=3.0.5,>=2.0.2 in /opt/conda/lib/python3.10/site-packages (from packaging>=20.0->spacy<3.8.0,>=3.7.0->de-core-news-sm==3.7.0) (3.0.9)\n",
      "Requirement already satisfied: typing-extensions>=4.2.0 in /opt/conda/lib/python3.10/site-packages (from pydantic!=1.8,!=1.8.1,<3.0.0,>=1.7.4->spacy<3.8.0,>=3.7.0->de-core-news-sm==3.7.0) (4.5.0)\n",
      "Requirement already satisfied: charset-normalizer<4,>=2 in /opt/conda/lib/python3.10/site-packages (from requests<3.0.0,>=2.13.0->spacy<3.8.0,>=3.7.0->de-core-news-sm==3.7.0) (3.2.0)\n",
      "Requirement already satisfied: idna<4,>=2.5 in /opt/conda/lib/python3.10/site-packages (from requests<3.0.0,>=2.13.0->spacy<3.8.0,>=3.7.0->de-core-news-sm==3.7.0) (3.4)\n",
      "Requirement already satisfied: urllib3<3,>=1.21.1 in /opt/conda/lib/python3.10/site-packages (from requests<3.0.0,>=2.13.0->spacy<3.8.0,>=3.7.0->de-core-news-sm==3.7.0) (1.26.15)\n",
      "Requirement already satisfied: certifi>=2017.4.17 in /opt/conda/lib/python3.10/site-packages (from requests<3.0.0,>=2.13.0->spacy<3.8.0,>=3.7.0->de-core-news-sm==3.7.0) (2023.11.17)\n",
      "Requirement already satisfied: blis<0.8.0,>=0.7.8 in /opt/conda/lib/python3.10/site-packages (from thinc<8.3.0,>=8.1.8->spacy<3.8.0,>=3.7.0->de-core-news-sm==3.7.0) (0.7.10)\n",
      "Requirement already satisfied: confection<1.0.0,>=0.0.1 in /opt/conda/lib/python3.10/site-packages (from thinc<8.3.0,>=8.1.8->spacy<3.8.0,>=3.7.0->de-core-news-sm==3.7.0) (0.1.4)\n",
      "Requirement already satisfied: click<9.0.0,>=7.1.1 in /opt/conda/lib/python3.10/site-packages (from typer<0.10.0,>=0.3.0->spacy<3.8.0,>=3.7.0->de-core-news-sm==3.7.0) (8.1.7)\n",
      "Requirement already satisfied: cloudpathlib<0.17.0,>=0.7.0 in /opt/conda/lib/python3.10/site-packages (from weasel<0.4.0,>=0.1.0->spacy<3.8.0,>=3.7.0->de-core-news-sm==3.7.0) (0.16.0)\n",
      "Requirement already satisfied: MarkupSafe>=2.0 in /opt/conda/lib/python3.10/site-packages (from jinja2->spacy<3.8.0,>=3.7.0->de-core-news-sm==3.7.0) (2.1.3)\n",
      "Installing collected packages: de-core-news-sm\n",
      "Successfully installed de-core-news-sm-3.7.0\n",
      "\u001b[38;5;2m✔ Download and installation successful\u001b[0m\n",
      "You can now load the package via spacy.load('de_core_news_sm')\n",
      "Loaded English and German tokenizers.\n"
     ]
    }
   ],
   "source": [
    "# global variables used later in the script\n",
    "spacy_de, spacy_en = load_tokenizers()"
   ]
  },
  {
   "cell_type": "code",
   "execution_count": 16,
   "id": "f1e6c53b",
   "metadata": {
    "execution": {
     "iopub.execute_input": "2024-01-21T08:05:41.511834Z",
     "iopub.status.busy": "2024-01-21T08:05:41.511518Z",
     "iopub.status.idle": "2024-01-21T08:05:46.751056Z",
     "shell.execute_reply": "2024-01-21T08:05:46.750132Z"
    },
    "papermill": {
     "duration": 5.258718,
     "end_time": "2024-01-21T08:05:46.753167",
     "exception": false,
     "start_time": "2024-01-21T08:05:41.494449",
     "status": "completed"
    },
    "tags": []
   },
   "outputs": [
    {
     "name": "stdout",
     "output_type": "stream",
     "text": [
      "Building German Vocabulary...\n",
      "Building English Vocabulary...\n",
      "Finished.\n",
      "Vocabulary sizes:\n",
      "\tSource: 7983\n",
      "\tTarget: 5979\n"
     ]
    }
   ],
   "source": [
    "vocab_src, vocab_trg = load_vocab(\n",
    "                            spacy_de, \n",
    "                            spacy_en, \n",
    "                            train_iter, \n",
    "                            val_iter, \n",
    "                            test_iter)"
   ]
  },
  {
   "cell_type": "code",
   "execution_count": 17,
   "id": "71426804",
   "metadata": {
    "execution": {
     "iopub.execute_input": "2024-01-21T08:05:46.787333Z",
     "iopub.status.busy": "2024-01-21T08:05:46.787033Z",
     "iopub.status.idle": "2024-01-21T08:05:46.791135Z",
     "shell.execute_reply": "2024-01-21T08:05:46.790315Z"
    },
    "papermill": {
     "duration": 0.023169,
     "end_time": "2024-01-21T08:05:46.792997",
     "exception": false,
     "start_time": "2024-01-21T08:05:46.769828",
     "status": "completed"
    },
    "tags": []
   },
   "outputs": [],
   "source": [
    "BOS_IDX = vocab_trg['<bos>']\n",
    "EOS_IDX = vocab_trg['<eos>']\n",
    "PAD_IDX = vocab_trg['<pad>']"
   ]
  },
  {
   "cell_type": "markdown",
   "id": "f28f1c5a",
   "metadata": {
    "papermill": {
     "duration": 0.015956,
     "end_time": "2024-01-21T08:05:46.825248",
     "exception": false,
     "start_time": "2024-01-21T08:05:46.809292",
     "status": "completed"
    },
    "tags": []
   },
   "source": [
    "# Perform data preprocess"
   ]
  },
  {
   "cell_type": "code",
   "execution_count": 18,
   "id": "47b9ce0c",
   "metadata": {
    "execution": {
     "iopub.execute_input": "2024-01-21T08:05:46.858614Z",
     "iopub.status.busy": "2024-01-21T08:05:46.858343Z",
     "iopub.status.idle": "2024-01-21T08:05:46.865142Z",
     "shell.execute_reply": "2024-01-21T08:05:46.864391Z"
    },
    "papermill": {
     "duration": 0.025562,
     "end_time": "2024-01-21T08:05:46.866900",
     "exception": false,
     "start_time": "2024-01-21T08:05:46.841338",
     "status": "completed"
    },
    "tags": []
   },
   "outputs": [],
   "source": [
    "def data_process(raw_data):\n",
    "    \"\"\"\n",
    "    Process raw sentences by tokenizing and converting to integers based on \n",
    "    the vocabulary.\n",
    "\n",
    "    Args:\n",
    "        raw_data:     German-English sentence pairs \n",
    "    Returns:\n",
    "        data:         tokenized data converted to index based on vocabulary   \n",
    "    \"\"\"\n",
    "    data = []\n",
    "    # loop through each sentence pair\n",
    "    for (raw_de, raw_en) in tqdm(raw_data):\n",
    "        de_tensor_ = []\n",
    "        # tokenize the sentence and convert each word to an integers\n",
    "        for token in spacy_de.tokenizer(raw_de):\n",
    "            de_tensor_.append(vocab_src[token.text.lower()])\n",
    "            \n",
    "        en_tensor_ = []\n",
    "        # tokenize the sentence and convert each word to an integers\n",
    "        for token in spacy_en.tokenizer(raw_en):\n",
    "            en_tensor_.append(vocab_trg[token.text.lower()])\n",
    "            \n",
    "        de_tensor_ = torch.tensor(de_tensor_, dtype=torch.long)\n",
    "        en_tensor_ = torch.tensor(en_tensor_, dtype=torch.long)\n",
    "        # append tensor representations\n",
    "        data.append((de_tensor_, en_tensor_))\n",
    "    return data"
   ]
  },
  {
   "cell_type": "code",
   "execution_count": 19,
   "id": "1bd4078a",
   "metadata": {
    "execution": {
     "iopub.execute_input": "2024-01-21T08:05:46.900237Z",
     "iopub.status.busy": "2024-01-21T08:05:46.899990Z",
     "iopub.status.idle": "2024-01-21T08:05:51.018265Z",
     "shell.execute_reply": "2024-01-21T08:05:51.017334Z"
    },
    "papermill": {
     "duration": 4.137058,
     "end_time": "2024-01-21T08:05:51.020178",
     "exception": false,
     "start_time": "2024-01-21T08:05:46.883120",
     "status": "completed"
    },
    "tags": []
   },
   "outputs": [
    {
     "name": "stderr",
     "output_type": "stream",
     "text": [
      "100%|██████████| 27550/27550 [00:03<00:00, 7683.42it/s]\n"
     ]
    },
    {
     "name": "stdout",
     "output_type": "stream",
     "text": [
      "Train data shape: 27550\n"
     ]
    },
    {
     "name": "stderr",
     "output_type": "stream",
     "text": [
      "100%|██████████| 1450/1450 [00:00<00:00, 3720.10it/s]\n"
     ]
    },
    {
     "name": "stdout",
     "output_type": "stream",
     "text": [
      "Val data shape: 1450\n"
     ]
    },
    {
     "name": "stderr",
     "output_type": "stream",
     "text": [
      "100%|██████████| 1000/1000 [00:00<00:00, 7825.15it/s]"
     ]
    },
    {
     "name": "stdout",
     "output_type": "stream",
     "text": [
      "Test data shape: 1000\n"
     ]
    },
    {
     "name": "stderr",
     "output_type": "stream",
     "text": [
      "\n"
     ]
    }
   ],
   "source": [
    "# processed data\n",
    "train_data = data_process(train_iter)\n",
    "print(f\"Train data shape: {len(train_data)}\")\n",
    "val_data = data_process(val_iter)\n",
    "print(f\"Val data shape: {len(val_data)}\")\n",
    "test_data = data_process(test_iter)\n",
    "print(f\"Test data shape: {len(test_data)}\")"
   ]
  },
  {
   "cell_type": "markdown",
   "id": "5d040fbd",
   "metadata": {
    "papermill": {
     "duration": 0.019688,
     "end_time": "2024-01-21T08:05:51.060596",
     "exception": false,
     "start_time": "2024-01-21T08:05:51.040908",
     "status": "completed"
    },
    "tags": []
   },
   "source": [
    "# Create collate function"
   ]
  },
  {
   "cell_type": "code",
   "execution_count": 20,
   "id": "a4d500ef",
   "metadata": {
    "execution": {
     "iopub.execute_input": "2024-01-21T08:05:51.101655Z",
     "iopub.status.busy": "2024-01-21T08:05:51.101317Z",
     "iopub.status.idle": "2024-01-21T08:05:51.109046Z",
     "shell.execute_reply": "2024-01-21T08:05:51.108203Z"
    },
    "papermill": {
     "duration": 0.030465,
     "end_time": "2024-01-21T08:05:51.110884",
     "exception": false,
     "start_time": "2024-01-21T08:05:51.080419",
     "status": "completed"
    },
    "tags": []
   },
   "outputs": [],
   "source": [
    "def generate_batch(data_batch):\n",
    "    \"\"\"\n",
    "    Process indexed-sequences by adding <bos>, <eos>, and <pad> tokens.\n",
    "\n",
    "    Args:\n",
    "        data_batch:     German-English indexed-sentence pairs\n",
    "\n",
    "    Returns:\n",
    "        two batches:    one for German and one for English\n",
    "    \"\"\"\n",
    "    de_batch, en_batch = [], []\n",
    "\n",
    "    # for each sentence\n",
    "    for (de_item, en_item) in data_batch:\n",
    "        # add <bos> and <eos> indices before and after the sentence\n",
    "        de_temp = torch.cat([torch.tensor([BOS_IDX]), \n",
    "                             de_item, \n",
    "                             torch.tensor([EOS_IDX])], dim=0).to(device)\n",
    "        en_temp = torch.cat([torch.tensor([BOS_IDX]), \n",
    "                             en_item, \n",
    "                             torch.tensor([EOS_IDX])], dim=0).to(device)\n",
    "\n",
    "        # add padding\n",
    "        de_batch.append(pad(de_temp,(0, # dimension to pad\n",
    "                                MAX_PADDING - len(de_temp), # amount of padding to add\n",
    "                              ),value=PAD_IDX,))\n",
    "\n",
    "        # add padding\n",
    "        en_batch.append(pad(en_temp,(0, # dimension to pad\n",
    "                                MAX_PADDING - len(en_temp), # amount of padding to add\n",
    "                              ),\n",
    "                              value=PAD_IDX,))\n",
    "\n",
    "    return torch.stack(de_batch), torch.stack(en_batch)"
   ]
  },
  {
   "cell_type": "markdown",
   "id": "8b735bcd",
   "metadata": {
    "papermill": {
     "duration": 0.020045,
     "end_time": "2024-01-21T08:05:51.150760",
     "exception": false,
     "start_time": "2024-01-21T08:05:51.130715",
     "status": "completed"
    },
    "tags": []
   },
   "source": [
    "# Creating DataLoaders for training and testing"
   ]
  },
  {
   "cell_type": "code",
   "execution_count": 21,
   "id": "c8eef715",
   "metadata": {
    "execution": {
     "iopub.execute_input": "2024-01-21T08:05:51.191860Z",
     "iopub.status.busy": "2024-01-21T08:05:51.191577Z",
     "iopub.status.idle": "2024-01-21T08:05:51.201194Z",
     "shell.execute_reply": "2024-01-21T08:05:51.200412Z"
    },
    "papermill": {
     "duration": 0.032387,
     "end_time": "2024-01-21T08:05:51.203113",
     "exception": false,
     "start_time": "2024-01-21T08:05:51.170726",
     "status": "completed"
    },
    "tags": []
   },
   "outputs": [],
   "source": [
    "MAX_PADDING = 20\n",
    "BATCH_SIZE = 128\n",
    "\n",
    "train_iter = DataLoader(\n",
    "                to_map_style_dataset(train_data), \n",
    "                batch_size=BATCH_SIZE,\n",
    "                shuffle=True, \n",
    "                drop_last=True, \n",
    "                collate_fn=generate_batch)\n",
    "\n",
    "valid_iter = DataLoader(\n",
    "                to_map_style_dataset(val_data),\n",
    "                batch_size=BATCH_SIZE,\n",
    "                shuffle=True, \n",
    "                drop_last=True, \n",
    "                collate_fn=generate_batch)\n",
    "\n",
    "test_iter = DataLoader(\n",
    "                to_map_style_dataset(test_data), \n",
    "                batch_size=BATCH_SIZE,\n",
    "                shuffle=True, \n",
    "                drop_last=True, \n",
    "                collate_fn=generate_batch)\n"
   ]
  },
  {
   "cell_type": "markdown",
   "id": "7361b6a0",
   "metadata": {
    "papermill": {
     "duration": 0.020014,
     "end_time": "2024-01-21T08:05:51.242961",
     "exception": false,
     "start_time": "2024-01-21T08:05:51.222947",
     "status": "completed"
    },
    "tags": []
   },
   "source": [
    "# Creating Attention Network Model"
   ]
  },
  {
   "cell_type": "code",
   "execution_count": 22,
   "id": "a2210e18",
   "metadata": {
    "execution": {
     "iopub.execute_input": "2024-01-21T08:05:51.285340Z",
     "iopub.status.busy": "2024-01-21T08:05:51.284659Z",
     "iopub.status.idle": "2024-01-21T08:05:51.288757Z",
     "shell.execute_reply": "2024-01-21T08:05:51.287945Z"
    },
    "papermill": {
     "duration": 0.027893,
     "end_time": "2024-01-21T08:05:51.290672",
     "exception": false,
     "start_time": "2024-01-21T08:05:51.262779",
     "status": "completed"
    },
    "tags": []
   },
   "outputs": [],
   "source": [
    "import math"
   ]
  },
  {
   "cell_type": "markdown",
   "id": "e5a25246",
   "metadata": {
    "papermill": {
     "duration": 0.019647,
     "end_time": "2024-01-21T08:05:51.330113",
     "exception": false,
     "start_time": "2024-01-21T08:05:51.310466",
     "status": "completed"
    },
    "tags": []
   },
   "source": [
    "## Create submodules for network"
   ]
  },
  {
   "cell_type": "code",
   "execution_count": 23,
   "id": "91a117a5",
   "metadata": {
    "execution": {
     "iopub.execute_input": "2024-01-21T08:05:51.371265Z",
     "iopub.status.busy": "2024-01-21T08:05:51.370577Z",
     "iopub.status.idle": "2024-01-21T08:05:51.376863Z",
     "shell.execute_reply": "2024-01-21T08:05:51.376045Z"
    },
    "papermill": {
     "duration": 0.028713,
     "end_time": "2024-01-21T08:05:51.378654",
     "exception": false,
     "start_time": "2024-01-21T08:05:51.349941",
     "status": "completed"
    },
    "tags": []
   },
   "outputs": [],
   "source": [
    "class Embedding(nn.Module):\n",
    "    \"\"\"\n",
    "    Embedding lookup table which is used by the positional embedding block.\n",
    "    Embedding lookup table is shared across input and output\n",
    "    \"\"\"\n",
    "    def __init__(self, vocab_size, dmodel):\n",
    "        \"\"\"\n",
    "        Embedding lookup needs a vocab size and model dimension size matrix for \n",
    "        creating lookups\n",
    "        \"\"\"\n",
    "        super().__init__()\n",
    "        self.embedding_lookup = nn.Embedding(vocab_size, dmodel)\n",
    "        self.vocab_size = vocab_size\n",
    "        self.dmodel = dmodel\n",
    "        \n",
    "    def forward(self, token_ids):\n",
    "        \"\"\"\n",
    "        For a given token lookup the embedding vector\n",
    "        \n",
    "        As per the paper, we also multiply the embedding vector with sqrt of dmodel \n",
    "        \"\"\"\n",
    "        assert token_ids.ndim == 2, \\\n",
    "        f'Expected: (batch size, max token sequence length), got {token_ids.shape}'\n",
    "        \n",
    "        embedding_vector = self.embedding_lookup(token_ids)\n",
    "        \n",
    "        return embedding_vector * math.sqrt(self.dmodel)\n"
   ]
  },
  {
   "cell_type": "code",
   "execution_count": 24,
   "id": "13a0dd07",
   "metadata": {
    "execution": {
     "iopub.execute_input": "2024-01-21T08:05:51.419450Z",
     "iopub.status.busy": "2024-01-21T08:05:51.418831Z",
     "iopub.status.idle": "2024-01-21T08:05:51.427940Z",
     "shell.execute_reply": "2024-01-21T08:05:51.427130Z"
    },
    "papermill": {
     "duration": 0.03126,
     "end_time": "2024-01-21T08:05:51.429652",
     "exception": false,
     "start_time": "2024-01-21T08:05:51.398392",
     "status": "completed"
    },
    "tags": []
   },
   "outputs": [],
   "source": [
    "class PositionalEncoding(nn.Module):\n",
    "    def __init__(self, dmodel, max_seq_length = 5000, pdropout = 0.1,):\n",
    "        \"\"\"\n",
    "        dmodel(int): model dimensions\n",
    "        max_seq_length(int): Maximum input sequence length\n",
    "        pdropout(float): Dropout probability\n",
    "        \"\"\"\n",
    "        super().__init__()\n",
    "        self.dropout = nn.Dropout(p = pdropout)\n",
    "        \n",
    "        # Calculate frequencies\n",
    "        position_ids = torch.arange(0, max_seq_length).unsqueeze(1)\n",
    "        # -ve sign is added because the exponents are inverted when you multiply position and frequencies\n",
    "        frequencies = torch.pow(10000, -torch.arange(0, dmodel, 2, dtype = torch.float)/ dmodel) \n",
    "        \n",
    "        # Create positional encoding table\n",
    "        positional_encoding_table = torch.zeros(max_seq_length, dmodel)\n",
    "        # Fill the table with even entries with sin and odd entries with cosine\n",
    "        positional_encoding_table[:, 0::2] = torch.sin(position_ids * frequencies)\n",
    "        positional_encoding_table[:, 1::2] = torch.cos(position_ids * frequencies)\n",
    "    \n",
    "        # Registering the position enconding in state_dict but the its not included \n",
    "        # in named parameter as it is not trainable\n",
    "        self.register_buffer(\"positional_encoding_table\", positional_encoding_table)\n",
    "    \n",
    "    def forward(self, embeddings_batch):\n",
    "        \"\"\"\n",
    "        embeddings_batch shape = (batch size, seq_length, dmodel)\n",
    "        positional_encoding_table shape = (max_seq_length, dmodel)\n",
    "        \"\"\"\n",
    "        assert embeddings_batch.ndim == 3, \\\n",
    "        f\"Embeddings batch should have dimension of 3 but got {embeddings_batch.ndim}\"\n",
    "        assert embeddings_batch.size()[-1] == self.positional_encoding_table.size()[-1], \\\n",
    "        f\"Embedding batch shape and positional_encoding_table shape should match, expected Embedding batch shape : {embeddings_batch.shape[-1]} while positional_encoding_table shape : {positional_encoding_table[-1]}\"\n",
    "        \n",
    "        # Get encodings for the given input sequence length\n",
    "        pos_encodings = self.positional_encoding_table[:embeddings_batch.shape[1]] # Choose only seq_length out of max_seq_length\n",
    "        \n",
    "        # Final output \n",
    "        out = embeddings_batch + pos_encodings\n",
    "        out = self.dropout(out)\n",
    "        return out"
   ]
  },
  {
   "cell_type": "code",
   "execution_count": 25,
   "id": "e17a8860",
   "metadata": {
    "execution": {
     "iopub.execute_input": "2024-01-21T08:05:51.470865Z",
     "iopub.status.busy": "2024-01-21T08:05:51.470366Z",
     "iopub.status.idle": "2024-01-21T08:05:51.476325Z",
     "shell.execute_reply": "2024-01-21T08:05:51.475530Z"
    },
    "papermill": {
     "duration": 0.028523,
     "end_time": "2024-01-21T08:05:51.478116",
     "exception": false,
     "start_time": "2024-01-21T08:05:51.449593",
     "status": "completed"
    },
    "tags": []
   },
   "outputs": [],
   "source": [
    "class PositionwiseFeedForward(nn.Module):\n",
    "    def __init__(self, dmodel, dff, pdropout = 0.1):\n",
    "        super().__init__()\n",
    "        \n",
    "        self.dropout = nn.Dropout(p = pdropout)\n",
    "        \n",
    "        self.W1 = nn.Linear(dmodel, dff)      # Intermediate layer\n",
    "        self.W2 = nn.Linear(dff, dmodel)    # Output layer\n",
    "        \n",
    "        self.relu = nn.ReLU()\n",
    "        \n",
    "    def forward(self, x):\n",
    "        \"\"\"\n",
    "        Perform Feedforward calculation\n",
    "        \n",
    "        x shape = (B - batch size, S/T - max token sequence length, D- model dimension).\n",
    "        \"\"\"\n",
    "        out = self.W2(self.relu(self.dropout(self.W1(x))))\n",
    "        return out"
   ]
  },
  {
   "cell_type": "code",
   "execution_count": 26,
   "id": "c4588e1a",
   "metadata": {
    "execution": {
     "iopub.execute_input": "2024-01-21T08:05:51.518860Z",
     "iopub.status.busy": "2024-01-21T08:05:51.518358Z",
     "iopub.status.idle": "2024-01-21T08:05:51.532152Z",
     "shell.execute_reply": "2024-01-21T08:05:51.531352Z"
    },
    "papermill": {
     "duration": 0.036172,
     "end_time": "2024-01-21T08:05:51.534035",
     "exception": false,
     "start_time": "2024-01-21T08:05:51.497863",
     "status": "completed"
    },
    "tags": []
   },
   "outputs": [],
   "source": [
    "class MultiHeadAttention(nn.Module):\n",
    "    \"\"\"\n",
    "    We can refer to the following blog to understand in depth about the transformer and MHA\n",
    "    https://medium.com/@hunter-j-phillips/multi-head-attention-7924371d477a\n",
    "    \n",
    "    Here we are clubbing all the linear layers together and duplicating the inputs and \n",
    "    then performing matrix multiplications\n",
    "    \"\"\"\n",
    "    def __init__(self, dk, dv, h, pdropout=0.1):\n",
    "        \"\"\"\n",
    "        Input Args:\n",
    "        \n",
    "        dk(int): Key dimensions used for generating Key weight matrix\n",
    "        dv(int): Val dimensions used for generating val weight matrix\n",
    "        h(int) : Number of heads in MHA\n",
    "        \"\"\"\n",
    "        super().__init__()\n",
    "        assert dk == dv\n",
    "        self.dk = dk\n",
    "        self.dv = dv\n",
    "        self.h = h\n",
    "        self.dmodel = self.dk * self.h  # model dimension\n",
    "        \n",
    "        # Add the params in modulelist as the params in the conv list needs to be tracked\n",
    "        # wq, wk, wv -> multiple linear weights for the number of heads\n",
    "        self.WQ = nn.Linear(self.dmodel, self.dmodel) # shape -> (dmodel, dmodel)\n",
    "        self.WK = nn.Linear(self.dmodel, self.dmodel) # shape -> (dmodel, dmodel)\n",
    "        self.WV = nn.Linear(self.dmodel, self.dmodel) # shape -> (dmodel, dmodel)\n",
    "        # Output Weights\n",
    "        self.WO = nn.Linear(self.h*self.dv, self.dmodel)  # shape -> (dmodel, dmodel)\n",
    "        self.softmax = nn.Softmax(dim=-1)\n",
    "        self.dropout = nn.Dropout(p = pdropout)\n",
    "        \n",
    "    def forward(self, query, key, val, mask=None):\n",
    "        \"\"\"\n",
    "        Forward pass for MHA\n",
    "        \n",
    "        X has a size of (batch_size, seq_length, d_model)\n",
    "        Wq, Wk, and Wv have a size of (d_model, d_model)\n",
    "        \n",
    "        Perform Scaled Dot Product Attention on multi head attention. \n",
    "        \n",
    "        Notation: B - batch size, S/T - max src/trg token-sequence length\n",
    "        query shape = (B, S, dmodel)\n",
    "        key shape = (B, S, dmodel)\n",
    "        val shape = (B, S, dmodel)\n",
    "        \"\"\"\n",
    "        # Weight the queries\n",
    "        Q = self.WQ(query)     # shape -> (B, S, dmodel)\n",
    "        K = self.WK(key)       # shape -> (B, S, dmodel)\n",
    "        V = self.WV(val)       # shape -> (B, S, dmodel)\n",
    "        \n",
    "        # Separate last dimension to number of head and dk\n",
    "        batch_size = Q.size(0)   \n",
    "        Q = Q.view(batch_size, -1, self.h, self.dk)   # shape -> (B, S, h, dk)\n",
    "        K = K.view(batch_size, -1, self.h, self.dk)   # shape -> (B, S, h, dk)\n",
    "        V = V.view(batch_size, -1, self.h, self.dk)   # shape -> (B, S, h, dk)\n",
    "        \n",
    "        # each sequence is split across n_heads, with each head receiving seq_length tokens \n",
    "        # with d_key elements in each token instead of d_model.\n",
    "        Q = Q.permute(0, 2, 1, 3) # shape -> (B, h, S, dk)\n",
    "        K = K.permute(0, 2, 1, 3) # shape -> (B, h, S, dk)\n",
    "        V = V.permute(0, 2, 1, 3) # shape -> (B, h, S, dk)\n",
    "        \n",
    "        # dot product of Q and K\n",
    "        scaled_dot_product = torch.matmul(Q, K.permute(0, 1, 3, 2)) / math.sqrt(self.dk)\n",
    "        \n",
    "        # fill those positions of product as (-1e10) where mask positions are 0\n",
    "        if mask is not None:\n",
    "            scaled_dot_product = scaled_dot_product.masked_fill(mask == 0, -1e10)\n",
    "            \n",
    "        attn_probs = self.softmax(scaled_dot_product)\n",
    "        \n",
    "        # Create head \n",
    "        head = torch.matmul(self.dropout(attn_probs), V)  # shape -> (B, h, S, S) * (B, h, S, dk) = (B, h, S, dk)\n",
    "        # Prepare the head to pass it through output linear layer\n",
    "        head = head.permute(0, 2, 1, 3).contiguous()  # shape -> (B, S, h, dk)\n",
    "        # Concatenate the head together\n",
    "        head = head.view(batch_size, -1, self.h* self.dk)  # shape -> (B, S, (h*dk = dmodel))\n",
    "        # Pass through output layer\n",
    "        token_representation = self.WO(head)\n",
    "        return token_representation, attn_probs\n",
    "    "
   ]
  },
  {
   "cell_type": "markdown",
   "id": "cd9014aa",
   "metadata": {
    "papermill": {
     "duration": 0.019653,
     "end_time": "2024-01-21T08:05:51.573515",
     "exception": false,
     "start_time": "2024-01-21T08:05:51.553862",
     "status": "completed"
    },
    "tags": []
   },
   "source": [
    "## Create Encoder for the Network"
   ]
  },
  {
   "cell_type": "code",
   "execution_count": 27,
   "id": "52e2eb3f",
   "metadata": {
    "execution": {
     "iopub.execute_input": "2024-01-21T08:05:51.614327Z",
     "iopub.status.busy": "2024-01-21T08:05:51.614070Z",
     "iopub.status.idle": "2024-01-21T08:05:51.622030Z",
     "shell.execute_reply": "2024-01-21T08:05:51.621233Z"
    },
    "papermill": {
     "duration": 0.030201,
     "end_time": "2024-01-21T08:05:51.623803",
     "exception": false,
     "start_time": "2024-01-21T08:05:51.593602",
     "status": "completed"
    },
    "tags": []
   },
   "outputs": [],
   "source": [
    "class EncoderLayer(nn.Module):\n",
    "    \"\"\"\n",
    "    This building block in the encoder layer consists of the following\n",
    "    1. MultiHead Attention\n",
    "    2. Sublayer Logic\n",
    "    3. Positional FeedForward Network\n",
    "    \"\"\"\n",
    "    def __init__(self, dk, dv, h, dim_multiplier = 4, pdropout=0.1):\n",
    "        super().__init__()\n",
    "        self.attention = MultiHeadAttention(dk, dv, h, pdropout)\n",
    "        # Reference page 5 chapter 3.2.2 Multi-head attention\n",
    "        dmodel = dk*h\n",
    "        # Reference page 5 chapter 3.3 positionwise FeedForward\n",
    "        dff = dmodel * dim_multiplier\n",
    "        self.attn_norm = nn.LayerNorm(dmodel)\n",
    "        self.ff = PositionwiseFeedForward(dmodel, dff, pdropout=pdropout)\n",
    "        self.ff_norm = nn.LayerNorm(dmodel)\n",
    "        \n",
    "        self.dropout = nn.Dropout(p = pdropout)\n",
    "        \n",
    "    def forward(self, src_inputs, src_mask=None):\n",
    "        \"\"\"\n",
    "        Forward pass as per page 3 chapter 3.1\n",
    "        \"\"\"\n",
    "        mha_out, attention_wts = self.attention(\n",
    "                                query = src_inputs, \n",
    "                                key = src_inputs, \n",
    "                                val = src_inputs, \n",
    "                                mask = src_mask)\n",
    "        \n",
    "        # Residual connection between input and sublayer output, details: Page 7, Chapter 5.4 \"Regularization\",\n",
    "        # Actual paper design is the following\n",
    "        intermediate_out = self.attn_norm(src_inputs + self.dropout(mha_out))\n",
    "        \n",
    "        pff_out = self.ff(intermediate_out)\n",
    "        \n",
    "        # Perform Add Norm again\n",
    "        out = self.ff_norm(intermediate_out + self.dropout(pff_out))\n",
    "        return out, attention_wts"
   ]
  },
  {
   "cell_type": "code",
   "execution_count": 28,
   "id": "0196fe1b",
   "metadata": {
    "execution": {
     "iopub.execute_input": "2024-01-21T08:05:51.664389Z",
     "iopub.status.busy": "2024-01-21T08:05:51.664133Z",
     "iopub.status.idle": "2024-01-21T08:05:51.670472Z",
     "shell.execute_reply": "2024-01-21T08:05:51.669567Z"
    },
    "papermill": {
     "duration": 0.028625,
     "end_time": "2024-01-21T08:05:51.672289",
     "exception": false,
     "start_time": "2024-01-21T08:05:51.643664",
     "status": "completed"
    },
    "tags": []
   },
   "outputs": [],
   "source": [
    "class Encoder(nn.Module):\n",
    "    def __init__(self, dk, dv, h, num_encoders, dim_multiplier = 4, pdropout=0.1):\n",
    "        super().__init__()\n",
    "        self.encoder_layers = nn.ModuleList([\n",
    "            EncoderLayer(dk, \n",
    "                         dv, \n",
    "                         h, \n",
    "                         dim_multiplier, \n",
    "                         pdropout) for _ in range(num_encoders)\n",
    "        ])\n",
    "        \n",
    "    def forward(self, src_inputs, src_mask = None):\n",
    "        \"\"\"\n",
    "        Input from the Embedding layer\n",
    "        src_inputs = (B - batch size, S/T - max token sequence length, D- model dimension)\n",
    "        \"\"\"\n",
    "        src_representation = src_inputs\n",
    "        \n",
    "        # Forward pass through encoder stack\n",
    "        for enc in self.encoder_layers:\n",
    "            src_representation, attn_probs = enc(src_representation, src_mask)\n",
    "            \n",
    "        self.attn_probs = attn_probs\n",
    "        return src_representation"
   ]
  },
  {
   "cell_type": "markdown",
   "id": "cdb3a6cf",
   "metadata": {
    "papermill": {
     "duration": 0.019681,
     "end_time": "2024-01-21T08:05:51.711907",
     "exception": false,
     "start_time": "2024-01-21T08:05:51.692226",
     "status": "completed"
    },
    "tags": []
   },
   "source": [
    "## Create Decoder Layer"
   ]
  },
  {
   "cell_type": "code",
   "execution_count": 29,
   "id": "f687a91e",
   "metadata": {
    "execution": {
     "iopub.execute_input": "2024-01-21T08:05:51.753167Z",
     "iopub.status.busy": "2024-01-21T08:05:51.752653Z",
     "iopub.status.idle": "2024-01-21T08:05:51.764592Z",
     "shell.execute_reply": "2024-01-21T08:05:51.763772Z"
    },
    "papermill": {
     "duration": 0.034859,
     "end_time": "2024-01-21T08:05:51.766517",
     "exception": false,
     "start_time": "2024-01-21T08:05:51.731658",
     "status": "completed"
    },
    "tags": []
   },
   "outputs": [],
   "source": [
    "class DecoderLayer(nn.Module):\n",
    "    def __init__(\n",
    "                self, \n",
    "                dk, \n",
    "                dv, \n",
    "                h,\n",
    "                dim_multiplier = 4, \n",
    "                pdropout = 0.1):\n",
    "        super().__init__()\n",
    "        \n",
    "        # Reference page 5 chapter 3.2.2 Multi-head attention\n",
    "        dmodel = dk*h\n",
    "        # Reference page 5 chapter 3.3 positionwise FeedForward\n",
    "        dff = dmodel * dim_multiplier\n",
    "        \n",
    "        # Masked Multi Head Attention\n",
    "        self.masked_attention = MultiHeadAttention(dk, dv, h, pdropout)\n",
    "        self.masked_attn_norm = nn.LayerNorm(dmodel)\n",
    "        \n",
    "        # Multi head attention\n",
    "        self.attention = MultiHeadAttention(dk, dv, h, pdropout)\n",
    "        self.attn_norm = nn.LayerNorm(dmodel)\n",
    "        \n",
    "        # Add position FeedForward Network\n",
    "        self.ff = PositionwiseFeedForward(dmodel, dff, pdropout=pdropout)\n",
    "        self.ff_norm = nn.LayerNorm(dmodel)\n",
    "        \n",
    "        self.dropout = nn.Dropout(p = pdropout)\n",
    "        \n",
    "    def forward(self, trg: Tensor, src: Tensor, trg_mask: Tensor, src_mask: Tensor):\n",
    "        \"\"\"\n",
    "        Args:\n",
    "            trg:          embedded sequences                (batch_size, trg_seq_length, d_model)\n",
    "            src:          embedded sequences                (batch_size, src_seq_length, d_model)\n",
    "            trg_mask:     mask for the sequences            (batch_size, 1, trg_seq_length, trg_seq_length)\n",
    "            src_mask:     mask for the sequences            (batch_size, 1, 1, src_seq_length)\n",
    "\n",
    "        Returns:\n",
    "            trg:          sequences after self-attention    (batch_size, trg_seq_length, d_model)\n",
    "            attn_probs:   self-attention softmax scores     (batch_size, n_heads, trg_seq_length, src_seq_length)\n",
    "        \"\"\"\n",
    "        _trg, attn_probs = self.masked_attention(\n",
    "                                query = trg, \n",
    "                                key = trg, \n",
    "                                val = trg, \n",
    "                                mask = trg_mask)\n",
    "        \n",
    "        # Residual connection between input and sublayer output, details: Page 7, Chapter 5.4 \"Regularization\",\n",
    "        # Actual paper design is the following\n",
    "        trg = self.masked_attn_norm(trg + self.dropout(_trg))\n",
    "        \n",
    "        # Inputs to the decoder attention is given as follows\n",
    "        # query = previous decoder layer\n",
    "        # key and val = output of encoder\n",
    "        # mask = src_mask\n",
    "        # Reference : page 5 chapter 3.2.3 point 1\n",
    "        _trg, attn_probs = self.attention(\n",
    "                                query = trg, \n",
    "                                key = src, \n",
    "                                val = src, \n",
    "                                mask = src_mask)\n",
    "        trg = self.attn_norm(trg + self.dropout(_trg))\n",
    "        \n",
    "        # position-wise feed-forward network\n",
    "        _trg = self.ff(trg)\n",
    "        # Perform Add Norm again\n",
    "        trg = self.ff_norm(trg + self.dropout(_trg))\n",
    "        return trg, attn_probs"
   ]
  },
  {
   "cell_type": "code",
   "execution_count": 30,
   "id": "51af5a12",
   "metadata": {
    "execution": {
     "iopub.execute_input": "2024-01-21T08:05:51.807358Z",
     "iopub.status.busy": "2024-01-21T08:05:51.807096Z",
     "iopub.status.idle": "2024-01-21T08:05:51.813996Z",
     "shell.execute_reply": "2024-01-21T08:05:51.813210Z"
    },
    "papermill": {
     "duration": 0.029261,
     "end_time": "2024-01-21T08:05:51.815732",
     "exception": false,
     "start_time": "2024-01-21T08:05:51.786471",
     "status": "completed"
    },
    "tags": []
   },
   "outputs": [],
   "source": [
    "class Decoder(nn.Module):\n",
    "    def __init__(\n",
    "                self, \n",
    "                dk, \n",
    "                dv, \n",
    "                h, \n",
    "                num_decoders, \n",
    "                dim_multiplier = 4, \n",
    "                pdropout=0.1):\n",
    "        super().__init__()\n",
    "        self.decoder_layers = nn.ModuleList([\n",
    "            DecoderLayer(dk, \n",
    "                         dv, \n",
    "                         h, \n",
    "                         dim_multiplier, \n",
    "                         pdropout) for _ in range(num_decoders)\n",
    "        ])\n",
    "        \n",
    "    def forward(self, target_inputs, src_inputs, target_mask, src_mask):\n",
    "        \"\"\"\n",
    "        Input from the Embedding layer\n",
    "        target_inputs = embedded sequences    (batch_size, trg_seq_length, d_model)\n",
    "        src_inputs = embedded sequences       (batch_size, src_seq_length, d_model)\n",
    "        target_mask = mask for the sequences  (batch_size, 1, trg_seq_length, trg_seq_length)\n",
    "        src_mask = mask for the sequences     (batch_size, 1, 1, src_seq_length)\n",
    "        \"\"\"\n",
    "        target_representation = target_inputs\n",
    "        \n",
    "        # Forward pass through decoder stack\n",
    "        for layer in self.decoder_layers:\n",
    "            target_representation, attn_probs = layer(\n",
    "                                    target_representation,\n",
    "                                    src_inputs, \n",
    "                                    target_mask,\n",
    "                                    src_mask)\n",
    "        self.attn_probs = attn_probs\n",
    "        return target_representation"
   ]
  },
  {
   "cell_type": "markdown",
   "id": "a20b6ac5",
   "metadata": {
    "papermill": {
     "duration": 0.019511,
     "end_time": "2024-01-21T08:05:51.854955",
     "exception": false,
     "start_time": "2024-01-21T08:05:51.835444",
     "status": "completed"
    },
    "tags": []
   },
   "source": [
    "## Adding all up to construct the complete model for language translation"
   ]
  },
  {
   "cell_type": "code",
   "execution_count": 31,
   "id": "9ea9bfe7",
   "metadata": {
    "execution": {
     "iopub.execute_input": "2024-01-21T08:05:51.895903Z",
     "iopub.status.busy": "2024-01-21T08:05:51.895647Z",
     "iopub.status.idle": "2024-01-21T08:05:51.910953Z",
     "shell.execute_reply": "2024-01-21T08:05:51.910264Z"
    },
    "papermill": {
     "duration": 0.038046,
     "end_time": "2024-01-21T08:05:51.912739",
     "exception": false,
     "start_time": "2024-01-21T08:05:51.874693",
     "status": "completed"
    },
    "tags": []
   },
   "outputs": [],
   "source": [
    "class Transformer(nn.Module):\n",
    "    def __init__(self,\n",
    "                dk, \n",
    "                dv, \n",
    "                h,\n",
    "                src_vocab_size,\n",
    "                target_vocab_size,\n",
    "                num_encoders,\n",
    "                num_decoders,\n",
    "                src_pad_idx,\n",
    "                target_pad_idx,\n",
    "                dim_multiplier = 4, \n",
    "                pdropout=0.1,\n",
    "                device = \"cpu\"\n",
    "                ):\n",
    "        super().__init__()\n",
    "        \n",
    "        # Reference page 5 chapter 3.2.2 Multi-head attention\n",
    "        dmodel = dk*h\n",
    "        # Modules required to build Encoder\n",
    "        self.src_embeddings = Embedding(src_vocab_size, dmodel)\n",
    "        self.src_positional_encoding = PositionalEncoding(\n",
    "                                        dmodel,\n",
    "                                        max_seq_length = src_vocab_size,\n",
    "                                        pdropout = pdropout\n",
    "                                        )\n",
    "        self.encoder = Encoder(\n",
    "                                dk, \n",
    "                                dv, \n",
    "                                h, \n",
    "                                num_encoders, \n",
    "                                dim_multiplier=dim_multiplier, \n",
    "                                pdropout=pdropout)\n",
    "        \n",
    "        # Modules required to build Decoder\n",
    "        self.target_embeddings = Embedding(target_vocab_size, dmodel)\n",
    "        self.target_positional_encoding = PositionalEncoding(\n",
    "                                        dmodel,\n",
    "                                        max_seq_length = target_vocab_size,\n",
    "                                        pdropout = pdropout\n",
    "                                        )\n",
    "        self.decoder = Decoder(\n",
    "                                dk, \n",
    "                                dv, \n",
    "                                h, \n",
    "                                num_decoders,  \n",
    "                                dim_multiplier=4, \n",
    "                                pdropout=0.1)\n",
    "        \n",
    "        # Final output \n",
    "        self.linear = nn.Linear(dmodel, target_vocab_size)\n",
    "#         self.softmax = nn.Softmax(dim=-1)\n",
    "        self.device = device\n",
    "        self.src_pad_idx = src_pad_idx\n",
    "        self.target_pad_idx = target_pad_idx\n",
    "        self.init_params()  \n",
    "        \n",
    "    # This part wasn't mentioned in the paper, but it's super important!\n",
    "    def init_params(self):\n",
    "        \"\"\"\n",
    "        xavier has tremendous impact! I didn't expect\n",
    "        that the model's perf, with normalization layers, \n",
    "        is so dependent on the choice of weight initialization.\n",
    "        \"\"\"\n",
    "        for name, p in self.named_parameters():\n",
    "            if p.dim() > 1:\n",
    "                nn.init.xavier_uniform_(p)\n",
    "                \n",
    "    def make_src_mask(self, src):\n",
    "        \"\"\"\n",
    "        Args:\n",
    "            src: raw sequences with padding        (batch_size, seq_length) \n",
    "            src_pad_idx(int): index where the token need not be attended\n",
    "\n",
    "        Returns:\n",
    "            src_mask: mask for each sequence            (batch_size, 1, 1, seq_length)\n",
    "        \"\"\"\n",
    "        batch_size = src.shape[0]\n",
    "        # assign 1 to tokens that need attended to and 0 to padding tokens, \n",
    "        # then add 2 dimensions\n",
    "        src_mask = (src != self.src_pad_idx).view(batch_size, 1, 1, -1)\n",
    "        return src_mask\n",
    "    \n",
    "    def make_target_mask(self, target):\n",
    "        \"\"\"\n",
    "        Args:\n",
    "            target:  raw sequences with padding        (batch_size, seq_length)     \n",
    "            target_pad_idx(int): index where the token need not be attended\n",
    "\n",
    "        Returns:\n",
    "            target_mask: mask for each sequence   (batch_size, 1, seq_length, seq_length)\n",
    "        \"\"\"\n",
    "\n",
    "        seq_length = target.shape[1]\n",
    "        batch_size = target.shape[0]\n",
    "        \n",
    "        # assign True to tokens that need attended to and \n",
    "        # False to padding tokens, then add 2 dimensions\n",
    "        target_mask = (target != self.target_pad_idx).view(batch_size, 1, 1, -1) # (batch_size, 1, 1, seq_length)\n",
    "\n",
    "        # generate subsequent mask\n",
    "        trg_sub_mask = torch.tril(torch.ones((seq_length, seq_length), device=self.device)).bool() # (batch_size, 1, seq_length, seq_length)\n",
    "\n",
    "        # bitwise \"and\" operator | 0 & 0 = 0, 1 & 1 = 1, 1 & 0 = 0\n",
    "        target_mask = target_mask & trg_sub_mask\n",
    "\n",
    "        return target_mask\n",
    "    \n",
    "    def forward(\n",
    "        self, \n",
    "        src_token_ids_batch, \n",
    "        target_token_ids_batch):\n",
    "        \n",
    "        # create source and target masks     \n",
    "        src_mask = self.make_src_mask(\n",
    "                        src_token_ids_batch) # (batch_size, 1, 1, src_seq_length)\n",
    "        target_mask = self.make_target_mask(\n",
    "                        target_token_ids_batch) # (batch_size, 1, trg_seq_length, trg_seq_length)\n",
    "\n",
    "        # Create embeddings\n",
    "        src_representations = self.src_embeddings(src_token_ids_batch)\n",
    "        src_representations = self.src_positional_encoding(src_representations)\n",
    "        \n",
    "        target_representations = self.target_embeddings(target_token_ids_batch)\n",
    "        target_representations = self.target_positional_encoding(target_representations)\n",
    "\n",
    "        # Encode \n",
    "        encoded_src = self.encoder(src_representations, src_mask)\n",
    "        \n",
    "        # Decode\n",
    "        decoded_output = self.decoder(\n",
    "                                target_representations, \n",
    "                                encoded_src, \n",
    "                                target_mask, \n",
    "                                src_mask)\n",
    "        \n",
    "        # Post processing\n",
    "        out = self.linear(decoded_output)\n",
    "        # Don't use softmax as we are not comparing against softmaxed output while \n",
    "        # computing loss. We are comparing against linear outputs\n",
    "#         # Output \n",
    "#         out = self.softmax(out)\n",
    "        return out"
   ]
  },
  {
   "cell_type": "markdown",
   "id": "3434ac64",
   "metadata": {
    "papermill": {
     "duration": 0.019554,
     "end_time": "2024-01-21T08:05:51.952004",
     "exception": false,
     "start_time": "2024-01-21T08:05:51.932450",
     "status": "completed"
    },
    "tags": []
   },
   "source": [
    "## Create Model Instance"
   ]
  },
  {
   "cell_type": "code",
   "execution_count": 32,
   "id": "0af681e4",
   "metadata": {
    "execution": {
     "iopub.execute_input": "2024-01-21T08:05:51.992916Z",
     "iopub.status.busy": "2024-01-21T08:05:51.992649Z",
     "iopub.status.idle": "2024-01-21T08:05:52.009135Z",
     "shell.execute_reply": "2024-01-21T08:05:52.008444Z"
    },
    "papermill": {
     "duration": 0.039007,
     "end_time": "2024-01-21T08:05:52.010966",
     "exception": false,
     "start_time": "2024-01-21T08:05:51.971959",
     "status": "completed"
    },
    "tags": []
   },
   "outputs": [
    {
     "data": {
      "text/plain": [
       "(2, 2)"
      ]
     },
     "execution_count": 32,
     "metadata": {},
     "output_type": "execute_result"
    }
   ],
   "source": [
    "src_pad_idx = vocab_src.get_stoi()[\"<pad>\"]\n",
    "target_pad_idx = vocab_trg.get_stoi()[\"<pad>\"]\n",
    "src_pad_idx, target_pad_idx"
   ]
  },
  {
   "cell_type": "code",
   "execution_count": 33,
   "id": "022c8d03",
   "metadata": {
    "execution": {
     "iopub.execute_input": "2024-01-21T08:05:52.051725Z",
     "iopub.status.busy": "2024-01-21T08:05:52.051439Z",
     "iopub.status.idle": "2024-01-21T08:05:52.477302Z",
     "shell.execute_reply": "2024-01-21T08:05:52.476310Z"
    },
    "papermill": {
     "duration": 0.448885,
     "end_time": "2024-01-21T08:05:52.479685",
     "exception": false,
     "start_time": "2024-01-21T08:05:52.030800",
     "status": "completed"
    },
    "tags": []
   },
   "outputs": [
    {
     "name": "stdout",
     "output_type": "stream",
     "text": [
      "Transformer(\n",
      "  (src_embeddings): Embedding(\n",
      "    (embedding_lookup): Embedding(7983, 256)\n",
      "  )\n",
      "  (src_positional_encoding): PositionalEncoding(\n",
      "    (dropout): Dropout(p=0.1, inplace=False)\n",
      "  )\n",
      "  (encoder): Encoder(\n",
      "    (encoder_layers): ModuleList(\n",
      "      (0-2): 3 x EncoderLayer(\n",
      "        (attention): MultiHeadAttention(\n",
      "          (WQ): Linear(in_features=256, out_features=256, bias=True)\n",
      "          (WK): Linear(in_features=256, out_features=256, bias=True)\n",
      "          (WV): Linear(in_features=256, out_features=256, bias=True)\n",
      "          (WO): Linear(in_features=256, out_features=256, bias=True)\n",
      "          (softmax): Softmax(dim=-1)\n",
      "          (dropout): Dropout(p=0.1, inplace=False)\n",
      "        )\n",
      "        (attn_norm): LayerNorm((256,), eps=1e-05, elementwise_affine=True)\n",
      "        (ff): PositionwiseFeedForward(\n",
      "          (dropout): Dropout(p=0.1, inplace=False)\n",
      "          (W1): Linear(in_features=256, out_features=1024, bias=True)\n",
      "          (W2): Linear(in_features=1024, out_features=256, bias=True)\n",
      "          (relu): ReLU()\n",
      "        )\n",
      "        (ff_norm): LayerNorm((256,), eps=1e-05, elementwise_affine=True)\n",
      "        (dropout): Dropout(p=0.1, inplace=False)\n",
      "      )\n",
      "    )\n",
      "  )\n",
      "  (target_embeddings): Embedding(\n",
      "    (embedding_lookup): Embedding(5979, 256)\n",
      "  )\n",
      "  (target_positional_encoding): PositionalEncoding(\n",
      "    (dropout): Dropout(p=0.1, inplace=False)\n",
      "  )\n",
      "  (decoder): Decoder(\n",
      "    (decoder_layers): ModuleList(\n",
      "      (0-2): 3 x DecoderLayer(\n",
      "        (masked_attention): MultiHeadAttention(\n",
      "          (WQ): Linear(in_features=256, out_features=256, bias=True)\n",
      "          (WK): Linear(in_features=256, out_features=256, bias=True)\n",
      "          (WV): Linear(in_features=256, out_features=256, bias=True)\n",
      "          (WO): Linear(in_features=256, out_features=256, bias=True)\n",
      "          (softmax): Softmax(dim=-1)\n",
      "          (dropout): Dropout(p=0.1, inplace=False)\n",
      "        )\n",
      "        (masked_attn_norm): LayerNorm((256,), eps=1e-05, elementwise_affine=True)\n",
      "        (attention): MultiHeadAttention(\n",
      "          (WQ): Linear(in_features=256, out_features=256, bias=True)\n",
      "          (WK): Linear(in_features=256, out_features=256, bias=True)\n",
      "          (WV): Linear(in_features=256, out_features=256, bias=True)\n",
      "          (WO): Linear(in_features=256, out_features=256, bias=True)\n",
      "          (softmax): Softmax(dim=-1)\n",
      "          (dropout): Dropout(p=0.1, inplace=False)\n",
      "        )\n",
      "        (attn_norm): LayerNorm((256,), eps=1e-05, elementwise_affine=True)\n",
      "        (ff): PositionwiseFeedForward(\n",
      "          (dropout): Dropout(p=0.1, inplace=False)\n",
      "          (W1): Linear(in_features=256, out_features=1024, bias=True)\n",
      "          (W2): Linear(in_features=1024, out_features=256, bias=True)\n",
      "          (relu): ReLU()\n",
      "        )\n",
      "        (ff_norm): LayerNorm((256,), eps=1e-05, elementwise_affine=True)\n",
      "        (dropout): Dropout(p=0.1, inplace=False)\n",
      "      )\n",
      "    )\n",
      "  )\n",
      "  (linear): Linear(in_features=256, out_features=5979, bias=True)\n",
      ")\n"
     ]
    }
   ],
   "source": [
    "dk = 32\n",
    "dv = 32\n",
    "h = 8\n",
    "src_vocab_size = len(vocab_src)\n",
    "target_vocab_size = len(vocab_trg)\n",
    "src_pad_idx = vocab_src.get_stoi()[\"<pad>\"]\n",
    "target_pad_idx = vocab_trg.get_stoi()[\"<pad>\"]\n",
    "num_encoders = 3\n",
    "num_decoders = 3\n",
    "dim_multiplier = 4\n",
    "pdropout=0.1\n",
    "device = torch.device('cuda' if torch.cuda.is_available() else 'cpu')\n",
    "model = Transformer(\n",
    "                dk, \n",
    "                dv, \n",
    "                h,\n",
    "                src_vocab_size,\n",
    "                target_vocab_size,\n",
    "                num_encoders,\n",
    "                num_decoders,\n",
    "                dim_multiplier, \n",
    "                pdropout,\n",
    "                device = device)\n",
    "model.cuda()\n",
    "print(model)\n",
    "\n"
   ]
  },
  {
   "cell_type": "code",
   "execution_count": 34,
   "id": "ef7ed5c9",
   "metadata": {
    "execution": {
     "iopub.execute_input": "2024-01-21T08:05:52.521851Z",
     "iopub.status.busy": "2024-01-21T08:05:52.521532Z",
     "iopub.status.idle": "2024-01-21T08:05:52.527552Z",
     "shell.execute_reply": "2024-01-21T08:05:52.526669Z"
    },
    "papermill": {
     "duration": 0.029246,
     "end_time": "2024-01-21T08:05:52.529572",
     "exception": false,
     "start_time": "2024-01-21T08:05:52.500326",
     "status": "completed"
    },
    "tags": []
   },
   "outputs": [
    {
     "name": "stdout",
     "output_type": "stream",
     "text": [
      "The model has 10,640,475 trainable parameters\n"
     ]
    }
   ],
   "source": [
    "def count_parameters(model):\n",
    "    return sum(p.numel() for p in model.parameters() if p.requires_grad)\n",
    "\n",
    "print(f'The model has {count_parameters(model):,} trainable parameters')"
   ]
  },
  {
   "cell_type": "markdown",
   "id": "381e5130",
   "metadata": {
    "papermill": {
     "duration": 0.019941,
     "end_time": "2024-01-21T08:05:52.569697",
     "exception": false,
     "start_time": "2024-01-21T08:05:52.549756",
     "status": "completed"
    },
    "tags": []
   },
   "source": [
    "# Training part"
   ]
  },
  {
   "cell_type": "code",
   "execution_count": 35,
   "id": "50fbb0ea",
   "metadata": {
    "execution": {
     "iopub.execute_input": "2024-01-21T08:05:52.611600Z",
     "iopub.status.busy": "2024-01-21T08:05:52.610947Z",
     "iopub.status.idle": "2024-01-21T08:05:52.616211Z",
     "shell.execute_reply": "2024-01-21T08:05:52.615370Z"
    },
    "papermill": {
     "duration": 0.028219,
     "end_time": "2024-01-21T08:05:52.618133",
     "exception": false,
     "start_time": "2024-01-21T08:05:52.589914",
     "status": "completed"
    },
    "tags": []
   },
   "outputs": [],
   "source": [
    "LEARNING_RATE = 0.0005\n",
    "\n",
    "optimizer = torch.optim.Adam(model.parameters(), lr = LEARNING_RATE)\n",
    "criterion = nn.CrossEntropyLoss(ignore_index = PAD_IDX)"
   ]
  },
  {
   "cell_type": "code",
   "execution_count": 36,
   "id": "53c8bbb2",
   "metadata": {
    "execution": {
     "iopub.execute_input": "2024-01-21T08:05:52.659810Z",
     "iopub.status.busy": "2024-01-21T08:05:52.659335Z",
     "iopub.status.idle": "2024-01-21T08:05:52.666901Z",
     "shell.execute_reply": "2024-01-21T08:05:52.666092Z"
    },
    "papermill": {
     "duration": 0.030373,
     "end_time": "2024-01-21T08:05:52.668782",
     "exception": false,
     "start_time": "2024-01-21T08:05:52.638409",
     "status": "completed"
    },
    "tags": []
   },
   "outputs": [],
   "source": [
    "def train(model, iterator, optimizer, criterion, clip):\n",
    "    \"\"\"\n",
    "    Train the model on the given data.\n",
    "\n",
    "    Args:\n",
    "        model:        Transformer model to be trained\n",
    "        iterator:     data to be trained on\n",
    "        optimizer:    optimizer for updating parameters\n",
    "        criterion:    loss function for updating parameters\n",
    "        clip:         value to help prevent exploding gradients\n",
    "\n",
    "    Returns:\n",
    "        loss for the epoch\n",
    "    \"\"\"\n",
    "\n",
    "    # set the model to training mode\n",
    "    model.train()\n",
    "\n",
    "    epoch_loss = 0\n",
    "    \n",
    "    # loop through each batch in the iterator\n",
    "    for i, batch in enumerate(iterator):\n",
    "\n",
    "        # set the source and target batches    \n",
    "        src,trg = batch\n",
    "        \n",
    "#         print(\"src\", src, src.size())\n",
    "#         print(\"trg\", trg, trg.size())\n",
    "        \n",
    "#         print(\"trg[:,:-1]\", trg[:,:-1], trg[:,:-1].size())\n",
    "        \n",
    "        # expected output\n",
    "        expected_output = trg[:,1:]\n",
    "#         print(\"expected_output\", expected_output, expected_output.size())\n",
    "\n",
    "        # zero the gradients\n",
    "        optimizer.zero_grad()\n",
    "\n",
    "        # logits for each output\n",
    "        logits = model(src, trg[:,:-1])\n",
    "    \n",
    "        # calculate the loss\n",
    "        loss = criterion(logits.contiguous().view(-1, logits.shape[-1]), \n",
    "                        expected_output.contiguous().view(-1))\n",
    "\n",
    "        # backpropagation\n",
    "        loss.backward()\n",
    "\n",
    "        # clip the weights\n",
    "        torch.nn.utils.clip_grad_norm_(model.parameters(), clip)\n",
    "\n",
    "        # update the weights\n",
    "        optimizer.step()\n",
    "\n",
    "        # update the loss\n",
    "        epoch_loss += loss.item()\n",
    "\n",
    "    # return the average loss for the epoch\n",
    "    return epoch_loss / len(iterator)"
   ]
  },
  {
   "cell_type": "code",
   "execution_count": 37,
   "id": "d58b6b46",
   "metadata": {
    "execution": {
     "iopub.execute_input": "2024-01-21T08:05:52.710785Z",
     "iopub.status.busy": "2024-01-21T08:05:52.710025Z",
     "iopub.status.idle": "2024-01-21T08:05:52.717127Z",
     "shell.execute_reply": "2024-01-21T08:05:52.716300Z"
    },
    "papermill": {
     "duration": 0.030087,
     "end_time": "2024-01-21T08:05:52.719042",
     "exception": false,
     "start_time": "2024-01-21T08:05:52.688955",
     "status": "completed"
    },
    "tags": []
   },
   "outputs": [],
   "source": [
    "def evaluate(model, iterator, criterion):\n",
    "    \"\"\"\n",
    "    Evaluate the model on the given data.\n",
    "\n",
    "    Args:\n",
    "        model:        Transformer model to be trained\n",
    "        iterator:     data to be evaluated\n",
    "        criterion:    loss function for assessing outputs\n",
    "\n",
    "    Returns:\n",
    "        loss for the data\n",
    "    \"\"\"\n",
    "\n",
    "    # set the model to evaluation mode\n",
    "    model.eval()\n",
    "\n",
    "    epoch_loss = 0\n",
    "    \n",
    "    # evaluate without updating gradients\n",
    "    with torch.no_grad():\n",
    "\n",
    "        # loop through each batch in the iterator\n",
    "        for i, batch in enumerate(iterator):\n",
    "\n",
    "            # set the source and target batches  \n",
    "            src, trg = batch\n",
    "            \n",
    "            # expected output\n",
    "            expected_output = trg[:,1:]\n",
    "\n",
    "\n",
    "            # logits for each output\n",
    "            logits = model(src, trg[:,:-1])\n",
    "\n",
    "\n",
    "            # calculate the loss\n",
    "            loss = criterion(logits.contiguous().view(-1, logits.shape[-1]), \n",
    "                          expected_output.contiguous().view(-1))\n",
    "\n",
    "            # update the loss\n",
    "            epoch_loss += loss.item()\n",
    "        \n",
    "    # return the average loss for the epoch\n",
    "    return epoch_loss / len(iterator)"
   ]
  },
  {
   "cell_type": "code",
   "execution_count": 38,
   "id": "abc94fde",
   "metadata": {
    "execution": {
     "iopub.execute_input": "2024-01-21T08:05:52.760197Z",
     "iopub.status.busy": "2024-01-21T08:05:52.759939Z",
     "iopub.status.idle": "2024-01-21T08:05:52.764475Z",
     "shell.execute_reply": "2024-01-21T08:05:52.763545Z"
    },
    "papermill": {
     "duration": 0.027283,
     "end_time": "2024-01-21T08:05:52.766470",
     "exception": false,
     "start_time": "2024-01-21T08:05:52.739187",
     "status": "completed"
    },
    "tags": []
   },
   "outputs": [],
   "source": [
    "def epoch_time(start_time, end_time):\n",
    "    elapsed_time = end_time - start_time\n",
    "    elapsed_mins = int(elapsed_time / 60)\n",
    "    elapsed_secs = int(elapsed_time - (elapsed_mins * 60))\n",
    "    return elapsed_mins, elapsed_secs"
   ]
  },
  {
   "cell_type": "markdown",
   "id": "13a9d431",
   "metadata": {
    "papermill": {
     "duration": 0.019903,
     "end_time": "2024-01-21T08:05:52.806859",
     "exception": false,
     "start_time": "2024-01-21T08:05:52.786956",
     "status": "completed"
    },
    "tags": []
   },
   "source": [
    "# Perform Training"
   ]
  },
  {
   "cell_type": "code",
   "execution_count": 39,
   "id": "2a57a6c8",
   "metadata": {
    "execution": {
     "iopub.execute_input": "2024-01-21T08:05:52.848154Z",
     "iopub.status.busy": "2024-01-21T08:05:52.847897Z",
     "iopub.status.idle": "2024-01-21T08:07:55.366120Z",
     "shell.execute_reply": "2024-01-21T08:07:55.365179Z"
    },
    "papermill": {
     "duration": 122.542438,
     "end_time": "2024-01-21T08:07:55.369456",
     "exception": false,
     "start_time": "2024-01-21T08:05:52.827018",
     "status": "completed"
    },
    "tags": []
   },
   "outputs": [
    {
     "name": "stderr",
     "output_type": "stream",
     "text": [
      " 10%|█         | 1/10 [00:12<01:54, 12.69s/it]"
     ]
    },
    {
     "name": "stdout",
     "output_type": "stream",
     "text": [
      "Epoch: 01 | Time: 0m 12s\n",
      "\tTrain Loss: 4.636 | Train PPL: 103.159\n",
      "\t Val. Loss: 3.672 |  Val. PPL:  39.347\n"
     ]
    },
    {
     "name": "stderr",
     "output_type": "stream",
     "text": [
      " 20%|██        | 2/10 [00:25<01:39, 12.47s/it]"
     ]
    },
    {
     "name": "stdout",
     "output_type": "stream",
     "text": [
      "Epoch: 02 | Time: 0m 12s\n",
      "\tTrain Loss: 3.411 | Train PPL:  30.298\n",
      "\t Val. Loss: 3.040 |  Val. PPL:  20.905\n"
     ]
    },
    {
     "name": "stderr",
     "output_type": "stream",
     "text": [
      " 30%|███       | 3/10 [00:37<01:26, 12.35s/it]"
     ]
    },
    {
     "name": "stdout",
     "output_type": "stream",
     "text": [
      "Epoch: 03 | Time: 0m 12s\n",
      "\tTrain Loss: 2.723 | Train PPL:  15.223\n",
      "\t Val. Loss: 2.405 |  Val. PPL:  11.081\n"
     ]
    },
    {
     "name": "stderr",
     "output_type": "stream",
     "text": [
      " 40%|████      | 4/10 [00:49<01:13, 12.28s/it]"
     ]
    },
    {
     "name": "stdout",
     "output_type": "stream",
     "text": [
      "Epoch: 04 | Time: 0m 12s\n",
      "\tTrain Loss: 2.200 | Train PPL:   9.025\n",
      "\t Val. Loss: 2.100 |  Val. PPL:   8.169\n"
     ]
    },
    {
     "name": "stderr",
     "output_type": "stream",
     "text": [
      " 50%|█████     | 5/10 [01:01<01:01, 12.26s/it]"
     ]
    },
    {
     "name": "stdout",
     "output_type": "stream",
     "text": [
      "Epoch: 05 | Time: 0m 12s\n",
      "\tTrain Loss: 1.870 | Train PPL:   6.490\n",
      "\t Val. Loss: 1.952 |  Val. PPL:   7.044\n"
     ]
    },
    {
     "name": "stderr",
     "output_type": "stream",
     "text": [
      " 60%|██████    | 6/10 [01:13<00:48, 12.24s/it]"
     ]
    },
    {
     "name": "stdout",
     "output_type": "stream",
     "text": [
      "Epoch: 06 | Time: 0m 12s\n",
      "\tTrain Loss: 1.637 | Train PPL:   5.138\n",
      "\t Val. Loss: 1.832 |  Val. PPL:   6.244\n"
     ]
    },
    {
     "name": "stderr",
     "output_type": "stream",
     "text": [
      " 70%|███████   | 7/10 [01:26<00:36, 12.23s/it]"
     ]
    },
    {
     "name": "stdout",
     "output_type": "stream",
     "text": [
      "Epoch: 07 | Time: 0m 12s\n",
      "\tTrain Loss: 1.456 | Train PPL:   4.290\n",
      "\t Val. Loss: 1.772 |  Val. PPL:   5.883\n"
     ]
    },
    {
     "name": "stderr",
     "output_type": "stream",
     "text": [
      " 80%|████████  | 8/10 [01:38<00:24, 12.22s/it]"
     ]
    },
    {
     "name": "stdout",
     "output_type": "stream",
     "text": [
      "Epoch: 08 | Time: 0m 12s\n",
      "\tTrain Loss: 1.313 | Train PPL:   3.718\n",
      "\t Val. Loss: 1.743 |  Val. PPL:   5.712\n"
     ]
    },
    {
     "name": "stderr",
     "output_type": "stream",
     "text": [
      " 90%|█████████ | 9/10 [01:50<00:12, 12.20s/it]"
     ]
    },
    {
     "name": "stdout",
     "output_type": "stream",
     "text": [
      "Epoch: 09 | Time: 0m 12s\n",
      "\tTrain Loss: 1.194 | Train PPL:   3.301\n",
      "\t Val. Loss: 1.710 |  Val. PPL:   5.531\n"
     ]
    },
    {
     "name": "stderr",
     "output_type": "stream",
     "text": [
      "100%|██████████| 10/10 [02:02<00:00, 12.25s/it]"
     ]
    },
    {
     "name": "stdout",
     "output_type": "stream",
     "text": [
      "Epoch: 10 | Time: 0m 12s\n",
      "\tTrain Loss: 1.094 | Train PPL:   2.985\n",
      "\t Val. Loss: 1.722 |  Val. PPL:   5.594\n"
     ]
    },
    {
     "name": "stderr",
     "output_type": "stream",
     "text": [
      "\n"
     ]
    }
   ],
   "source": [
    "N_EPOCHS = 10\n",
    "CLIP = 1\n",
    "\n",
    "best_valid_loss = float('inf')\n",
    "\n",
    "# loop through each epoch\n",
    "for epoch in tqdm(range(N_EPOCHS)):\n",
    "    \n",
    "    start_time = time.time()\n",
    "\n",
    "    # calculate the train loss and update the parameters\n",
    "    train_loss = train(model, train_iter, optimizer, criterion, CLIP)\n",
    "\n",
    "    # calculate the loss on the validation set\n",
    "    valid_loss = evaluate(model, valid_iter, criterion)\n",
    "    \n",
    "    end_time = time.time()\n",
    "\n",
    "    # calculate how long the epoch took\n",
    "    epoch_mins, epoch_secs = epoch_time(start_time, end_time)\n",
    "\n",
    "    # save the model when it performs better than the previous run\n",
    "    if valid_loss < best_valid_loss:\n",
    "        best_valid_loss = valid_loss\n",
    "        torch.save(model.state_dict(), 'transformer-model.pt')\n",
    "    \n",
    "    print(f'Epoch: {epoch+1:02} | Time: {epoch_mins}m {epoch_secs}s')\n",
    "    print(f'\\tTrain Loss: {train_loss:.3f} | Train PPL: {math.exp(train_loss):7.3f}')\n",
    "    print(f'\\t Val. Loss: {valid_loss:.3f} |  Val. PPL: {math.exp(valid_loss):7.3f}')"
   ]
  },
  {
   "cell_type": "code",
   "execution_count": 40,
   "id": "5fcd162a",
   "metadata": {
    "execution": {
     "iopub.execute_input": "2024-01-21T08:07:55.415082Z",
     "iopub.status.busy": "2024-01-21T08:07:55.414795Z",
     "iopub.status.idle": "2024-01-21T08:07:55.664600Z",
     "shell.execute_reply": "2024-01-21T08:07:55.663668Z"
    },
    "papermill": {
     "duration": 0.274848,
     "end_time": "2024-01-21T08:07:55.666762",
     "exception": false,
     "start_time": "2024-01-21T08:07:55.391914",
     "status": "completed"
    },
    "tags": []
   },
   "outputs": [
    {
     "name": "stdout",
     "output_type": "stream",
     "text": [
      "Test Loss: 1.720 | Test PPL:   5.584\n"
     ]
    }
   ],
   "source": [
    "model.load_state_dict(torch.load('transformer-model.pt'))\n",
    "\n",
    "# calculate the loss on the test set\n",
    "test_loss = evaluate(model, test_iter, criterion)\n",
    "\n",
    "print(f'Test Loss: {test_loss:.3f} | Test PPL: {math.exp(test_loss):7.3f}')"
   ]
  },
  {
   "cell_type": "code",
   "execution_count": 41,
   "id": "7d2ff187",
   "metadata": {
    "execution": {
     "iopub.execute_input": "2024-01-21T08:07:55.714287Z",
     "iopub.status.busy": "2024-01-21T08:07:55.713767Z",
     "iopub.status.idle": "2024-01-21T08:07:55.723895Z",
     "shell.execute_reply": "2024-01-21T08:07:55.723053Z"
    },
    "papermill": {
     "duration": 0.036515,
     "end_time": "2024-01-21T08:07:55.725789",
     "exception": false,
     "start_time": "2024-01-21T08:07:55.689274",
     "status": "completed"
    },
    "tags": []
   },
   "outputs": [],
   "source": [
    "def translate_sentence(sentence, model, device, max_length = 50):\n",
    "    \"\"\"\n",
    "    Translate a German sentence to its English equivalent.\n",
    "\n",
    "    Args:\n",
    "        sentence:     German sentence to be translated to English; list or str\n",
    "        model:        Transformer model used for translation\n",
    "        device:       device to perform translation on\n",
    "        max_length:   maximum token length for translation\n",
    "\n",
    "    Returns:\n",
    "        src:                  return the tokenized input\n",
    "        trg_input:            return the input to the decoder before the final output \n",
    "        trg_output:           return the final translation, shifted right\n",
    "        attn_probs:           return the attention scores for the decoder heads\n",
    "        masked_attn_probs:    return the masked attention scores for the decoder heads\n",
    "    \"\"\"\n",
    "    \n",
    "    model.eval()\n",
    "\n",
    "    # tokenize and index the provided string\n",
    "    if isinstance(sentence, str):\n",
    "        src = ['<bos>'] + [token.text.lower() for token in spacy_de(sentence)] +  ['<eos>']\n",
    "    else:\n",
    "        src = ['<bos>'] + sentence + ['<eos>']\n",
    "\n",
    "    # convert to integers\n",
    "    src_indexes = [vocab_src[token] for token in src]\n",
    "\n",
    "    # convert list to tensor\n",
    "    src_tensor = torch.tensor(src_indexes).int().unsqueeze(0).to(device)\n",
    "\n",
    "    # set <bos> token for target generation\n",
    "    trg_indexes = [vocab_trg.get_stoi()['<bos>']]\n",
    "\n",
    "    # generate new tokens\n",
    "    for i in range(max_length):\n",
    "\n",
    "        # convert the list to a tensor\n",
    "        trg_tensor = torch.tensor(trg_indexes).int().unsqueeze(0).to(device)\n",
    "\n",
    "        # generate the next token \n",
    "        with torch.no_grad():\n",
    "\n",
    "            # generate the logits\n",
    "            logits = model.forward(src_tensor, trg_tensor)\n",
    "\n",
    "            # select the newly predicted token\n",
    "            pred_token = logits.argmax(2)[:,-1].item()\n",
    "\n",
    "            # if <eos> token or max length, stop generating\n",
    "            if pred_token == vocab_trg.get_stoi()['<eos>'] or i == (max_length-1):\n",
    "\n",
    "                # decoder input\n",
    "                trg_input = vocab_trg.lookup_tokens(trg_indexes)\n",
    "\n",
    "                # decoder output\n",
    "                trg_output = vocab_trg.lookup_tokens(logits.argmax(2).squeeze(0).tolist())\n",
    "\n",
    "                return src, trg_input, trg_output\n",
    "      \n",
    "            # else, continue generating\n",
    "            else:\n",
    "                # add the token\n",
    "                trg_indexes.append(pred_token)"
   ]
  },
  {
   "cell_type": "code",
   "execution_count": 42,
   "id": "386fe0e1",
   "metadata": {
    "execution": {
     "iopub.execute_input": "2024-01-21T08:07:55.771000Z",
     "iopub.status.busy": "2024-01-21T08:07:55.770727Z",
     "iopub.status.idle": "2024-01-21T08:07:55.947538Z",
     "shell.execute_reply": "2024-01-21T08:07:55.946552Z"
    },
    "papermill": {
     "duration": 0.201587,
     "end_time": "2024-01-21T08:07:55.949464",
     "exception": false,
     "start_time": "2024-01-21T08:07:55.747877",
     "status": "completed"
    },
    "tags": []
   },
   "outputs": [
    {
     "name": "stdout",
     "output_type": "stream",
     "text": [
      "source = ['<bos>', 'eine', 'frau', 'mit', 'einer', 'großen', 'geldbörse', 'geht', 'an', 'einem', 'tor', 'vorbei', '.', '<eos>']\n",
      "target input = ['<bos>', 'a', 'woman', 'with', 'a', 'large', 'purse', 'walks', 'past', 'a', 'gate', 'with', 'a', 'gate', '.']\n",
      "target output = ['a', 'woman', 'with', 'a', 'large', 'purse', 'walks', 'past', 'a', 'gate', 'with', 'a', 'gate', '.', '<eos>']\n"
     ]
    }
   ],
   "source": [
    "# 'a woman with a large purse is walking by a gate'\n",
    "src = ['eine', 'frau', 'mit', 'einer', 'großen', 'geldbörse', 'geht', 'an', 'einem', 'tor', 'vorbei', '.']\n",
    "\n",
    "src, trg_input, trg_output = translate_sentence(src, model, device)\n",
    "\n",
    "print(f'source = {src}')\n",
    "print(f'target input = {trg_input}')\n",
    "print(f'target output = {trg_output}')"
   ]
  },
  {
   "cell_type": "code",
   "execution_count": null,
   "id": "c86cbd4d",
   "metadata": {
    "papermill": {
     "duration": 0.021848,
     "end_time": "2024-01-21T08:07:55.993675",
     "exception": false,
     "start_time": "2024-01-21T08:07:55.971827",
     "status": "completed"
    },
    "tags": []
   },
   "outputs": [],
   "source": []
  },
  {
   "cell_type": "code",
   "execution_count": null,
   "id": "ef892cf0",
   "metadata": {
    "papermill": {
     "duration": 0.021859,
     "end_time": "2024-01-21T08:07:56.038130",
     "exception": false,
     "start_time": "2024-01-21T08:07:56.016271",
     "status": "completed"
    },
    "tags": []
   },
   "outputs": [],
   "source": []
  },
  {
   "cell_type": "code",
   "execution_count": null,
   "id": "449e43b3",
   "metadata": {
    "papermill": {
     "duration": 0.021951,
     "end_time": "2024-01-21T08:07:56.082018",
     "exception": false,
     "start_time": "2024-01-21T08:07:56.060067",
     "status": "completed"
    },
    "tags": []
   },
   "outputs": [],
   "source": []
  }
 ],
 "metadata": {
  "kaggle": {
   "accelerator": "gpu",
   "dataSources": [
    {
     "datasetId": 1800581,
     "sourceId": 2936819,
     "sourceType": "datasetVersion"
    }
   ],
   "dockerImageVersionId": 30636,
   "isGpuEnabled": true,
   "isInternetEnabled": true,
   "language": "python",
   "sourceType": "notebook"
  },
  "kernelspec": {
   "display_name": "Python 3",
   "language": "python",
   "name": "python3"
  },
  "language_info": {
   "codemirror_mode": {
    "name": "ipython",
    "version": 3
   },
   "file_extension": ".py",
   "mimetype": "text/x-python",
   "name": "python",
   "nbconvert_exporter": "python",
   "pygments_lexer": "ipython3",
   "version": "3.10.12"
  },
  "papermill": {
   "default_parameters": {},
   "duration": 179.980493,
   "end_time": "2024-01-21T08:07:57.525805",
   "environment_variables": {},
   "exception": null,
   "input_path": "__notebook__.ipynb",
   "output_path": "__notebook__.ipynb",
   "parameters": {},
   "start_time": "2024-01-21T08:04:57.545312",
   "version": "2.4.0"
  }
 },
 "nbformat": 4,
 "nbformat_minor": 5
}
