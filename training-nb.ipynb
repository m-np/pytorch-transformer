{
 "cells": [
  {
   "cell_type": "markdown",
   "id": "64bfe0cc",
   "metadata": {
    "_cell_guid": "b1076dfc-b9ad-4769-8c92-a6c4dae69d19",
    "_uuid": "8f2839f25d086af736a60e9eeb907d3b93b6e0e5",
    "papermill": {
     "duration": 0.004463,
     "end_time": "2024-01-16T10:47:29.643997",
     "exception": false,
     "start_time": "2024-01-16T10:47:29.639534",
     "status": "completed"
    },
    "tags": []
   },
   "source": [
    "# Training Notebook\n",
    "\n",
    "Library Imports for the jupyter notebook"
   ]
  },
  {
   "cell_type": "code",
   "execution_count": 1,
   "id": "80901687",
   "metadata": {
    "execution": {
     "iopub.execute_input": "2024-01-16T10:47:29.652995Z",
     "iopub.status.busy": "2024-01-16T10:47:29.652629Z",
     "iopub.status.idle": "2024-01-16T10:47:29.665076Z",
     "shell.execute_reply": "2024-01-16T10:47:29.664253Z"
    },
    "papermill": {
     "duration": 0.01969,
     "end_time": "2024-01-16T10:47:29.667363",
     "exception": false,
     "start_time": "2024-01-16T10:47:29.647673",
     "status": "completed"
    },
    "tags": []
   },
   "outputs": [],
   "source": [
    "import os   # miscellaneous os interfaces\n",
    "import sys  # configuring python runtime environment\n",
    "import time # library for time manipulation, and logging"
   ]
  },
  {
   "cell_type": "code",
   "execution_count": 2,
   "id": "136b5f82",
   "metadata": {
    "execution": {
     "iopub.execute_input": "2024-01-16T10:47:29.676163Z",
     "iopub.status.busy": "2024-01-16T10:47:29.675604Z",
     "iopub.status.idle": "2024-01-16T10:47:29.679961Z",
     "shell.execute_reply": "2024-01-16T10:47:29.679254Z"
    },
    "papermill": {
     "duration": 0.011048,
     "end_time": "2024-01-16T10:47:29.682094",
     "exception": false,
     "start_time": "2024-01-16T10:47:29.671046",
     "status": "completed"
    },
    "tags": []
   },
   "outputs": [],
   "source": [
    "# use `datetime` to control and preceive the environment\n",
    "# in addition `pandas` also provides date time functionalities\n",
    "import datetime as dt"
   ]
  },
  {
   "cell_type": "code",
   "execution_count": 3,
   "id": "8011657c",
   "metadata": {
    "execution": {
     "iopub.execute_input": "2024-01-16T10:47:29.690595Z",
     "iopub.status.busy": "2024-01-16T10:47:29.690024Z",
     "iopub.status.idle": "2024-01-16T10:47:29.699273Z",
     "shell.execute_reply": "2024-01-16T10:47:29.698559Z"
    },
    "papermill": {
     "duration": 0.016063,
     "end_time": "2024-01-16T10:47:29.701550",
     "exception": false,
     "start_time": "2024-01-16T10:47:29.685487",
     "status": "completed"
    },
    "tags": []
   },
   "outputs": [],
   "source": [
    "from copy import deepcopy      # dataframe is mutable\n",
    "from tqdm import tqdm     # progress bar for loops\n",
    "from uuid import uuid4 as UUID # unique identifier for objs"
   ]
  },
  {
   "cell_type": "code",
   "execution_count": 4,
   "id": "39cccaa8",
   "metadata": {
    "execution": {
     "iopub.execute_input": "2024-01-16T10:47:29.709784Z",
     "iopub.status.busy": "2024-01-16T10:47:29.709473Z",
     "iopub.status.idle": "2024-01-16T10:47:29.713600Z",
     "shell.execute_reply": "2024-01-16T10:47:29.712674Z"
    },
    "papermill": {
     "duration": 0.010807,
     "end_time": "2024-01-16T10:47:29.715756",
     "exception": false,
     "start_time": "2024-01-16T10:47:29.704949",
     "status": "completed"
    },
    "tags": []
   },
   "outputs": [],
   "source": [
    "import numpy as np\n",
    "import matplotlib.pyplot as plt"
   ]
  },
  {
   "cell_type": "code",
   "execution_count": 5,
   "id": "adc19fc5",
   "metadata": {
    "execution": {
     "iopub.execute_input": "2024-01-16T10:47:29.724172Z",
     "iopub.status.busy": "2024-01-16T10:47:29.723440Z",
     "iopub.status.idle": "2024-01-16T10:47:44.886317Z",
     "shell.execute_reply": "2024-01-16T10:47:44.885123Z"
    },
    "papermill": {
     "duration": 15.169843,
     "end_time": "2024-01-16T10:47:44.889037",
     "exception": false,
     "start_time": "2024-01-16T10:47:29.719194",
     "status": "completed"
    },
    "tags": []
   },
   "outputs": [
    {
     "name": "stdout",
     "output_type": "stream",
     "text": [
      "Collecting torchsummary\r\n",
      "  Downloading torchsummary-1.5.1-py3-none-any.whl (2.8 kB)\r\n",
      "Installing collected packages: torchsummary\r\n",
      "Successfully installed torchsummary-1.5.1\r\n"
     ]
    }
   ],
   "source": [
    "!pip install torchsummary"
   ]
  },
  {
   "cell_type": "code",
   "execution_count": 6,
   "id": "20d314dc",
   "metadata": {
    "execution": {
     "iopub.execute_input": "2024-01-16T10:47:44.899361Z",
     "iopub.status.busy": "2024-01-16T10:47:44.898279Z",
     "iopub.status.idle": "2024-01-16T10:47:48.902499Z",
     "shell.execute_reply": "2024-01-16T10:47:48.901362Z"
    },
    "papermill": {
     "duration": 4.012312,
     "end_time": "2024-01-16T10:47:48.905283",
     "exception": false,
     "start_time": "2024-01-16T10:47:44.892971",
     "status": "completed"
    },
    "tags": []
   },
   "outputs": [],
   "source": [
    "import torch\n",
    "import torch.nn as nn\n",
    "import torch.optim as optim\n",
    "import torch.nn.functional as F\n",
    "import torchvision.transforms as transforms\n",
    "\n",
    "from torchinfo import summary\n",
    "from torch.utils.data import DataLoader\n",
    "from torchsummary import summary"
   ]
  },
  {
   "cell_type": "code",
   "execution_count": null,
   "id": "817370bf",
   "metadata": {
    "papermill": {
     "duration": 0.003576,
     "end_time": "2024-01-16T10:47:48.913005",
     "exception": false,
     "start_time": "2024-01-16T10:47:48.909429",
     "status": "completed"
    },
    "tags": []
   },
   "outputs": [],
   "source": []
  }
 ],
 "metadata": {
  "kaggle": {
   "accelerator": "none",
   "dataSources": [
    {
     "datasetId": 2802718,
     "sourceId": 4853240,
     "sourceType": "datasetVersion"
    }
   ],
   "dockerImageVersionId": 30635,
   "isGpuEnabled": false,
   "isInternetEnabled": true,
   "language": "python",
   "sourceType": "notebook"
  },
  "kernelspec": {
   "display_name": "Python 3",
   "language": "python",
   "name": "python3"
  },
  "language_info": {
   "codemirror_mode": {
    "name": "ipython",
    "version": 3
   },
   "file_extension": ".py",
   "mimetype": "text/x-python",
   "name": "python",
   "nbconvert_exporter": "python",
   "pygments_lexer": "ipython3",
   "version": "3.10.12"
  },
  "papermill": {
   "default_parameters": {},
   "duration": 23.565934,
   "end_time": "2024-01-16T10:47:49.841267",
   "environment_variables": {},
   "exception": null,
   "input_path": "__notebook__.ipynb",
   "output_path": "__notebook__.ipynb",
   "parameters": {},
   "start_time": "2024-01-16T10:47:26.275333",
   "version": "2.4.0"
  }
 },
 "nbformat": 4,
 "nbformat_minor": 5
}
