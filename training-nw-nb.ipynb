{
 "cells": [
  {
   "cell_type": "markdown",
   "id": "934ec1aa",
   "metadata": {
    "_cell_guid": "b1076dfc-b9ad-4769-8c92-a6c4dae69d19",
    "_uuid": "8f2839f25d086af736a60e9eeb907d3b93b6e0e5",
    "papermill": {
     "duration": 0.016793,
     "end_time": "2024-01-22T10:05:26.681018",
     "exception": false,
     "start_time": "2024-01-22T10:05:26.664225",
     "status": "completed"
    },
    "tags": []
   },
   "source": [
    "# Training model for Machine Translation\n",
    "\n",
    "Library Imports for the jupyter notebook. We are refering to this [blog](https://medium.com/@hunter-j-phillips/putting-it-all-together-the-implemented-transformer-bfb11ac1ddfehttps://medium.com/@hunter-j-phillips/putting-it-all-together-the-implemented-transformer-bfb11ac1ddfe) to understand attention network in depth"
   ]
  },
  {
   "cell_type": "code",
   "execution_count": 1,
   "id": "65070bb8",
   "metadata": {
    "execution": {
     "iopub.execute_input": "2024-01-22T10:05:26.714688Z",
     "iopub.status.busy": "2024-01-22T10:05:26.714344Z",
     "iopub.status.idle": "2024-01-22T10:05:48.259165Z",
     "shell.execute_reply": "2024-01-22T10:05:48.258092Z"
    },
    "papermill": {
     "duration": 21.56391,
     "end_time": "2024-01-22T10:05:48.261216",
     "exception": false,
     "start_time": "2024-01-22T10:05:26.697306",
     "status": "completed"
    },
    "tags": []
   },
   "outputs": [
    {
     "name": "stderr",
     "output_type": "stream",
     "text": [
      "/opt/conda/lib/python3.10/site-packages/scipy/__init__.py:146: UserWarning: A NumPy version >=1.16.5 and <1.23.0 is required for this version of SciPy (detected version 1.24.3\n",
      "  warnings.warn(f\"A NumPy version >={np_minversion} and <{np_maxversion}\"\n"
     ]
    },
    {
     "data": {
      "text/plain": [
       "device(type='cuda')"
      ]
     },
     "execution_count": 1,
     "metadata": {},
     "output_type": "execute_result"
    }
   ],
   "source": [
    "!pip install -q portalocker\n",
    "\n",
    "# importing required libraries\n",
    "import math\n",
    "import copy\n",
    "import time\n",
    "import random\n",
    "import spacy\n",
    "import numpy as np\n",
    "import os \n",
    "\n",
    "# torch packages\n",
    "import torch\n",
    "import torch.nn as nn\n",
    "import torch.nn.functional as F\n",
    "from torch import Tensor\n",
    "import torch.optim as optim\n",
    "\n",
    "# load and build datasets\n",
    "import torchtext\n",
    "from torchtext.data.functional import to_map_style_dataset\n",
    "from torch.nn.functional import pad\n",
    "from torch.utils.data import DataLoader\n",
    "from torchtext.vocab import build_vocab_from_iterator\n",
    "import torchtext.datasets as datasets\n",
    "import portalocker\n",
    "\n",
    "# visualization packages\n",
    "from mpl_toolkits import mplot3d\n",
    "import matplotlib.pyplot as plt\n",
    "import matplotlib.ticker as ticker\n",
    "from torchinfo import summary\n",
    "\n",
    "device = torch.device('cuda' if torch.cuda.is_available() else 'cpu')\n",
    "device"
   ]
  },
  {
   "cell_type": "markdown",
   "id": "645b9134",
   "metadata": {
    "papermill": {
     "duration": 0.015886,
     "end_time": "2024-01-22T10:05:48.294594",
     "exception": false,
     "start_time": "2024-01-22T10:05:48.278708",
     "status": "completed"
    },
    "tags": []
   },
   "source": [
    "# Reading the dataframe and converting it into iterable for consuming in pytorch dataset"
   ]
  },
  {
   "cell_type": "code",
   "execution_count": 2,
   "id": "2ded1892",
   "metadata": {
    "execution": {
     "iopub.execute_input": "2024-01-22T10:05:48.328317Z",
     "iopub.status.busy": "2024-01-22T10:05:48.327805Z",
     "iopub.status.idle": "2024-01-22T10:05:48.332085Z",
     "shell.execute_reply": "2024-01-22T10:05:48.331218Z"
    },
    "papermill": {
     "duration": 0.023333,
     "end_time": "2024-01-22T10:05:48.333925",
     "exception": false,
     "start_time": "2024-01-22T10:05:48.310592",
     "status": "completed"
    },
    "tags": []
   },
   "outputs": [],
   "source": [
    "import pandas as pd\n",
    "from tqdm import tqdm"
   ]
  },
  {
   "cell_type": "code",
   "execution_count": 3,
   "id": "116635d2",
   "metadata": {
    "execution": {
     "iopub.execute_input": "2024-01-22T10:05:48.367220Z",
     "iopub.status.busy": "2024-01-22T10:05:48.366964Z",
     "iopub.status.idle": "2024-01-22T10:05:48.528941Z",
     "shell.execute_reply": "2024-01-22T10:05:48.527997Z"
    },
    "papermill": {
     "duration": 0.180922,
     "end_time": "2024-01-22T10:05:48.530957",
     "exception": false,
     "start_time": "2024-01-22T10:05:48.350035",
     "status": "completed"
    },
    "tags": []
   },
   "outputs": [
    {
     "data": {
      "text/html": [
       "<div>\n",
       "<style scoped>\n",
       "    .dataframe tbody tr th:only-of-type {\n",
       "        vertical-align: middle;\n",
       "    }\n",
       "\n",
       "    .dataframe tbody tr th {\n",
       "        vertical-align: top;\n",
       "    }\n",
       "\n",
       "    .dataframe thead th {\n",
       "        text-align: right;\n",
       "    }\n",
       "</style>\n",
       "<table border=\"1\" class=\"dataframe\">\n",
       "  <thead>\n",
       "    <tr style=\"text-align: right;\">\n",
       "      <th></th>\n",
       "      <th>english</th>\n",
       "      <th>german</th>\n",
       "    </tr>\n",
       "  </thead>\n",
       "  <tbody>\n",
       "    <tr>\n",
       "      <th>0</th>\n",
       "      <td>Two young, White males are outside near many b...</td>\n",
       "      <td>Zwei junge weiße Männer sind im Freien in der ...</td>\n",
       "    </tr>\n",
       "    <tr>\n",
       "      <th>1</th>\n",
       "      <td>Several men in hard hats are operating a giant...</td>\n",
       "      <td>Mehrere Männer mit Schutzhelmen bedienen ein A...</td>\n",
       "    </tr>\n",
       "    <tr>\n",
       "      <th>2</th>\n",
       "      <td>A little girl climbing into a wooden playhouse.</td>\n",
       "      <td>Ein kleines Mädchen klettert in ein Spielhaus ...</td>\n",
       "    </tr>\n",
       "    <tr>\n",
       "      <th>3</th>\n",
       "      <td>A man in a blue shirt is standing on a ladder ...</td>\n",
       "      <td>Ein Mann in einem blauen Hemd steht auf einer ...</td>\n",
       "    </tr>\n",
       "    <tr>\n",
       "      <th>4</th>\n",
       "      <td>Two men are at the stove preparing food.</td>\n",
       "      <td>Zwei Männer stehen am Herd und bereiten Essen zu.</td>\n",
       "    </tr>\n",
       "  </tbody>\n",
       "</table>\n",
       "</div>"
      ],
      "text/plain": [
       "                                             english  \\\n",
       "0  Two young, White males are outside near many b...   \n",
       "1  Several men in hard hats are operating a giant...   \n",
       "2    A little girl climbing into a wooden playhouse.   \n",
       "3  A man in a blue shirt is standing on a ladder ...   \n",
       "4           Two men are at the stove preparing food.   \n",
       "\n",
       "                                              german  \n",
       "0  Zwei junge weiße Männer sind im Freien in der ...  \n",
       "1  Mehrere Männer mit Schutzhelmen bedienen ein A...  \n",
       "2  Ein kleines Mädchen klettert in ein Spielhaus ...  \n",
       "3  Ein Mann in einem blauen Hemd steht auf einer ...  \n",
       "4  Zwei Männer stehen am Herd und bereiten Essen zu.  "
      ]
     },
     "execution_count": 3,
     "metadata": {},
     "output_type": "execute_result"
    }
   ],
   "source": [
    "df = pd.read_csv(\"/kaggle/input/machine-translation-dataset-de-en/translation_train.csv\")\n",
    "df.head()"
   ]
  },
  {
   "cell_type": "code",
   "execution_count": 4,
   "id": "77f3128d",
   "metadata": {
    "execution": {
     "iopub.execute_input": "2024-01-22T10:05:48.565218Z",
     "iopub.status.busy": "2024-01-22T10:05:48.564915Z",
     "iopub.status.idle": "2024-01-22T10:05:48.570343Z",
     "shell.execute_reply": "2024-01-22T10:05:48.569511Z"
    },
    "papermill": {
     "duration": 0.024516,
     "end_time": "2024-01-22T10:05:48.572248",
     "exception": false,
     "start_time": "2024-01-22T10:05:48.547732",
     "status": "completed"
    },
    "tags": []
   },
   "outputs": [
    {
     "data": {
      "text/plain": [
       "(29000, 2)"
      ]
     },
     "execution_count": 4,
     "metadata": {},
     "output_type": "execute_result"
    }
   ],
   "source": [
    "df.shape"
   ]
  },
  {
   "cell_type": "code",
   "execution_count": 5,
   "id": "2366b995",
   "metadata": {
    "execution": {
     "iopub.execute_input": "2024-01-22T10:05:48.606669Z",
     "iopub.status.busy": "2024-01-22T10:05:48.606392Z",
     "iopub.status.idle": "2024-01-22T10:05:48.619940Z",
     "shell.execute_reply": "2024-01-22T10:05:48.619275Z"
    },
    "papermill": {
     "duration": 0.032928,
     "end_time": "2024-01-22T10:05:48.621850",
     "exception": false,
     "start_time": "2024-01-22T10:05:48.588922",
     "status": "completed"
    },
    "tags": []
   },
   "outputs": [],
   "source": [
    "# Perform train - val split\n",
    "train_df=df.sample(frac=0.95,random_state=200)\n",
    "val_df=df.drop(train_df.index)"
   ]
  },
  {
   "cell_type": "code",
   "execution_count": 6,
   "id": "c54ceae7",
   "metadata": {
    "execution": {
     "iopub.execute_input": "2024-01-22T10:05:48.655735Z",
     "iopub.status.busy": "2024-01-22T10:05:48.655482Z",
     "iopub.status.idle": "2024-01-22T10:05:48.660662Z",
     "shell.execute_reply": "2024-01-22T10:05:48.659828Z"
    },
    "papermill": {
     "duration": 0.024338,
     "end_time": "2024-01-22T10:05:48.662531",
     "exception": false,
     "start_time": "2024-01-22T10:05:48.638193",
     "status": "completed"
    },
    "tags": []
   },
   "outputs": [],
   "source": [
    "def create_iterable(sample_df):\n",
    "    \"\"\"\n",
    "    This converts pandas dataframe into list of tuples\n",
    "    consisting of (german sentences, english sentences).\n",
    "    \n",
    "    This iterable in used in our data preparation\n",
    "    \"\"\"\n",
    "    sample_iter = sample_df.to_dict(orient='records')\n",
    "    out_iter = [(dict1[\"german\"], dict1[\"english\"]) for dict1 in sample_iter]\n",
    "    print(f\"length of iterable: {len(out_iter)}\")\n",
    "    return out_iter"
   ]
  },
  {
   "cell_type": "code",
   "execution_count": 7,
   "id": "0c5569a6",
   "metadata": {
    "execution": {
     "iopub.execute_input": "2024-01-22T10:05:48.740241Z",
     "iopub.status.busy": "2024-01-22T10:05:48.739923Z",
     "iopub.status.idle": "2024-01-22T10:05:49.042792Z",
     "shell.execute_reply": "2024-01-22T10:05:49.041884Z"
    },
    "papermill": {
     "duration": 0.366384,
     "end_time": "2024-01-22T10:05:49.045073",
     "exception": false,
     "start_time": "2024-01-22T10:05:48.678689",
     "status": "completed"
    },
    "tags": []
   },
   "outputs": [
    {
     "name": "stdout",
     "output_type": "stream",
     "text": [
      "length of iterable: 27550\n",
      "length of iterable: 1450\n"
     ]
    }
   ],
   "source": [
    "train_iter = create_iterable(train_df)\n",
    "val_iter = create_iterable(val_df)"
   ]
  },
  {
   "cell_type": "code",
   "execution_count": 8,
   "id": "bc8ec0d7",
   "metadata": {
    "execution": {
     "iopub.execute_input": "2024-01-22T10:05:49.080099Z",
     "iopub.status.busy": "2024-01-22T10:05:49.079790Z",
     "iopub.status.idle": "2024-01-22T10:05:49.105009Z",
     "shell.execute_reply": "2024-01-22T10:05:49.104119Z"
    },
    "papermill": {
     "duration": 0.044754,
     "end_time": "2024-01-22T10:05:49.107001",
     "exception": false,
     "start_time": "2024-01-22T10:05:49.062247",
     "status": "completed"
    },
    "tags": []
   },
   "outputs": [
    {
     "data": {
      "text/html": [
       "<div>\n",
       "<style scoped>\n",
       "    .dataframe tbody tr th:only-of-type {\n",
       "        vertical-align: middle;\n",
       "    }\n",
       "\n",
       "    .dataframe tbody tr th {\n",
       "        vertical-align: top;\n",
       "    }\n",
       "\n",
       "    .dataframe thead th {\n",
       "        text-align: right;\n",
       "    }\n",
       "</style>\n",
       "<table border=\"1\" class=\"dataframe\">\n",
       "  <thead>\n",
       "    <tr style=\"text-align: right;\">\n",
       "      <th></th>\n",
       "      <th>english</th>\n",
       "      <th>german</th>\n",
       "    </tr>\n",
       "  </thead>\n",
       "  <tbody>\n",
       "    <tr>\n",
       "      <th>0</th>\n",
       "      <td>A man in an orange hat starring at something.</td>\n",
       "      <td>Ein Mann mit einem orangefarbenen Hut, der etw...</td>\n",
       "    </tr>\n",
       "    <tr>\n",
       "      <th>1</th>\n",
       "      <td>A Boston Terrier is running on lush green gras...</td>\n",
       "      <td>Ein Boston Terrier läuft über saftig-grünes Gr...</td>\n",
       "    </tr>\n",
       "    <tr>\n",
       "      <th>2</th>\n",
       "      <td>A girl in karate uniform breaking a stick with...</td>\n",
       "      <td>Ein Mädchen in einem Karateanzug bricht einen ...</td>\n",
       "    </tr>\n",
       "    <tr>\n",
       "      <th>3</th>\n",
       "      <td>Five people wearing winter jackets and helmets...</td>\n",
       "      <td>Fünf Leute in Winterjacken und mit Helmen steh...</td>\n",
       "    </tr>\n",
       "    <tr>\n",
       "      <th>4</th>\n",
       "      <td>People are fixing the roof of a house.</td>\n",
       "      <td>Leute Reparieren das Dach eines Hauses.</td>\n",
       "    </tr>\n",
       "  </tbody>\n",
       "</table>\n",
       "</div>"
      ],
      "text/plain": [
       "                                             english  \\\n",
       "0      A man in an orange hat starring at something.   \n",
       "1  A Boston Terrier is running on lush green gras...   \n",
       "2  A girl in karate uniform breaking a stick with...   \n",
       "3  Five people wearing winter jackets and helmets...   \n",
       "4             People are fixing the roof of a house.   \n",
       "\n",
       "                                              german  \n",
       "0  Ein Mann mit einem orangefarbenen Hut, der etw...  \n",
       "1  Ein Boston Terrier läuft über saftig-grünes Gr...  \n",
       "2  Ein Mädchen in einem Karateanzug bricht einen ...  \n",
       "3  Fünf Leute in Winterjacken und mit Helmen steh...  \n",
       "4            Leute Reparieren das Dach eines Hauses.  "
      ]
     },
     "execution_count": 8,
     "metadata": {},
     "output_type": "execute_result"
    }
   ],
   "source": [
    "test_df = pd.read_csv(\"/kaggle/input/machine-translation-dataset-de-en/translation_test.csv\")\n",
    "test_df.head()"
   ]
  },
  {
   "cell_type": "code",
   "execution_count": 9,
   "id": "75427d6e",
   "metadata": {
    "execution": {
     "iopub.execute_input": "2024-01-22T10:05:49.142781Z",
     "iopub.status.busy": "2024-01-22T10:05:49.142493Z",
     "iopub.status.idle": "2024-01-22T10:05:49.151425Z",
     "shell.execute_reply": "2024-01-22T10:05:49.150546Z"
    },
    "papermill": {
     "duration": 0.028749,
     "end_time": "2024-01-22T10:05:49.153497",
     "exception": false,
     "start_time": "2024-01-22T10:05:49.124748",
     "status": "completed"
    },
    "tags": []
   },
   "outputs": [
    {
     "name": "stdout",
     "output_type": "stream",
     "text": [
      "length of iterable: 1000\n"
     ]
    }
   ],
   "source": [
    "test_iter = create_iterable(test_df)"
   ]
  },
  {
   "cell_type": "markdown",
   "id": "d0227111",
   "metadata": {
    "papermill": {
     "duration": 0.016993,
     "end_time": "2024-01-22T10:05:49.187449",
     "exception": false,
     "start_time": "2024-01-22T10:05:49.170456",
     "status": "completed"
    },
    "tags": []
   },
   "source": [
    "# Create Vocab from data sources"
   ]
  },
  {
   "cell_type": "code",
   "execution_count": 10,
   "id": "9fd7464d",
   "metadata": {
    "execution": {
     "iopub.execute_input": "2024-01-22T10:05:49.222370Z",
     "iopub.status.busy": "2024-01-22T10:05:49.222096Z",
     "iopub.status.idle": "2024-01-22T10:05:49.227871Z",
     "shell.execute_reply": "2024-01-22T10:05:49.226998Z"
    },
    "papermill": {
     "duration": 0.025712,
     "end_time": "2024-01-22T10:05:49.229874",
     "exception": false,
     "start_time": "2024-01-22T10:05:49.204162",
     "status": "completed"
    },
    "tags": []
   },
   "outputs": [],
   "source": [
    "def load_tokenizers():\n",
    "    \"\"\"\n",
    "    Load the German and English tokenizers provided by spaCy.\n",
    "\n",
    "    Returns:\n",
    "        spacy_de:     German tokenizer\n",
    "        spacy_en:     English tokenizer\n",
    "    \"\"\"\n",
    "    try:\n",
    "        spacy_de = spacy.load(\"de_core_news_sm\")\n",
    "    except OSError:\n",
    "        os.system(\"python -m spacy download de_core_news_sm\")\n",
    "        spacy_de = spacy.load(\"de_core_news_sm\")\n",
    "\n",
    "    try:\n",
    "        spacy_en = spacy.load(\"en_core_web_sm\")\n",
    "    except OSError:\n",
    "        os.system(\"python -m spacy download en_core_web_sm\")\n",
    "        spacy_en = spacy.load(\"en_core_web_sm\")\n",
    "\n",
    "    print(\"Loaded English and German tokenizers.\")\n",
    "    return spacy_de, spacy_en"
   ]
  },
  {
   "cell_type": "code",
   "execution_count": 11,
   "id": "bd160d37",
   "metadata": {
    "execution": {
     "iopub.execute_input": "2024-01-22T10:05:49.264640Z",
     "iopub.status.busy": "2024-01-22T10:05:49.264369Z",
     "iopub.status.idle": "2024-01-22T10:05:49.268858Z",
     "shell.execute_reply": "2024-01-22T10:05:49.268044Z"
    },
    "papermill": {
     "duration": 0.024067,
     "end_time": "2024-01-22T10:05:49.270919",
     "exception": false,
     "start_time": "2024-01-22T10:05:49.246852",
     "status": "completed"
    },
    "tags": []
   },
   "outputs": [],
   "source": [
    "def tokenize(text: str, tokenizer):\n",
    "  \"\"\"\n",
    "    Split a string into its tokens using the provided tokenizer.\n",
    "\n",
    "    Args:\n",
    "        text:         string \n",
    "        tokenizer:    tokenizer for the language\n",
    "        \n",
    "    Returns:\n",
    "        tokenized list of strings       \n",
    "  \"\"\"\n",
    "  return [tok.text.lower() for tok in tokenizer.tokenizer(text)]"
   ]
  },
  {
   "cell_type": "code",
   "execution_count": 12,
   "id": "28227692",
   "metadata": {
    "execution": {
     "iopub.execute_input": "2024-01-22T10:05:49.305720Z",
     "iopub.status.busy": "2024-01-22T10:05:49.305453Z",
     "iopub.status.idle": "2024-01-22T10:05:49.310012Z",
     "shell.execute_reply": "2024-01-22T10:05:49.309166Z"
    },
    "papermill": {
     "duration": 0.024137,
     "end_time": "2024-01-22T10:05:49.311857",
     "exception": false,
     "start_time": "2024-01-22T10:05:49.287720",
     "status": "completed"
    },
    "tags": []
   },
   "outputs": [],
   "source": [
    "def yield_tokens(data_iter, tokenizer, index: int):\n",
    "  \"\"\"\n",
    "    Return the tokens for the appropriate language.\n",
    "\n",
    "    Args:\n",
    "        data_iter:    text here \n",
    "        tokenizer:    tokenizer for the language\n",
    "        index:        index of the language in the tuple | (de=0, en=1)\n",
    "        \n",
    "    Yields:\n",
    "        sequences based on index       \n",
    "  \"\"\"\n",
    "  for from_tuple in data_iter:\n",
    "    yield tokenizer(from_tuple[index])"
   ]
  },
  {
   "cell_type": "code",
   "execution_count": 13,
   "id": "a26a7b36",
   "metadata": {
    "execution": {
     "iopub.execute_input": "2024-01-22T10:05:49.346869Z",
     "iopub.status.busy": "2024-01-22T10:05:49.346567Z",
     "iopub.status.idle": "2024-01-22T10:05:49.354865Z",
     "shell.execute_reply": "2024-01-22T10:05:49.354023Z"
    },
    "papermill": {
     "duration": 0.028051,
     "end_time": "2024-01-22T10:05:49.356836",
     "exception": false,
     "start_time": "2024-01-22T10:05:49.328785",
     "status": "completed"
    },
    "tags": []
   },
   "outputs": [],
   "source": [
    "def build_vocabulary(\n",
    "                    spacy_de, \n",
    "                    spacy_en, \n",
    "                    train_iter, \n",
    "                    val_iter, \n",
    "                    test_iter, \n",
    "                    min_freq: int = 2):\n",
    "  \n",
    "    def tokenize_de(text: str):\n",
    "        \"\"\"\n",
    "          Call the German tokenizer.\n",
    "\n",
    "          Args:\n",
    "              text:         string \n",
    "              min_freq:     minimum frequency needed to include a word in the vocabulary\n",
    "\n",
    "          Returns:\n",
    "              tokenized list of strings       \n",
    "        \"\"\"\n",
    "        return tokenize(text, spacy_de)\n",
    "\n",
    "    def tokenize_en(text: str):\n",
    "        \"\"\"\n",
    "          Call the English tokenizer.\n",
    "\n",
    "          Args:\n",
    "              text:         string \n",
    "\n",
    "          Returns:\n",
    "              tokenized list of strings       \n",
    "        \"\"\"\n",
    "        return tokenize(text, spacy_en)\n",
    "\n",
    "    print(\"Building German Vocabulary...\")\n",
    "\n",
    "#     # load train, val, and test data pipelines\n",
    "#     train, val, test = datasets.IWSLT2016(language_pair=(\"de\", \"en\"))\n",
    "    train = train_iter\n",
    "    val = val_iter\n",
    "    test = test_iter\n",
    "\n",
    "    # generate source vocabulary\n",
    "    vocab_src = build_vocab_from_iterator(\n",
    "        yield_tokens(train + val + test, tokenize_de, index=0), # tokens for each German sentence (index 0)\n",
    "        min_freq=min_freq, \n",
    "        specials=[\"<bos>\", \"<eos>\", \"<pad>\", \"<unk>\"],\n",
    "    )\n",
    "\n",
    "    print(\"Building English Vocabulary...\")\n",
    "\n",
    "    # generate target vocabulary\n",
    "    vocab_trg = build_vocab_from_iterator(\n",
    "        yield_tokens(train + val + test, tokenize_en, index=1), # tokens for each English sentence (index 1)\n",
    "        min_freq=2, # \n",
    "        specials=[\"<bos>\", \"<eos>\", \"<pad>\", \"<unk>\"],\n",
    "    )\n",
    "\n",
    "    # set default token for out-of-vocabulary words (OOV)\n",
    "    vocab_src.set_default_index(vocab_src[\"<unk>\"])\n",
    "    vocab_trg.set_default_index(vocab_trg[\"<unk>\"])\n",
    "\n",
    "    return vocab_src, vocab_trg"
   ]
  },
  {
   "cell_type": "code",
   "execution_count": 14,
   "id": "95aa9f06",
   "metadata": {
    "execution": {
     "iopub.execute_input": "2024-01-22T10:05:49.391503Z",
     "iopub.status.busy": "2024-01-22T10:05:49.391250Z",
     "iopub.status.idle": "2024-01-22T10:05:49.397579Z",
     "shell.execute_reply": "2024-01-22T10:05:49.396783Z"
    },
    "papermill": {
     "duration": 0.025771,
     "end_time": "2024-01-22T10:05:49.399406",
     "exception": false,
     "start_time": "2024-01-22T10:05:49.373635",
     "status": "completed"
    },
    "tags": []
   },
   "outputs": [],
   "source": [
    "def load_vocab(spacy_de, spacy_en, train_iter, val_iter, test_iter, min_freq: int = 2):\n",
    "    \"\"\"\n",
    "    Args:\n",
    "        spacy_de:     German tokenizer\n",
    "        spacy_en:     English tokenizer\n",
    "        min_freq:     minimum frequency needed to include a word in the vocabulary\n",
    "\n",
    "    Returns:\n",
    "        vocab_src:    German vocabulary\n",
    "        vocab_trg:     English vocabulary       \n",
    "    \"\"\"\n",
    "    if not os.path.exists(\"vocab.pt\"):\n",
    "        # build the German/English vocabulary if it does not exist\n",
    "        vocab_src, vocab_trg = build_vocabulary(spacy_de, \n",
    "                                                spacy_en, \n",
    "                                                train_iter, \n",
    "                                                val_iter, \n",
    "                                                test_iter, \n",
    "                                                min_freq)\n",
    "        # save it to a file\n",
    "        torch.save((vocab_src, vocab_trg), \"vocab.pt\")\n",
    "    else:\n",
    "        # load the vocab if it exists\n",
    "        vocab_src, vocab_trg = torch.load(\"vocab.pt\")\n",
    "\n",
    "    print(\"Finished.\\nVocabulary sizes:\")\n",
    "    print(\"\\tSource:\", len(vocab_src))\n",
    "    print(\"\\tTarget:\", len(vocab_trg))\n",
    "    return vocab_src, vocab_trg"
   ]
  },
  {
   "cell_type": "code",
   "execution_count": 15,
   "id": "d1a1b648",
   "metadata": {
    "execution": {
     "iopub.execute_input": "2024-01-22T10:05:49.434128Z",
     "iopub.status.busy": "2024-01-22T10:05:49.433577Z",
     "iopub.status.idle": "2024-01-22T10:06:08.507697Z",
     "shell.execute_reply": "2024-01-22T10:06:08.506679Z"
    },
    "papermill": {
     "duration": 19.09378,
     "end_time": "2024-01-22T10:06:08.509932",
     "exception": false,
     "start_time": "2024-01-22T10:05:49.416152",
     "status": "completed"
    },
    "tags": []
   },
   "outputs": [
    {
     "name": "stderr",
     "output_type": "stream",
     "text": [
      "/opt/conda/lib/python3.10/site-packages/scipy/__init__.py:146: UserWarning: A NumPy version >=1.16.5 and <1.23.0 is required for this version of SciPy (detected version 1.24.3\n",
      "  warnings.warn(f\"A NumPy version >={np_minversion} and <{np_maxversion}\"\n"
     ]
    },
    {
     "name": "stdout",
     "output_type": "stream",
     "text": [
      "Collecting de-core-news-sm==3.7.0\n",
      "  Downloading https://github.com/explosion/spacy-models/releases/download/de_core_news_sm-3.7.0/de_core_news_sm-3.7.0-py3-none-any.whl (14.6 MB)\n",
      "\u001b[2K     \u001b[90m━━━━━━━━━━━━━━━━━━━━━━━━━━━━━━━━━━━━━━━━\u001b[0m \u001b[32m14.6/14.6 MB\u001b[0m \u001b[31m70.9 MB/s\u001b[0m eta \u001b[36m0:00:00\u001b[0m\n",
      "\u001b[?25hRequirement already satisfied: spacy<3.8.0,>=3.7.0 in /opt/conda/lib/python3.10/site-packages (from de-core-news-sm==3.7.0) (3.7.2)\n",
      "Requirement already satisfied: spacy-legacy<3.1.0,>=3.0.11 in /opt/conda/lib/python3.10/site-packages (from spacy<3.8.0,>=3.7.0->de-core-news-sm==3.7.0) (3.0.12)\n",
      "Requirement already satisfied: spacy-loggers<2.0.0,>=1.0.0 in /opt/conda/lib/python3.10/site-packages (from spacy<3.8.0,>=3.7.0->de-core-news-sm==3.7.0) (1.0.5)\n",
      "Requirement already satisfied: murmurhash<1.1.0,>=0.28.0 in /opt/conda/lib/python3.10/site-packages (from spacy<3.8.0,>=3.7.0->de-core-news-sm==3.7.0) (1.0.10)\n",
      "Requirement already satisfied: cymem<2.1.0,>=2.0.2 in /opt/conda/lib/python3.10/site-packages (from spacy<3.8.0,>=3.7.0->de-core-news-sm==3.7.0) (2.0.8)\n",
      "Requirement already satisfied: preshed<3.1.0,>=3.0.2 in /opt/conda/lib/python3.10/site-packages (from spacy<3.8.0,>=3.7.0->de-core-news-sm==3.7.0) (3.0.9)\n",
      "Requirement already satisfied: thinc<8.3.0,>=8.1.8 in /opt/conda/lib/python3.10/site-packages (from spacy<3.8.0,>=3.7.0->de-core-news-sm==3.7.0) (8.2.2)\n",
      "Requirement already satisfied: wasabi<1.2.0,>=0.9.1 in /opt/conda/lib/python3.10/site-packages (from spacy<3.8.0,>=3.7.0->de-core-news-sm==3.7.0) (1.1.2)\n",
      "Requirement already satisfied: srsly<3.0.0,>=2.4.3 in /opt/conda/lib/python3.10/site-packages (from spacy<3.8.0,>=3.7.0->de-core-news-sm==3.7.0) (2.4.8)\n",
      "Requirement already satisfied: catalogue<2.1.0,>=2.0.6 in /opt/conda/lib/python3.10/site-packages (from spacy<3.8.0,>=3.7.0->de-core-news-sm==3.7.0) (2.0.10)\n",
      "Requirement already satisfied: weasel<0.4.0,>=0.1.0 in /opt/conda/lib/python3.10/site-packages (from spacy<3.8.0,>=3.7.0->de-core-news-sm==3.7.0) (0.3.4)\n",
      "Requirement already satisfied: typer<0.10.0,>=0.3.0 in /opt/conda/lib/python3.10/site-packages (from spacy<3.8.0,>=3.7.0->de-core-news-sm==3.7.0) (0.9.0)\n",
      "Requirement already satisfied: smart-open<7.0.0,>=5.2.1 in /opt/conda/lib/python3.10/site-packages (from spacy<3.8.0,>=3.7.0->de-core-news-sm==3.7.0) (6.3.0)\n",
      "Requirement already satisfied: tqdm<5.0.0,>=4.38.0 in /opt/conda/lib/python3.10/site-packages (from spacy<3.8.0,>=3.7.0->de-core-news-sm==3.7.0) (4.66.1)\n",
      "Requirement already satisfied: requests<3.0.0,>=2.13.0 in /opt/conda/lib/python3.10/site-packages (from spacy<3.8.0,>=3.7.0->de-core-news-sm==3.7.0) (2.31.0)\n",
      "Requirement already satisfied: pydantic!=1.8,!=1.8.1,<3.0.0,>=1.7.4 in /opt/conda/lib/python3.10/site-packages (from spacy<3.8.0,>=3.7.0->de-core-news-sm==3.7.0) (1.10.12)\n",
      "Requirement already satisfied: jinja2 in /opt/conda/lib/python3.10/site-packages (from spacy<3.8.0,>=3.7.0->de-core-news-sm==3.7.0) (3.1.2)\n",
      "Requirement already satisfied: setuptools in /opt/conda/lib/python3.10/site-packages (from spacy<3.8.0,>=3.7.0->de-core-news-sm==3.7.0) (68.1.2)\n",
      "Requirement already satisfied: packaging>=20.0 in /opt/conda/lib/python3.10/site-packages (from spacy<3.8.0,>=3.7.0->de-core-news-sm==3.7.0) (21.3)\n",
      "Requirement already satisfied: langcodes<4.0.0,>=3.2.0 in /opt/conda/lib/python3.10/site-packages (from spacy<3.8.0,>=3.7.0->de-core-news-sm==3.7.0) (3.3.0)\n",
      "Requirement already satisfied: numpy>=1.19.0 in /opt/conda/lib/python3.10/site-packages (from spacy<3.8.0,>=3.7.0->de-core-news-sm==3.7.0) (1.24.3)\n",
      "Requirement already satisfied: pyparsing!=3.0.5,>=2.0.2 in /opt/conda/lib/python3.10/site-packages (from packaging>=20.0->spacy<3.8.0,>=3.7.0->de-core-news-sm==3.7.0) (3.0.9)\n",
      "Requirement already satisfied: typing-extensions>=4.2.0 in /opt/conda/lib/python3.10/site-packages (from pydantic!=1.8,!=1.8.1,<3.0.0,>=1.7.4->spacy<3.8.0,>=3.7.0->de-core-news-sm==3.7.0) (4.5.0)\n",
      "Requirement already satisfied: charset-normalizer<4,>=2 in /opt/conda/lib/python3.10/site-packages (from requests<3.0.0,>=2.13.0->spacy<3.8.0,>=3.7.0->de-core-news-sm==3.7.0) (3.2.0)\n",
      "Requirement already satisfied: idna<4,>=2.5 in /opt/conda/lib/python3.10/site-packages (from requests<3.0.0,>=2.13.0->spacy<3.8.0,>=3.7.0->de-core-news-sm==3.7.0) (3.4)\n",
      "Requirement already satisfied: urllib3<3,>=1.21.1 in /opt/conda/lib/python3.10/site-packages (from requests<3.0.0,>=2.13.0->spacy<3.8.0,>=3.7.0->de-core-news-sm==3.7.0) (1.26.15)\n",
      "Requirement already satisfied: certifi>=2017.4.17 in /opt/conda/lib/python3.10/site-packages (from requests<3.0.0,>=2.13.0->spacy<3.8.0,>=3.7.0->de-core-news-sm==3.7.0) (2023.11.17)\n",
      "Requirement already satisfied: blis<0.8.0,>=0.7.8 in /opt/conda/lib/python3.10/site-packages (from thinc<8.3.0,>=8.1.8->spacy<3.8.0,>=3.7.0->de-core-news-sm==3.7.0) (0.7.10)\n",
      "Requirement already satisfied: confection<1.0.0,>=0.0.1 in /opt/conda/lib/python3.10/site-packages (from thinc<8.3.0,>=8.1.8->spacy<3.8.0,>=3.7.0->de-core-news-sm==3.7.0) (0.1.4)\n",
      "Requirement already satisfied: click<9.0.0,>=7.1.1 in /opt/conda/lib/python3.10/site-packages (from typer<0.10.0,>=0.3.0->spacy<3.8.0,>=3.7.0->de-core-news-sm==3.7.0) (8.1.7)\n",
      "Requirement already satisfied: cloudpathlib<0.17.0,>=0.7.0 in /opt/conda/lib/python3.10/site-packages (from weasel<0.4.0,>=0.1.0->spacy<3.8.0,>=3.7.0->de-core-news-sm==3.7.0) (0.16.0)\n",
      "Requirement already satisfied: MarkupSafe>=2.0 in /opt/conda/lib/python3.10/site-packages (from jinja2->spacy<3.8.0,>=3.7.0->de-core-news-sm==3.7.0) (2.1.3)\n",
      "Installing collected packages: de-core-news-sm\n",
      "Successfully installed de-core-news-sm-3.7.0\n",
      "\u001b[38;5;2m✔ Download and installation successful\u001b[0m\n",
      "You can now load the package via spacy.load('de_core_news_sm')\n",
      "Loaded English and German tokenizers.\n"
     ]
    }
   ],
   "source": [
    "# global variables used later in the script\n",
    "spacy_de, spacy_en = load_tokenizers()"
   ]
  },
  {
   "cell_type": "code",
   "execution_count": 16,
   "id": "2dee7061",
   "metadata": {
    "execution": {
     "iopub.execute_input": "2024-01-22T10:06:08.547800Z",
     "iopub.status.busy": "2024-01-22T10:06:08.547487Z",
     "iopub.status.idle": "2024-01-22T10:06:13.550500Z",
     "shell.execute_reply": "2024-01-22T10:06:13.549332Z"
    },
    "papermill": {
     "duration": 5.025365,
     "end_time": "2024-01-22T10:06:13.553374",
     "exception": false,
     "start_time": "2024-01-22T10:06:08.528009",
     "status": "completed"
    },
    "tags": []
   },
   "outputs": [
    {
     "name": "stdout",
     "output_type": "stream",
     "text": [
      "Building German Vocabulary...\n",
      "Building English Vocabulary...\n",
      "Finished.\n",
      "Vocabulary sizes:\n",
      "\tSource: 7983\n",
      "\tTarget: 5979\n"
     ]
    }
   ],
   "source": [
    "vocab_src, vocab_trg = load_vocab(\n",
    "                            spacy_de, \n",
    "                            spacy_en, \n",
    "                            train_iter, \n",
    "                            val_iter, \n",
    "                            test_iter)"
   ]
  },
  {
   "cell_type": "code",
   "execution_count": 17,
   "id": "f9d968c1",
   "metadata": {
    "execution": {
     "iopub.execute_input": "2024-01-22T10:06:13.591218Z",
     "iopub.status.busy": "2024-01-22T10:06:13.590904Z",
     "iopub.status.idle": "2024-01-22T10:06:13.595250Z",
     "shell.execute_reply": "2024-01-22T10:06:13.594406Z"
    },
    "papermill": {
     "duration": 0.025126,
     "end_time": "2024-01-22T10:06:13.597244",
     "exception": false,
     "start_time": "2024-01-22T10:06:13.572118",
     "status": "completed"
    },
    "tags": []
   },
   "outputs": [],
   "source": [
    "BOS_IDX = vocab_trg['<bos>']\n",
    "EOS_IDX = vocab_trg['<eos>']\n",
    "PAD_IDX = vocab_trg['<pad>']"
   ]
  },
  {
   "cell_type": "markdown",
   "id": "129e78fe",
   "metadata": {
    "papermill": {
     "duration": 0.017762,
     "end_time": "2024-01-22T10:06:13.632908",
     "exception": false,
     "start_time": "2024-01-22T10:06:13.615146",
     "status": "completed"
    },
    "tags": []
   },
   "source": [
    "# Perform data preprocess"
   ]
  },
  {
   "cell_type": "code",
   "execution_count": 18,
   "id": "ffac7134",
   "metadata": {
    "execution": {
     "iopub.execute_input": "2024-01-22T10:06:13.669801Z",
     "iopub.status.busy": "2024-01-22T10:06:13.669492Z",
     "iopub.status.idle": "2024-01-22T10:06:13.676320Z",
     "shell.execute_reply": "2024-01-22T10:06:13.675486Z"
    },
    "papermill": {
     "duration": 0.027462,
     "end_time": "2024-01-22T10:06:13.678170",
     "exception": false,
     "start_time": "2024-01-22T10:06:13.650708",
     "status": "completed"
    },
    "tags": []
   },
   "outputs": [],
   "source": [
    "def data_process(raw_data):\n",
    "    \"\"\"\n",
    "    Process raw sentences by tokenizing and converting to integers based on \n",
    "    the vocabulary.\n",
    "\n",
    "    Args:\n",
    "        raw_data:     German-English sentence pairs \n",
    "    Returns:\n",
    "        data:         tokenized data converted to index based on vocabulary   \n",
    "    \"\"\"\n",
    "    data = []\n",
    "    # loop through each sentence pair\n",
    "    for (raw_de, raw_en) in tqdm(raw_data):\n",
    "        de_tensor_ = []\n",
    "        # tokenize the sentence and convert each word to an integers\n",
    "        for token in spacy_de.tokenizer(raw_de):\n",
    "            de_tensor_.append(vocab_src[token.text.lower()])\n",
    "            \n",
    "        en_tensor_ = []\n",
    "        # tokenize the sentence and convert each word to an integers\n",
    "        for token in spacy_en.tokenizer(raw_en):\n",
    "            en_tensor_.append(vocab_trg[token.text.lower()])\n",
    "            \n",
    "        de_tensor_ = torch.tensor(de_tensor_, dtype=torch.long)\n",
    "        en_tensor_ = torch.tensor(en_tensor_, dtype=torch.long)\n",
    "        # append tensor representations\n",
    "        data.append((de_tensor_, en_tensor_))\n",
    "    return data"
   ]
  },
  {
   "cell_type": "code",
   "execution_count": 19,
   "id": "d6933cd4",
   "metadata": {
    "execution": {
     "iopub.execute_input": "2024-01-22T10:06:13.715672Z",
     "iopub.status.busy": "2024-01-22T10:06:13.715399Z",
     "iopub.status.idle": "2024-01-22T10:06:17.765352Z",
     "shell.execute_reply": "2024-01-22T10:06:17.764449Z"
    },
    "papermill": {
     "duration": 4.071448,
     "end_time": "2024-01-22T10:06:17.767780",
     "exception": false,
     "start_time": "2024-01-22T10:06:13.696332",
     "status": "completed"
    },
    "tags": []
   },
   "outputs": [
    {
     "name": "stderr",
     "output_type": "stream",
     "text": [
      "100%|██████████| 27550/27550 [00:03<00:00, 7430.78it/s]\n"
     ]
    },
    {
     "name": "stdout",
     "output_type": "stream",
     "text": [
      "Train data shape: 27550\n"
     ]
    },
    {
     "name": "stderr",
     "output_type": "stream",
     "text": [
      "100%|██████████| 1450/1450 [00:00<00:00, 7456.00it/s]\n"
     ]
    },
    {
     "name": "stdout",
     "output_type": "stream",
     "text": [
      "Val data shape: 1450\n"
     ]
    },
    {
     "name": "stderr",
     "output_type": "stream",
     "text": [
      "100%|██████████| 1000/1000 [00:00<00:00, 7541.83it/s]"
     ]
    },
    {
     "name": "stdout",
     "output_type": "stream",
     "text": [
      "Test data shape: 1000\n"
     ]
    },
    {
     "name": "stderr",
     "output_type": "stream",
     "text": [
      "\n"
     ]
    }
   ],
   "source": [
    "# processed data\n",
    "train_data = data_process(train_iter)\n",
    "print(f\"Train data shape: {len(train_data)}\")\n",
    "val_data = data_process(val_iter)\n",
    "print(f\"Val data shape: {len(val_data)}\")\n",
    "test_data = data_process(test_iter)\n",
    "print(f\"Test data shape: {len(test_data)}\")"
   ]
  },
  {
   "cell_type": "markdown",
   "id": "631bec96",
   "metadata": {
    "papermill": {
     "duration": 0.021641,
     "end_time": "2024-01-22T10:06:17.812014",
     "exception": false,
     "start_time": "2024-01-22T10:06:17.790373",
     "status": "completed"
    },
    "tags": []
   },
   "source": [
    "# Create collate function"
   ]
  },
  {
   "cell_type": "code",
   "execution_count": 20,
   "id": "63d52284",
   "metadata": {
    "execution": {
     "iopub.execute_input": "2024-01-22T10:06:17.857436Z",
     "iopub.status.busy": "2024-01-22T10:06:17.857129Z",
     "iopub.status.idle": "2024-01-22T10:06:17.864843Z",
     "shell.execute_reply": "2024-01-22T10:06:17.863968Z"
    },
    "papermill": {
     "duration": 0.032683,
     "end_time": "2024-01-22T10:06:17.866745",
     "exception": false,
     "start_time": "2024-01-22T10:06:17.834062",
     "status": "completed"
    },
    "tags": []
   },
   "outputs": [],
   "source": [
    "def generate_batch(data_batch):\n",
    "    \"\"\"\n",
    "    Process indexed-sequences by adding <bos>, <eos>, and <pad> tokens.\n",
    "\n",
    "    Args:\n",
    "        data_batch:     German-English indexed-sentence pairs\n",
    "\n",
    "    Returns:\n",
    "        two batches:    one for German and one for English\n",
    "    \"\"\"\n",
    "    de_batch, en_batch = [], []\n",
    "\n",
    "    # for each sentence\n",
    "    for (de_item, en_item) in data_batch:\n",
    "        # add <bos> and <eos> indices before and after the sentence\n",
    "        de_temp = torch.cat([torch.tensor([BOS_IDX]), \n",
    "                             de_item, \n",
    "                             torch.tensor([EOS_IDX])], dim=0).to(device)\n",
    "        en_temp = torch.cat([torch.tensor([BOS_IDX]), \n",
    "                             en_item, \n",
    "                             torch.tensor([EOS_IDX])], dim=0).to(device)\n",
    "\n",
    "        # add padding\n",
    "        de_batch.append(pad(de_temp,(0, # dimension to pad\n",
    "                                MAX_PADDING - len(de_temp), # amount of padding to add\n",
    "                              ),value=PAD_IDX,))\n",
    "\n",
    "        # add padding\n",
    "        en_batch.append(pad(en_temp,(0, # dimension to pad\n",
    "                                MAX_PADDING - len(en_temp), # amount of padding to add\n",
    "                              ),\n",
    "                              value=PAD_IDX,))\n",
    "\n",
    "    return torch.stack(de_batch), torch.stack(en_batch)"
   ]
  },
  {
   "cell_type": "markdown",
   "id": "aab29169",
   "metadata": {
    "papermill": {
     "duration": 0.021566,
     "end_time": "2024-01-22T10:06:17.909958",
     "exception": false,
     "start_time": "2024-01-22T10:06:17.888392",
     "status": "completed"
    },
    "tags": []
   },
   "source": [
    "# Creating DataLoaders for training and testing"
   ]
  },
  {
   "cell_type": "code",
   "execution_count": 21,
   "id": "ff739b9f",
   "metadata": {
    "execution": {
     "iopub.execute_input": "2024-01-22T10:06:17.954505Z",
     "iopub.status.busy": "2024-01-22T10:06:17.954210Z",
     "iopub.status.idle": "2024-01-22T10:06:17.964200Z",
     "shell.execute_reply": "2024-01-22T10:06:17.963260Z"
    },
    "papermill": {
     "duration": 0.034594,
     "end_time": "2024-01-22T10:06:17.966243",
     "exception": false,
     "start_time": "2024-01-22T10:06:17.931649",
     "status": "completed"
    },
    "tags": []
   },
   "outputs": [],
   "source": [
    "MAX_PADDING = 20\n",
    "BATCH_SIZE = 128\n",
    "\n",
    "train_iter = DataLoader(\n",
    "                to_map_style_dataset(train_data), \n",
    "                batch_size=BATCH_SIZE,\n",
    "                shuffle=True, \n",
    "                drop_last=True, \n",
    "                collate_fn=generate_batch)\n",
    "\n",
    "valid_iter = DataLoader(\n",
    "                to_map_style_dataset(val_data),\n",
    "                batch_size=BATCH_SIZE,\n",
    "                shuffle=True, \n",
    "                drop_last=True, \n",
    "                collate_fn=generate_batch)\n",
    "\n",
    "test_iter = DataLoader(\n",
    "                to_map_style_dataset(test_data), \n",
    "                batch_size=BATCH_SIZE,\n",
    "                shuffle=True, \n",
    "                drop_last=True, \n",
    "                collate_fn=generate_batch)\n"
   ]
  },
  {
   "cell_type": "markdown",
   "id": "880c752b",
   "metadata": {
    "papermill": {
     "duration": 0.021397,
     "end_time": "2024-01-22T10:06:18.009318",
     "exception": false,
     "start_time": "2024-01-22T10:06:17.987921",
     "status": "completed"
    },
    "tags": []
   },
   "source": [
    "# Creating Attention Network Model"
   ]
  },
  {
   "cell_type": "code",
   "execution_count": 22,
   "id": "e78e5618",
   "metadata": {
    "execution": {
     "iopub.execute_input": "2024-01-22T10:06:18.053976Z",
     "iopub.status.busy": "2024-01-22T10:06:18.053683Z",
     "iopub.status.idle": "2024-01-22T10:06:18.057308Z",
     "shell.execute_reply": "2024-01-22T10:06:18.056515Z"
    },
    "papermill": {
     "duration": 0.028072,
     "end_time": "2024-01-22T10:06:18.059157",
     "exception": false,
     "start_time": "2024-01-22T10:06:18.031085",
     "status": "completed"
    },
    "tags": []
   },
   "outputs": [],
   "source": [
    "import math"
   ]
  },
  {
   "cell_type": "markdown",
   "id": "d8ed14f2",
   "metadata": {
    "papermill": {
     "duration": 0.0216,
     "end_time": "2024-01-22T10:06:18.102348",
     "exception": false,
     "start_time": "2024-01-22T10:06:18.080748",
     "status": "completed"
    },
    "tags": []
   },
   "source": [
    "## Create submodules for network"
   ]
  },
  {
   "cell_type": "code",
   "execution_count": 23,
   "id": "1f250f07",
   "metadata": {
    "execution": {
     "iopub.execute_input": "2024-01-22T10:06:18.147681Z",
     "iopub.status.busy": "2024-01-22T10:06:18.147076Z",
     "iopub.status.idle": "2024-01-22T10:06:18.153352Z",
     "shell.execute_reply": "2024-01-22T10:06:18.152537Z"
    },
    "papermill": {
     "duration": 0.030865,
     "end_time": "2024-01-22T10:06:18.155152",
     "exception": false,
     "start_time": "2024-01-22T10:06:18.124287",
     "status": "completed"
    },
    "tags": []
   },
   "outputs": [],
   "source": [
    "class Embedding(nn.Module):\n",
    "    \"\"\"\n",
    "    Embedding lookup table which is used by the positional embedding block.\n",
    "    Embedding lookup table is shared across input and output\n",
    "    \"\"\"\n",
    "    def __init__(self, vocab_size, dmodel):\n",
    "        \"\"\"\n",
    "        Embedding lookup needs a vocab size and model dimension size matrix for \n",
    "        creating lookups\n",
    "        \"\"\"\n",
    "        super().__init__()\n",
    "        self.embedding_lookup = nn.Embedding(vocab_size, dmodel)\n",
    "        self.vocab_size = vocab_size\n",
    "        self.dmodel = dmodel\n",
    "        \n",
    "    def forward(self, token_ids):\n",
    "        \"\"\"\n",
    "        For a given token lookup the embedding vector\n",
    "        \n",
    "        As per the paper, we also multiply the embedding vector with sqrt of dmodel \n",
    "        \"\"\"\n",
    "        assert token_ids.ndim == 2, \\\n",
    "        f'Expected: (batch size, max token sequence length), got {token_ids.shape}'\n",
    "        \n",
    "        embedding_vector = self.embedding_lookup(token_ids)\n",
    "        \n",
    "        return embedding_vector * math.sqrt(self.dmodel)\n"
   ]
  },
  {
   "cell_type": "code",
   "execution_count": 24,
   "id": "578f3e18",
   "metadata": {
    "execution": {
     "iopub.execute_input": "2024-01-22T10:06:18.200253Z",
     "iopub.status.busy": "2024-01-22T10:06:18.199959Z",
     "iopub.status.idle": "2024-01-22T10:06:18.209308Z",
     "shell.execute_reply": "2024-01-22T10:06:18.208490Z"
    },
    "papermill": {
     "duration": 0.034188,
     "end_time": "2024-01-22T10:06:18.211373",
     "exception": false,
     "start_time": "2024-01-22T10:06:18.177185",
     "status": "completed"
    },
    "tags": []
   },
   "outputs": [],
   "source": [
    "class PositionalEncoding(nn.Module):\n",
    "    def __init__(self, dmodel, max_seq_length = 5000, pdropout = 0.1,):\n",
    "        \"\"\"\n",
    "        dmodel(int): model dimensions\n",
    "        max_seq_length(int): Maximum input sequence length\n",
    "        pdropout(float): Dropout probability\n",
    "        \"\"\"\n",
    "        super().__init__()\n",
    "        self.dropout = nn.Dropout(p = pdropout)\n",
    "        \n",
    "        # Calculate frequencies\n",
    "        position_ids = torch.arange(0, max_seq_length).unsqueeze(1)\n",
    "        # -ve sign is added because the exponents are inverted when you multiply position and frequencies\n",
    "        frequencies = torch.pow(10000, -torch.arange(0, dmodel, 2, dtype = torch.float)/ dmodel) \n",
    "        \n",
    "        # Create positional encoding table\n",
    "        positional_encoding_table = torch.zeros(max_seq_length, dmodel)\n",
    "        # Fill the table with even entries with sin and odd entries with cosine\n",
    "        positional_encoding_table[:, 0::2] = torch.sin(position_ids * frequencies)\n",
    "        positional_encoding_table[:, 1::2] = torch.cos(position_ids * frequencies)\n",
    "    \n",
    "        # Registering the position enconding in state_dict but the its not included \n",
    "        # in named parameter as it is not trainable\n",
    "        self.register_buffer(\"positional_encoding_table\", positional_encoding_table)\n",
    "    \n",
    "    def forward(self, embeddings_batch):\n",
    "        \"\"\"\n",
    "        embeddings_batch shape = (batch size, seq_length, dmodel)\n",
    "        positional_encoding_table shape = (max_seq_length, dmodel)\n",
    "        \"\"\"\n",
    "        assert embeddings_batch.ndim == 3, \\\n",
    "        f\"Embeddings batch should have dimension of 3 but got {embeddings_batch.ndim}\"\n",
    "        assert embeddings_batch.size()[-1] == self.positional_encoding_table.size()[-1], \\\n",
    "        f\"Embedding batch shape and positional_encoding_table shape should match, expected Embedding batch shape : {embeddings_batch.shape[-1]} while positional_encoding_table shape : {positional_encoding_table[-1]}\"\n",
    "        \n",
    "        # Get encodings for the given input sequence length\n",
    "        pos_encodings = self.positional_encoding_table[:embeddings_batch.shape[1]] # Choose only seq_length out of max_seq_length\n",
    "        \n",
    "        # Final output \n",
    "        out = embeddings_batch + pos_encodings\n",
    "        out = self.dropout(out)\n",
    "        return out"
   ]
  },
  {
   "cell_type": "code",
   "execution_count": 25,
   "id": "434d5c0d",
   "metadata": {
    "execution": {
     "iopub.execute_input": "2024-01-22T10:06:18.257010Z",
     "iopub.status.busy": "2024-01-22T10:06:18.256273Z",
     "iopub.status.idle": "2024-01-22T10:06:18.262670Z",
     "shell.execute_reply": "2024-01-22T10:06:18.261851Z"
    },
    "papermill": {
     "duration": 0.030973,
     "end_time": "2024-01-22T10:06:18.264473",
     "exception": false,
     "start_time": "2024-01-22T10:06:18.233500",
     "status": "completed"
    },
    "tags": []
   },
   "outputs": [],
   "source": [
    "class PositionwiseFeedForward(nn.Module):\n",
    "    def __init__(self, dmodel, dff, pdropout = 0.1):\n",
    "        super().__init__()\n",
    "        \n",
    "        self.dropout = nn.Dropout(p = pdropout)\n",
    "        \n",
    "        self.W1 = nn.Linear(dmodel, dff)      # Intermediate layer\n",
    "        self.W2 = nn.Linear(dff, dmodel)    # Output layer\n",
    "        \n",
    "        self.relu = nn.ReLU()\n",
    "        \n",
    "    def forward(self, x):\n",
    "        \"\"\"\n",
    "        Perform Feedforward calculation\n",
    "        \n",
    "        x shape = (B - batch size, S/T - max token sequence length, D- model dimension).\n",
    "        \"\"\"\n",
    "        out = self.W2(self.relu(self.dropout(self.W1(x))))\n",
    "        return out"
   ]
  },
  {
   "cell_type": "code",
   "execution_count": 26,
   "id": "e749eafb",
   "metadata": {
    "execution": {
     "iopub.execute_input": "2024-01-22T10:06:18.309264Z",
     "iopub.status.busy": "2024-01-22T10:06:18.308988Z",
     "iopub.status.idle": "2024-01-22T10:06:18.322845Z",
     "shell.execute_reply": "2024-01-22T10:06:18.321945Z"
    },
    "papermill": {
     "duration": 0.038542,
     "end_time": "2024-01-22T10:06:18.324731",
     "exception": false,
     "start_time": "2024-01-22T10:06:18.286189",
     "status": "completed"
    },
    "tags": []
   },
   "outputs": [],
   "source": [
    "class MultiHeadAttention(nn.Module):\n",
    "    \"\"\"\n",
    "    We can refer to the following blog to understand in depth about the transformer and MHA\n",
    "    https://medium.com/@hunter-j-phillips/multi-head-attention-7924371d477a\n",
    "    \n",
    "    Here we are clubbing all the linear layers together and duplicating the inputs and \n",
    "    then performing matrix multiplications\n",
    "    \"\"\"\n",
    "    def __init__(self, dk, dv, h, pdropout=0.1):\n",
    "        \"\"\"\n",
    "        Input Args:\n",
    "        \n",
    "        dk(int): Key dimensions used for generating Key weight matrix\n",
    "        dv(int): Val dimensions used for generating val weight matrix\n",
    "        h(int) : Number of heads in MHA\n",
    "        \"\"\"\n",
    "        super().__init__()\n",
    "        assert dk == dv\n",
    "        self.dk = dk\n",
    "        self.dv = dv\n",
    "        self.h = h\n",
    "        self.dmodel = self.dk * self.h  # model dimension\n",
    "        \n",
    "        # Add the params in modulelist as the params in the conv list needs to be tracked\n",
    "        # wq, wk, wv -> multiple linear weights for the number of heads\n",
    "        self.WQ = nn.Linear(self.dmodel, self.dmodel) # shape -> (dmodel, dmodel)\n",
    "        self.WK = nn.Linear(self.dmodel, self.dmodel) # shape -> (dmodel, dmodel)\n",
    "        self.WV = nn.Linear(self.dmodel, self.dmodel) # shape -> (dmodel, dmodel)\n",
    "        # Output Weights\n",
    "        self.WO = nn.Linear(self.h*self.dv, self.dmodel)  # shape -> (dmodel, dmodel)\n",
    "        self.softmax = nn.Softmax(dim=-1)\n",
    "        self.dropout = nn.Dropout(p = pdropout)\n",
    "        \n",
    "    def forward(self, query, key, val, mask=None):\n",
    "        \"\"\"\n",
    "        Forward pass for MHA\n",
    "        \n",
    "        X has a size of (batch_size, seq_length, d_model)\n",
    "        Wq, Wk, and Wv have a size of (d_model, d_model)\n",
    "        \n",
    "        Perform Scaled Dot Product Attention on multi head attention. \n",
    "        \n",
    "        Notation: B - batch size, S/T - max src/trg token-sequence length\n",
    "        query shape = (B, S, dmodel)\n",
    "        key shape = (B, S, dmodel)\n",
    "        val shape = (B, S, dmodel)\n",
    "        \"\"\"\n",
    "        # Weight the queries\n",
    "        Q = self.WQ(query)     # shape -> (B, S, dmodel)\n",
    "        K = self.WK(key)       # shape -> (B, S, dmodel)\n",
    "        V = self.WV(val)       # shape -> (B, S, dmodel)\n",
    "        \n",
    "        # Separate last dimension to number of head and dk\n",
    "        batch_size = Q.size(0)   \n",
    "        Q = Q.view(batch_size, -1, self.h, self.dk)   # shape -> (B, S, h, dk)\n",
    "        K = K.view(batch_size, -1, self.h, self.dk)   # shape -> (B, S, h, dk)\n",
    "        V = V.view(batch_size, -1, self.h, self.dk)   # shape -> (B, S, h, dk)\n",
    "        \n",
    "        # each sequence is split across n_heads, with each head receiving seq_length tokens \n",
    "        # with d_key elements in each token instead of d_model.\n",
    "        Q = Q.permute(0, 2, 1, 3) # shape -> (B, h, S, dk)\n",
    "        K = K.permute(0, 2, 1, 3) # shape -> (B, h, S, dk)\n",
    "        V = V.permute(0, 2, 1, 3) # shape -> (B, h, S, dk)\n",
    "        \n",
    "        # dot product of Q and K\n",
    "        scaled_dot_product = torch.matmul(Q, K.permute(0, 1, 3, 2)) / math.sqrt(self.dk)\n",
    "        \n",
    "        # fill those positions of product as (-1e10) where mask positions are 0\n",
    "        if mask is not None:\n",
    "            scaled_dot_product = scaled_dot_product.masked_fill(mask == 0, -1e10)\n",
    "            \n",
    "        attn_probs = self.softmax(scaled_dot_product)\n",
    "        \n",
    "        # Create head \n",
    "        head = torch.matmul(self.dropout(attn_probs), V)  # shape -> (B, h, S, S) * (B, h, S, dk) = (B, h, S, dk)\n",
    "        # Prepare the head to pass it through output linear layer\n",
    "        head = head.permute(0, 2, 1, 3).contiguous()  # shape -> (B, S, h, dk)\n",
    "        # Concatenate the head together\n",
    "        head = head.view(batch_size, -1, self.h* self.dk)  # shape -> (B, S, (h*dk = dmodel))\n",
    "        # Pass through output layer\n",
    "        token_representation = self.WO(head)\n",
    "        return token_representation, attn_probs\n",
    "    "
   ]
  },
  {
   "cell_type": "markdown",
   "id": "daa07721",
   "metadata": {
    "papermill": {
     "duration": 0.0217,
     "end_time": "2024-01-22T10:06:18.368345",
     "exception": false,
     "start_time": "2024-01-22T10:06:18.346645",
     "status": "completed"
    },
    "tags": []
   },
   "source": [
    "## Create Encoder for the Network"
   ]
  },
  {
   "cell_type": "code",
   "execution_count": 27,
   "id": "91b806af",
   "metadata": {
    "execution": {
     "iopub.execute_input": "2024-01-22T10:06:18.413891Z",
     "iopub.status.busy": "2024-01-22T10:06:18.413208Z",
     "iopub.status.idle": "2024-01-22T10:06:18.421701Z",
     "shell.execute_reply": "2024-01-22T10:06:18.420860Z"
    },
    "papermill": {
     "duration": 0.033228,
     "end_time": "2024-01-22T10:06:18.423665",
     "exception": false,
     "start_time": "2024-01-22T10:06:18.390437",
     "status": "completed"
    },
    "tags": []
   },
   "outputs": [],
   "source": [
    "class EncoderLayer(nn.Module):\n",
    "    \"\"\"\n",
    "    This building block in the encoder layer consists of the following\n",
    "    1. MultiHead Attention\n",
    "    2. Sublayer Logic\n",
    "    3. Positional FeedForward Network\n",
    "    \"\"\"\n",
    "    def __init__(self, dk, dv, h, dim_multiplier = 4, pdropout=0.1):\n",
    "        super().__init__()\n",
    "        self.attention = MultiHeadAttention(dk, dv, h, pdropout)\n",
    "        # Reference page 5 chapter 3.2.2 Multi-head attention\n",
    "        dmodel = dk*h\n",
    "        # Reference page 5 chapter 3.3 positionwise FeedForward\n",
    "        dff = dmodel * dim_multiplier\n",
    "        self.attn_norm = nn.LayerNorm(dmodel)\n",
    "        self.ff = PositionwiseFeedForward(dmodel, dff, pdropout=pdropout)\n",
    "        self.ff_norm = nn.LayerNorm(dmodel)\n",
    "        \n",
    "        self.dropout = nn.Dropout(p = pdropout)\n",
    "        \n",
    "    def forward(self, src_inputs, src_mask=None):\n",
    "        \"\"\"\n",
    "        Forward pass as per page 3 chapter 3.1\n",
    "        \"\"\"\n",
    "        mha_out, attention_wts = self.attention(\n",
    "                                query = src_inputs, \n",
    "                                key = src_inputs, \n",
    "                                val = src_inputs, \n",
    "                                mask = src_mask)\n",
    "        \n",
    "        # Residual connection between input and sublayer output, details: Page 7, Chapter 5.4 \"Regularization\",\n",
    "        # Actual paper design is the following\n",
    "        intermediate_out = self.attn_norm(src_inputs + self.dropout(mha_out))\n",
    "        \n",
    "        pff_out = self.ff(intermediate_out)\n",
    "        \n",
    "        # Perform Add Norm again\n",
    "        out = self.ff_norm(intermediate_out + self.dropout(pff_out))\n",
    "        return out, attention_wts"
   ]
  },
  {
   "cell_type": "code",
   "execution_count": 28,
   "id": "c48956ad",
   "metadata": {
    "execution": {
     "iopub.execute_input": "2024-01-22T10:06:18.468603Z",
     "iopub.status.busy": "2024-01-22T10:06:18.468123Z",
     "iopub.status.idle": "2024-01-22T10:06:18.474777Z",
     "shell.execute_reply": "2024-01-22T10:06:18.473961Z"
    },
    "papermill": {
     "duration": 0.031226,
     "end_time": "2024-01-22T10:06:18.476668",
     "exception": false,
     "start_time": "2024-01-22T10:06:18.445442",
     "status": "completed"
    },
    "tags": []
   },
   "outputs": [],
   "source": [
    "class Encoder(nn.Module):\n",
    "    def __init__(self, dk, dv, h, num_encoders, dim_multiplier = 4, pdropout=0.1):\n",
    "        super().__init__()\n",
    "        self.encoder_layers = nn.ModuleList([\n",
    "            EncoderLayer(dk, \n",
    "                         dv, \n",
    "                         h, \n",
    "                         dim_multiplier, \n",
    "                         pdropout) for _ in range(num_encoders)\n",
    "        ])\n",
    "        \n",
    "    def forward(self, src_inputs, src_mask = None):\n",
    "        \"\"\"\n",
    "        Input from the Embedding layer\n",
    "        src_inputs = (B - batch size, S/T - max token sequence length, D- model dimension)\n",
    "        \"\"\"\n",
    "        src_representation = src_inputs\n",
    "        \n",
    "        # Forward pass through encoder stack\n",
    "        for enc in self.encoder_layers:\n",
    "            src_representation, attn_probs = enc(src_representation, src_mask)\n",
    "            \n",
    "        self.attn_probs = attn_probs\n",
    "        return src_representation"
   ]
  },
  {
   "cell_type": "markdown",
   "id": "df4435c7",
   "metadata": {
    "papermill": {
     "duration": 0.025608,
     "end_time": "2024-01-22T10:06:18.525176",
     "exception": false,
     "start_time": "2024-01-22T10:06:18.499568",
     "status": "completed"
    },
    "tags": []
   },
   "source": [
    "## Create Decoder Layer"
   ]
  },
  {
   "cell_type": "code",
   "execution_count": 29,
   "id": "b03ca034",
   "metadata": {
    "execution": {
     "iopub.execute_input": "2024-01-22T10:06:18.582081Z",
     "iopub.status.busy": "2024-01-22T10:06:18.581721Z",
     "iopub.status.idle": "2024-01-22T10:06:18.593730Z",
     "shell.execute_reply": "2024-01-22T10:06:18.592792Z"
    },
    "papermill": {
     "duration": 0.044855,
     "end_time": "2024-01-22T10:06:18.595994",
     "exception": false,
     "start_time": "2024-01-22T10:06:18.551139",
     "status": "completed"
    },
    "tags": []
   },
   "outputs": [],
   "source": [
    "class DecoderLayer(nn.Module):\n",
    "    def __init__(\n",
    "                self, \n",
    "                dk, \n",
    "                dv, \n",
    "                h,\n",
    "                dim_multiplier = 4, \n",
    "                pdropout = 0.1):\n",
    "        super().__init__()\n",
    "        \n",
    "        # Reference page 5 chapter 3.2.2 Multi-head attention\n",
    "        dmodel = dk*h\n",
    "        # Reference page 5 chapter 3.3 positionwise FeedForward\n",
    "        dff = dmodel * dim_multiplier\n",
    "        \n",
    "        # Masked Multi Head Attention\n",
    "        self.masked_attention = MultiHeadAttention(dk, dv, h, pdropout)\n",
    "        self.masked_attn_norm = nn.LayerNorm(dmodel)\n",
    "        \n",
    "        # Multi head attention\n",
    "        self.attention = MultiHeadAttention(dk, dv, h, pdropout)\n",
    "        self.attn_norm = nn.LayerNorm(dmodel)\n",
    "        \n",
    "        # Add position FeedForward Network\n",
    "        self.ff = PositionwiseFeedForward(dmodel, dff, pdropout=pdropout)\n",
    "        self.ff_norm = nn.LayerNorm(dmodel)\n",
    "        \n",
    "        self.dropout = nn.Dropout(p = pdropout)\n",
    "        \n",
    "    def forward(self, trg: Tensor, src: Tensor, trg_mask: Tensor, src_mask: Tensor):\n",
    "        \"\"\"\n",
    "        Args:\n",
    "            trg:          embedded sequences                (batch_size, trg_seq_length, d_model)\n",
    "            src:          embedded sequences                (batch_size, src_seq_length, d_model)\n",
    "            trg_mask:     mask for the sequences            (batch_size, 1, trg_seq_length, trg_seq_length)\n",
    "            src_mask:     mask for the sequences            (batch_size, 1, 1, src_seq_length)\n",
    "\n",
    "        Returns:\n",
    "            trg:          sequences after self-attention    (batch_size, trg_seq_length, d_model)\n",
    "            attn_probs:   self-attention softmax scores     (batch_size, n_heads, trg_seq_length, src_seq_length)\n",
    "        \"\"\"\n",
    "        _trg, attn_probs = self.masked_attention(\n",
    "                                query = trg, \n",
    "                                key = trg, \n",
    "                                val = trg, \n",
    "                                mask = trg_mask)\n",
    "        \n",
    "        # Residual connection between input and sublayer output, details: Page 7, Chapter 5.4 \"Regularization\",\n",
    "        # Actual paper design is the following\n",
    "        trg = self.masked_attn_norm(trg + self.dropout(_trg))\n",
    "        \n",
    "        # Inputs to the decoder attention is given as follows\n",
    "        # query = previous decoder layer\n",
    "        # key and val = output of encoder\n",
    "        # mask = src_mask\n",
    "        # Reference : page 5 chapter 3.2.3 point 1\n",
    "        _trg, attn_probs = self.attention(\n",
    "                                query = trg, \n",
    "                                key = src, \n",
    "                                val = src, \n",
    "                                mask = src_mask)\n",
    "        trg = self.attn_norm(trg + self.dropout(_trg))\n",
    "        \n",
    "        # position-wise feed-forward network\n",
    "        _trg = self.ff(trg)\n",
    "        # Perform Add Norm again\n",
    "        trg = self.ff_norm(trg + self.dropout(_trg))\n",
    "        return trg, attn_probs"
   ]
  },
  {
   "cell_type": "code",
   "execution_count": 30,
   "id": "8e5f5c15",
   "metadata": {
    "execution": {
     "iopub.execute_input": "2024-01-22T10:06:18.648783Z",
     "iopub.status.busy": "2024-01-22T10:06:18.648030Z",
     "iopub.status.idle": "2024-01-22T10:06:18.656563Z",
     "shell.execute_reply": "2024-01-22T10:06:18.655518Z"
    },
    "papermill": {
     "duration": 0.037429,
     "end_time": "2024-01-22T10:06:18.658692",
     "exception": false,
     "start_time": "2024-01-22T10:06:18.621263",
     "status": "completed"
    },
    "tags": []
   },
   "outputs": [],
   "source": [
    "class Decoder(nn.Module):\n",
    "    def __init__(\n",
    "                self, \n",
    "                dk, \n",
    "                dv, \n",
    "                h, \n",
    "                num_decoders, \n",
    "                dim_multiplier = 4, \n",
    "                pdropout=0.1):\n",
    "        super().__init__()\n",
    "        self.decoder_layers = nn.ModuleList([\n",
    "            DecoderLayer(dk, \n",
    "                         dv, \n",
    "                         h, \n",
    "                         dim_multiplier, \n",
    "                         pdropout) for _ in range(num_decoders)\n",
    "        ])\n",
    "        \n",
    "    def forward(self, target_inputs, src_inputs, target_mask, src_mask):\n",
    "        \"\"\"\n",
    "        Input from the Embedding layer\n",
    "        target_inputs = embedded sequences    (batch_size, trg_seq_length, d_model)\n",
    "        src_inputs = embedded sequences       (batch_size, src_seq_length, d_model)\n",
    "        target_mask = mask for the sequences  (batch_size, 1, trg_seq_length, trg_seq_length)\n",
    "        src_mask = mask for the sequences     (batch_size, 1, 1, src_seq_length)\n",
    "        \"\"\"\n",
    "        target_representation = target_inputs\n",
    "        \n",
    "        # Forward pass through decoder stack\n",
    "        for layer in self.decoder_layers:\n",
    "            target_representation, attn_probs = layer(\n",
    "                                    target_representation,\n",
    "                                    src_inputs, \n",
    "                                    target_mask,\n",
    "                                    src_mask)\n",
    "        self.attn_probs = attn_probs\n",
    "        return target_representation"
   ]
  },
  {
   "cell_type": "markdown",
   "id": "2cd20367",
   "metadata": {
    "papermill": {
     "duration": 0.023698,
     "end_time": "2024-01-22T10:06:18.708308",
     "exception": false,
     "start_time": "2024-01-22T10:06:18.684610",
     "status": "completed"
    },
    "tags": []
   },
   "source": [
    "## Adding all up to construct the complete model for language translation"
   ]
  },
  {
   "cell_type": "code",
   "execution_count": 31,
   "id": "79cfa2f9",
   "metadata": {
    "execution": {
     "iopub.execute_input": "2024-01-22T10:06:18.756899Z",
     "iopub.status.busy": "2024-01-22T10:06:18.756567Z",
     "iopub.status.idle": "2024-01-22T10:06:18.773057Z",
     "shell.execute_reply": "2024-01-22T10:06:18.772165Z"
    },
    "papermill": {
     "duration": 0.043354,
     "end_time": "2024-01-22T10:06:18.774933",
     "exception": false,
     "start_time": "2024-01-22T10:06:18.731579",
     "status": "completed"
    },
    "tags": []
   },
   "outputs": [],
   "source": [
    "class Transformer(nn.Module):\n",
    "    def __init__(self,\n",
    "                dk, \n",
    "                dv, \n",
    "                h,\n",
    "                src_vocab_size,\n",
    "                target_vocab_size,\n",
    "                num_encoders,\n",
    "                num_decoders,\n",
    "                src_pad_idx,\n",
    "                target_pad_idx,\n",
    "                dim_multiplier = 4, \n",
    "                pdropout=0.1,\n",
    "                device = \"cpu\"\n",
    "                ):\n",
    "        super().__init__()\n",
    "        \n",
    "        # Reference page 5 chapter 3.2.2 Multi-head attention\n",
    "        dmodel = dk*h\n",
    "        # Modules required to build Encoder\n",
    "        self.src_embeddings = Embedding(src_vocab_size, dmodel)\n",
    "        self.src_positional_encoding = PositionalEncoding(\n",
    "                                        dmodel,\n",
    "                                        max_seq_length = src_vocab_size,\n",
    "                                        pdropout = pdropout\n",
    "                                        )\n",
    "        self.encoder = Encoder(\n",
    "                                dk, \n",
    "                                dv, \n",
    "                                h, \n",
    "                                num_encoders, \n",
    "                                dim_multiplier=dim_multiplier, \n",
    "                                pdropout=pdropout)\n",
    "        \n",
    "        # Modules required to build Decoder\n",
    "        self.target_embeddings = Embedding(target_vocab_size, dmodel)\n",
    "        self.target_positional_encoding = PositionalEncoding(\n",
    "                                        dmodel,\n",
    "                                        max_seq_length = target_vocab_size,\n",
    "                                        pdropout = pdropout\n",
    "                                        )\n",
    "        self.decoder = Decoder(\n",
    "                                dk, \n",
    "                                dv, \n",
    "                                h, \n",
    "                                num_decoders,  \n",
    "                                dim_multiplier=4, \n",
    "                                pdropout=0.1)\n",
    "        \n",
    "        # Final output \n",
    "        self.linear = nn.Linear(dmodel, target_vocab_size)\n",
    "#         self.softmax = nn.Softmax(dim=-1)\n",
    "        self.device = device\n",
    "        self.src_pad_idx = src_pad_idx\n",
    "        self.target_pad_idx = target_pad_idx\n",
    "        self.init_params()  \n",
    "        \n",
    "    # This part wasn't mentioned in the paper, but it's super important!\n",
    "    def init_params(self):\n",
    "        \"\"\"\n",
    "        xavier has tremendous impact! I didn't expect\n",
    "        that the model's perf, with normalization layers, \n",
    "        is so dependent on the choice of weight initialization.\n",
    "        \"\"\"\n",
    "        for name, p in self.named_parameters():\n",
    "            if p.dim() > 1:\n",
    "                nn.init.xavier_uniform_(p)\n",
    "                \n",
    "    def make_src_mask(self, src):\n",
    "        \"\"\"\n",
    "        Args:\n",
    "            src: raw sequences with padding        (batch_size, seq_length) \n",
    "            src_pad_idx(int): index where the token need not be attended\n",
    "\n",
    "        Returns:\n",
    "            src_mask: mask for each sequence            (batch_size, 1, 1, seq_length)\n",
    "        \"\"\"\n",
    "        batch_size = src.shape[0]\n",
    "        # assign 1 to tokens that need attended to and 0 to padding tokens, \n",
    "        # then add 2 dimensions\n",
    "        src_mask = (src != self.src_pad_idx).view(batch_size, 1, 1, -1)\n",
    "        return src_mask\n",
    "    \n",
    "    def make_target_mask(self, target):\n",
    "        \"\"\"\n",
    "        Args:\n",
    "            target:  raw sequences with padding        (batch_size, seq_length)     \n",
    "            target_pad_idx(int): index where the token need not be attended\n",
    "\n",
    "        Returns:\n",
    "            target_mask: mask for each sequence   (batch_size, 1, seq_length, seq_length)\n",
    "        \"\"\"\n",
    "\n",
    "        seq_length = target.shape[1]\n",
    "        batch_size = target.shape[0]\n",
    "        \n",
    "        # assign True to tokens that need attended to and \n",
    "        # False to padding tokens, then add 2 dimensions\n",
    "        target_mask = (target != self.target_pad_idx).view(batch_size, 1, 1, -1) # (batch_size, 1, 1, seq_length)\n",
    "\n",
    "        # generate subsequent mask\n",
    "        trg_sub_mask = torch.tril(torch.ones((seq_length, seq_length), device=self.device)).bool() # (batch_size, 1, seq_length, seq_length)\n",
    "\n",
    "        # bitwise \"and\" operator | 0 & 0 = 0, 1 & 1 = 1, 1 & 0 = 0\n",
    "        target_mask = target_mask & trg_sub_mask\n",
    "\n",
    "        return target_mask\n",
    "    \n",
    "    def forward(\n",
    "        self, \n",
    "        src_token_ids_batch, \n",
    "        target_token_ids_batch):\n",
    "        \n",
    "        # create source and target masks     \n",
    "        src_mask = self.make_src_mask(\n",
    "                        src_token_ids_batch) # (batch_size, 1, 1, src_seq_length)\n",
    "        target_mask = self.make_target_mask(\n",
    "                        target_token_ids_batch) # (batch_size, 1, trg_seq_length, trg_seq_length)\n",
    "\n",
    "        # Create embeddings\n",
    "        src_representations = self.src_embeddings(src_token_ids_batch)\n",
    "        src_representations = self.src_positional_encoding(src_representations)\n",
    "        \n",
    "        target_representations = self.target_embeddings(target_token_ids_batch)\n",
    "        target_representations = self.target_positional_encoding(target_representations)\n",
    "\n",
    "        # Encode \n",
    "        encoded_src = self.encoder(src_representations, src_mask)\n",
    "        \n",
    "        # Decode\n",
    "        decoded_output = self.decoder(\n",
    "                                target_representations, \n",
    "                                encoded_src, \n",
    "                                target_mask, \n",
    "                                src_mask)\n",
    "        \n",
    "        # Post processing\n",
    "        out = self.linear(decoded_output)\n",
    "        # Don't use softmax as we are not comparing against softmaxed output while \n",
    "        # computing loss. We are comparing against linear outputs\n",
    "#         # Output \n",
    "#         out = self.softmax(out)\n",
    "        return out"
   ]
  },
  {
   "cell_type": "markdown",
   "id": "df646870",
   "metadata": {
    "papermill": {
     "duration": 0.022285,
     "end_time": "2024-01-22T10:06:18.819378",
     "exception": false,
     "start_time": "2024-01-22T10:06:18.797093",
     "status": "completed"
    },
    "tags": []
   },
   "source": [
    "## Create Model Instance"
   ]
  },
  {
   "cell_type": "code",
   "execution_count": 32,
   "id": "97d5b1d7",
   "metadata": {
    "execution": {
     "iopub.execute_input": "2024-01-22T10:06:18.865319Z",
     "iopub.status.busy": "2024-01-22T10:06:18.864623Z",
     "iopub.status.idle": "2024-01-22T10:06:18.882304Z",
     "shell.execute_reply": "2024-01-22T10:06:18.881503Z"
    },
    "papermill": {
     "duration": 0.042859,
     "end_time": "2024-01-22T10:06:18.884220",
     "exception": false,
     "start_time": "2024-01-22T10:06:18.841361",
     "status": "completed"
    },
    "tags": []
   },
   "outputs": [
    {
     "data": {
      "text/plain": [
       "(2, 2)"
      ]
     },
     "execution_count": 32,
     "metadata": {},
     "output_type": "execute_result"
    }
   ],
   "source": [
    "src_pad_idx = vocab_src.get_stoi()[\"<pad>\"]\n",
    "target_pad_idx = vocab_trg.get_stoi()[\"<pad>\"]\n",
    "src_pad_idx, target_pad_idx"
   ]
  },
  {
   "cell_type": "code",
   "execution_count": 33,
   "id": "1d406c69",
   "metadata": {
    "execution": {
     "iopub.execute_input": "2024-01-22T10:06:18.929483Z",
     "iopub.status.busy": "2024-01-22T10:06:18.929189Z",
     "iopub.status.idle": "2024-01-22T10:06:18.934693Z",
     "shell.execute_reply": "2024-01-22T10:06:18.933915Z"
    },
    "papermill": {
     "duration": 0.030206,
     "end_time": "2024-01-22T10:06:18.936727",
     "exception": false,
     "start_time": "2024-01-22T10:06:18.906521",
     "status": "completed"
    },
    "tags": []
   },
   "outputs": [
    {
     "data": {
      "text/plain": [
       "(7983, 5979)"
      ]
     },
     "execution_count": 33,
     "metadata": {},
     "output_type": "execute_result"
    }
   ],
   "source": [
    "len(vocab_src), len(vocab_trg)"
   ]
  },
  {
   "cell_type": "code",
   "execution_count": 34,
   "id": "00c323f6",
   "metadata": {
    "execution": {
     "iopub.execute_input": "2024-01-22T10:06:18.983552Z",
     "iopub.status.busy": "2024-01-22T10:06:18.983273Z",
     "iopub.status.idle": "2024-01-22T10:06:19.611645Z",
     "shell.execute_reply": "2024-01-22T10:06:19.610626Z"
    },
    "papermill": {
     "duration": 0.653324,
     "end_time": "2024-01-22T10:06:19.613895",
     "exception": false,
     "start_time": "2024-01-22T10:06:18.960571",
     "status": "completed"
    },
    "tags": []
   },
   "outputs": [
    {
     "name": "stdout",
     "output_type": "stream",
     "text": [
      "Transformer(\n",
      "  (src_embeddings): Embedding(\n",
      "    (embedding_lookup): Embedding(7983, 256)\n",
      "  )\n",
      "  (src_positional_encoding): PositionalEncoding(\n",
      "    (dropout): Dropout(p=0.1, inplace=False)\n",
      "  )\n",
      "  (encoder): Encoder(\n",
      "    (encoder_layers): ModuleList(\n",
      "      (0-2): 3 x EncoderLayer(\n",
      "        (attention): MultiHeadAttention(\n",
      "          (WQ): Linear(in_features=256, out_features=256, bias=True)\n",
      "          (WK): Linear(in_features=256, out_features=256, bias=True)\n",
      "          (WV): Linear(in_features=256, out_features=256, bias=True)\n",
      "          (WO): Linear(in_features=256, out_features=256, bias=True)\n",
      "          (softmax): Softmax(dim=-1)\n",
      "          (dropout): Dropout(p=0.1, inplace=False)\n",
      "        )\n",
      "        (attn_norm): LayerNorm((256,), eps=1e-05, elementwise_affine=True)\n",
      "        (ff): PositionwiseFeedForward(\n",
      "          (dropout): Dropout(p=0.1, inplace=False)\n",
      "          (W1): Linear(in_features=256, out_features=1024, bias=True)\n",
      "          (W2): Linear(in_features=1024, out_features=256, bias=True)\n",
      "          (relu): ReLU()\n",
      "        )\n",
      "        (ff_norm): LayerNorm((256,), eps=1e-05, elementwise_affine=True)\n",
      "        (dropout): Dropout(p=0.1, inplace=False)\n",
      "      )\n",
      "    )\n",
      "  )\n",
      "  (target_embeddings): Embedding(\n",
      "    (embedding_lookup): Embedding(5979, 256)\n",
      "  )\n",
      "  (target_positional_encoding): PositionalEncoding(\n",
      "    (dropout): Dropout(p=0.1, inplace=False)\n",
      "  )\n",
      "  (decoder): Decoder(\n",
      "    (decoder_layers): ModuleList(\n",
      "      (0-2): 3 x DecoderLayer(\n",
      "        (masked_attention): MultiHeadAttention(\n",
      "          (WQ): Linear(in_features=256, out_features=256, bias=True)\n",
      "          (WK): Linear(in_features=256, out_features=256, bias=True)\n",
      "          (WV): Linear(in_features=256, out_features=256, bias=True)\n",
      "          (WO): Linear(in_features=256, out_features=256, bias=True)\n",
      "          (softmax): Softmax(dim=-1)\n",
      "          (dropout): Dropout(p=0.1, inplace=False)\n",
      "        )\n",
      "        (masked_attn_norm): LayerNorm((256,), eps=1e-05, elementwise_affine=True)\n",
      "        (attention): MultiHeadAttention(\n",
      "          (WQ): Linear(in_features=256, out_features=256, bias=True)\n",
      "          (WK): Linear(in_features=256, out_features=256, bias=True)\n",
      "          (WV): Linear(in_features=256, out_features=256, bias=True)\n",
      "          (WO): Linear(in_features=256, out_features=256, bias=True)\n",
      "          (softmax): Softmax(dim=-1)\n",
      "          (dropout): Dropout(p=0.1, inplace=False)\n",
      "        )\n",
      "        (attn_norm): LayerNorm((256,), eps=1e-05, elementwise_affine=True)\n",
      "        (ff): PositionwiseFeedForward(\n",
      "          (dropout): Dropout(p=0.1, inplace=False)\n",
      "          (W1): Linear(in_features=256, out_features=1024, bias=True)\n",
      "          (W2): Linear(in_features=1024, out_features=256, bias=True)\n",
      "          (relu): ReLU()\n",
      "        )\n",
      "        (ff_norm): LayerNorm((256,), eps=1e-05, elementwise_affine=True)\n",
      "        (dropout): Dropout(p=0.1, inplace=False)\n",
      "      )\n",
      "    )\n",
      "  )\n",
      "  (linear): Linear(in_features=256, out_features=5979, bias=True)\n",
      ")\n"
     ]
    }
   ],
   "source": [
    "dk = 32\n",
    "dv = 32\n",
    "h = 8\n",
    "src_vocab_size = len(vocab_src)\n",
    "target_vocab_size = len(vocab_trg)\n",
    "src_pad_idx = vocab_src.get_stoi()[\"<pad>\"]\n",
    "target_pad_idx = vocab_trg.get_stoi()[\"<pad>\"]\n",
    "num_encoders = 3\n",
    "num_decoders = 3\n",
    "dim_multiplier = 4\n",
    "pdropout=0.1\n",
    "device = torch.device('cuda' if torch.cuda.is_available() else 'cpu')\n",
    "model = Transformer(\n",
    "                dk, \n",
    "                dv, \n",
    "                h,\n",
    "                src_vocab_size,\n",
    "                target_vocab_size,\n",
    "                num_encoders,\n",
    "                num_decoders,\n",
    "                dim_multiplier, \n",
    "                pdropout,\n",
    "                device = device)\n",
    "model.cuda()\n",
    "print(model)\n",
    "\n"
   ]
  },
  {
   "cell_type": "code",
   "execution_count": 35,
   "id": "7cd79b79",
   "metadata": {
    "execution": {
     "iopub.execute_input": "2024-01-22T10:06:19.659957Z",
     "iopub.status.busy": "2024-01-22T10:06:19.659621Z",
     "iopub.status.idle": "2024-01-22T10:06:19.665862Z",
     "shell.execute_reply": "2024-01-22T10:06:19.665039Z"
    },
    "papermill": {
     "duration": 0.031448,
     "end_time": "2024-01-22T10:06:19.667862",
     "exception": false,
     "start_time": "2024-01-22T10:06:19.636414",
     "status": "completed"
    },
    "tags": []
   },
   "outputs": [
    {
     "name": "stdout",
     "output_type": "stream",
     "text": [
      "The model has 10,640,475 trainable parameters\n"
     ]
    }
   ],
   "source": [
    "def count_parameters(model):\n",
    "    return sum(p.numel() for p in model.parameters() if p.requires_grad)\n",
    "\n",
    "print(f'The model has {count_parameters(model):,} trainable parameters')"
   ]
  },
  {
   "cell_type": "markdown",
   "id": "b026d7ed",
   "metadata": {
    "papermill": {
     "duration": 0.02217,
     "end_time": "2024-01-22T10:06:19.712135",
     "exception": false,
     "start_time": "2024-01-22T10:06:19.689965",
     "status": "completed"
    },
    "tags": []
   },
   "source": [
    "# Training part"
   ]
  },
  {
   "cell_type": "code",
   "execution_count": 36,
   "id": "17b6332a",
   "metadata": {
    "execution": {
     "iopub.execute_input": "2024-01-22T10:06:19.757525Z",
     "iopub.status.busy": "2024-01-22T10:06:19.757237Z",
     "iopub.status.idle": "2024-01-22T10:06:19.762849Z",
     "shell.execute_reply": "2024-01-22T10:06:19.762013Z"
    },
    "papermill": {
     "duration": 0.030487,
     "end_time": "2024-01-22T10:06:19.764702",
     "exception": false,
     "start_time": "2024-01-22T10:06:19.734215",
     "status": "completed"
    },
    "tags": []
   },
   "outputs": [],
   "source": [
    "LEARNING_RATE = 0.0005\n",
    "\n",
    "optimizer = torch.optim.Adam(model.parameters(), lr = LEARNING_RATE)\n",
    "criterion = nn.CrossEntropyLoss(ignore_index = PAD_IDX)"
   ]
  },
  {
   "cell_type": "code",
   "execution_count": 37,
   "id": "8498f3a6",
   "metadata": {
    "execution": {
     "iopub.execute_input": "2024-01-22T10:06:19.810600Z",
     "iopub.status.busy": "2024-01-22T10:06:19.810317Z",
     "iopub.status.idle": "2024-01-22T10:06:19.819308Z",
     "shell.execute_reply": "2024-01-22T10:06:19.818437Z"
    },
    "papermill": {
     "duration": 0.034292,
     "end_time": "2024-01-22T10:06:19.821276",
     "exception": false,
     "start_time": "2024-01-22T10:06:19.786984",
     "status": "completed"
    },
    "tags": []
   },
   "outputs": [],
   "source": [
    "def train(model, iterator, optimizer, criterion, clip):\n",
    "    \"\"\"\n",
    "    Train the model on the given data.\n",
    "\n",
    "    Args:\n",
    "        model:        Transformer model to be trained\n",
    "        iterator:     data to be trained on\n",
    "        optimizer:    optimizer for updating parameters\n",
    "        criterion:    loss function for updating parameters\n",
    "        clip:         value to help prevent exploding gradients\n",
    "\n",
    "    Returns:\n",
    "        loss for the epoch\n",
    "    \"\"\"\n",
    "\n",
    "    # set the model to training mode\n",
    "    model.train()\n",
    "\n",
    "    epoch_loss = 0\n",
    "    \n",
    "    show_summary = True\n",
    "    \n",
    "    # loop through each batch in the iterator\n",
    "    for i, batch in enumerate(iterator):\n",
    "\n",
    "        # set the source and target batches    \n",
    "        src,trg = batch\n",
    "        \n",
    "#         print(\"src\", src, src.size())\n",
    "#         print(\"trg\", trg, trg.size())\n",
    "        \n",
    "#         print(\"trg[:,:-1]\", trg[:,:-1], trg[:,:-1].size())\n",
    "        \n",
    "        \n",
    "        # expected output\n",
    "        expected_output = trg[:,1:]\n",
    "#         print(\"expected_output\", expected_output, expected_output.size())\n",
    "\n",
    "        # zero the gradients\n",
    "        optimizer.zero_grad()\n",
    "        \n",
    "        # Show model summary\n",
    "        if show_summary:\n",
    "            show_summary = False\n",
    "            summary(model, input_data=[src, trg[:,:-1]])\n",
    "\n",
    "        # logits for each output\n",
    "        logits = model(src, trg[:,:-1])\n",
    "    \n",
    "        # calculate the loss\n",
    "        loss = criterion(logits.contiguous().view(-1, logits.shape[-1]), \n",
    "                        expected_output.contiguous().view(-1))\n",
    "\n",
    "        # backpropagation\n",
    "        loss.backward()\n",
    "\n",
    "        # clip the weights\n",
    "        torch.nn.utils.clip_grad_norm_(model.parameters(), clip)\n",
    "\n",
    "        # update the weights\n",
    "        optimizer.step()\n",
    "\n",
    "        # update the loss\n",
    "        epoch_loss += loss.item()\n",
    "\n",
    "    # return the average loss for the epoch\n",
    "    return epoch_loss / len(iterator)"
   ]
  },
  {
   "cell_type": "code",
   "execution_count": 38,
   "id": "a05b55a9",
   "metadata": {
    "execution": {
     "iopub.execute_input": "2024-01-22T10:06:19.867399Z",
     "iopub.status.busy": "2024-01-22T10:06:19.867119Z",
     "iopub.status.idle": "2024-01-22T10:06:19.874225Z",
     "shell.execute_reply": "2024-01-22T10:06:19.873329Z"
    },
    "papermill": {
     "duration": 0.032597,
     "end_time": "2024-01-22T10:06:19.876169",
     "exception": false,
     "start_time": "2024-01-22T10:06:19.843572",
     "status": "completed"
    },
    "tags": []
   },
   "outputs": [],
   "source": [
    "def evaluate(model, iterator, criterion):\n",
    "    \"\"\"\n",
    "    Evaluate the model on the given data.\n",
    "\n",
    "    Args:\n",
    "        model:        Transformer model to be trained\n",
    "        iterator:     data to be evaluated\n",
    "        criterion:    loss function for assessing outputs\n",
    "\n",
    "    Returns:\n",
    "        loss for the data\n",
    "    \"\"\"\n",
    "\n",
    "    # set the model to evaluation mode\n",
    "    model.eval()\n",
    "\n",
    "    epoch_loss = 0\n",
    "    \n",
    "    # evaluate without updating gradients\n",
    "    with torch.no_grad():\n",
    "\n",
    "        # loop through each batch in the iterator\n",
    "        for i, batch in enumerate(iterator):\n",
    "\n",
    "            # set the source and target batches  \n",
    "            src, trg = batch\n",
    "            \n",
    "            # expected output\n",
    "            expected_output = trg[:,1:]\n",
    "\n",
    "\n",
    "            # logits for each output\n",
    "            logits = model(src, trg[:,:-1])\n",
    "\n",
    "\n",
    "            # calculate the loss\n",
    "            loss = criterion(logits.contiguous().view(-1, logits.shape[-1]), \n",
    "                          expected_output.contiguous().view(-1))\n",
    "\n",
    "            # update the loss\n",
    "            epoch_loss += loss.item()\n",
    "        \n",
    "    # return the average loss for the epoch\n",
    "    return epoch_loss / len(iterator)"
   ]
  },
  {
   "cell_type": "code",
   "execution_count": 39,
   "id": "449b15fc",
   "metadata": {
    "execution": {
     "iopub.execute_input": "2024-01-22T10:06:19.921390Z",
     "iopub.status.busy": "2024-01-22T10:06:19.921095Z",
     "iopub.status.idle": "2024-01-22T10:06:19.925553Z",
     "shell.execute_reply": "2024-01-22T10:06:19.924693Z"
    },
    "papermill": {
     "duration": 0.029257,
     "end_time": "2024-01-22T10:06:19.927474",
     "exception": false,
     "start_time": "2024-01-22T10:06:19.898217",
     "status": "completed"
    },
    "tags": []
   },
   "outputs": [],
   "source": [
    "def epoch_time(start_time, end_time):\n",
    "    elapsed_time = end_time - start_time\n",
    "    elapsed_mins = int(elapsed_time / 60)\n",
    "    elapsed_secs = int(elapsed_time - (elapsed_mins * 60))\n",
    "    return elapsed_mins, elapsed_secs"
   ]
  },
  {
   "cell_type": "markdown",
   "id": "6dd9928e",
   "metadata": {
    "papermill": {
     "duration": 0.021832,
     "end_time": "2024-01-22T10:06:19.971376",
     "exception": false,
     "start_time": "2024-01-22T10:06:19.949544",
     "status": "completed"
    },
    "tags": []
   },
   "source": [
    "# Perform Training"
   ]
  },
  {
   "cell_type": "code",
   "execution_count": 40,
   "id": "5d59e0de",
   "metadata": {
    "execution": {
     "iopub.execute_input": "2024-01-22T10:06:20.016691Z",
     "iopub.status.busy": "2024-01-22T10:06:20.016398Z",
     "iopub.status.idle": "2024-01-22T10:09:27.769626Z",
     "shell.execute_reply": "2024-01-22T10:09:27.768571Z"
    },
    "papermill": {
     "duration": 187.805285,
     "end_time": "2024-01-22T10:09:27.798677",
     "exception": false,
     "start_time": "2024-01-22T10:06:19.993392",
     "status": "completed"
    },
    "tags": []
   },
   "outputs": [
    {
     "name": "stderr",
     "output_type": "stream",
     "text": [
      "  5%|▌         | 1/20 [00:13<04:08, 13.09s/it]"
     ]
    },
    {
     "name": "stdout",
     "output_type": "stream",
     "text": [
      "Epoch: 01 | Time: 0m 13s\n",
      "\tTrain Loss: 4.610 | Train PPL: 100.516\n",
      "\t Val. Loss: 3.635 |  Val. PPL:  37.916\n"
     ]
    },
    {
     "name": "stderr",
     "output_type": "stream",
     "text": [
      " 10%|█         | 2/20 [00:25<03:49, 12.74s/it]"
     ]
    },
    {
     "name": "stdout",
     "output_type": "stream",
     "text": [
      "Epoch: 02 | Time: 0m 12s\n",
      "\tTrain Loss: 3.324 | Train PPL:  27.774\n",
      "\t Val. Loss: 2.896 |  Val. PPL:  18.096\n"
     ]
    },
    {
     "name": "stderr",
     "output_type": "stream",
     "text": [
      " 15%|█▌        | 3/20 [00:38<03:35, 12.65s/it]"
     ]
    },
    {
     "name": "stdout",
     "output_type": "stream",
     "text": [
      "Epoch: 03 | Time: 0m 12s\n",
      "\tTrain Loss: 2.613 | Train PPL:  13.638\n",
      "\t Val. Loss: 2.340 |  Val. PPL:  10.377\n"
     ]
    },
    {
     "name": "stderr",
     "output_type": "stream",
     "text": [
      " 20%|██        | 4/20 [00:50<03:22, 12.67s/it]"
     ]
    },
    {
     "name": "stdout",
     "output_type": "stream",
     "text": [
      "Epoch: 04 | Time: 0m 12s\n",
      "\tTrain Loss: 2.144 | Train PPL:   8.535\n",
      "\t Val. Loss: 2.075 |  Val. PPL:   7.967\n"
     ]
    },
    {
     "name": "stderr",
     "output_type": "stream",
     "text": [
      " 25%|██▌       | 5/20 [01:03<03:09, 12.64s/it]"
     ]
    },
    {
     "name": "stdout",
     "output_type": "stream",
     "text": [
      "Epoch: 05 | Time: 0m 12s\n",
      "\tTrain Loss: 1.838 | Train PPL:   6.286\n",
      "\t Val. Loss: 1.927 |  Val. PPL:   6.869\n"
     ]
    },
    {
     "name": "stderr",
     "output_type": "stream",
     "text": [
      " 30%|███       | 6/20 [01:15<02:56, 12.60s/it]"
     ]
    },
    {
     "name": "stdout",
     "output_type": "stream",
     "text": [
      "Epoch: 06 | Time: 0m 12s\n",
      "\tTrain Loss: 1.618 | Train PPL:   5.045\n",
      "\t Val. Loss: 1.809 |  Val. PPL:   6.102\n"
     ]
    },
    {
     "name": "stderr",
     "output_type": "stream",
     "text": [
      " 35%|███▌      | 7/20 [01:28<02:43, 12.55s/it]"
     ]
    },
    {
     "name": "stdout",
     "output_type": "stream",
     "text": [
      "Epoch: 07 | Time: 0m 12s\n",
      "\tTrain Loss: 1.445 | Train PPL:   4.242\n",
      "\t Val. Loss: 1.772 |  Val. PPL:   5.880\n"
     ]
    },
    {
     "name": "stderr",
     "output_type": "stream",
     "text": [
      " 40%|████      | 8/20 [01:40<02:30, 12.54s/it]"
     ]
    },
    {
     "name": "stdout",
     "output_type": "stream",
     "text": [
      "Epoch: 08 | Time: 0m 12s\n",
      "\tTrain Loss: 1.305 | Train PPL:   3.688\n",
      "\t Val. Loss: 1.732 |  Val. PPL:   5.654\n"
     ]
    },
    {
     "name": "stderr",
     "output_type": "stream",
     "text": [
      " 45%|████▌     | 9/20 [01:53<02:17, 12.52s/it]"
     ]
    },
    {
     "name": "stdout",
     "output_type": "stream",
     "text": [
      "Epoch: 09 | Time: 0m 12s\n",
      "\tTrain Loss: 1.190 | Train PPL:   3.288\n",
      "\t Val. Loss: 1.719 |  Val. PPL:   5.579\n"
     ]
    },
    {
     "name": "stderr",
     "output_type": "stream",
     "text": [
      " 50%|█████     | 10/20 [02:05<02:05, 12.52s/it]"
     ]
    },
    {
     "name": "stdout",
     "output_type": "stream",
     "text": [
      "Epoch: 10 | Time: 0m 12s\n",
      "\tTrain Loss: 1.090 | Train PPL:   2.973\n",
      "\t Val. Loss: 1.715 |  Val. PPL:   5.557\n"
     ]
    },
    {
     "name": "stderr",
     "output_type": "stream",
     "text": [
      " 55%|█████▌    | 11/20 [02:18<01:52, 12.48s/it]"
     ]
    },
    {
     "name": "stdout",
     "output_type": "stream",
     "text": [
      "Epoch: 11 | Time: 0m 12s\n",
      "\tTrain Loss: 1.003 | Train PPL:   2.727\n",
      "\t Val. Loss: 1.739 |  Val. PPL:   5.691\n"
     ]
    },
    {
     "name": "stderr",
     "output_type": "stream",
     "text": [
      " 60%|██████    | 12/20 [02:30<01:39, 12.44s/it]"
     ]
    },
    {
     "name": "stdout",
     "output_type": "stream",
     "text": [
      "Epoch: 12 | Time: 0m 12s\n",
      "\tTrain Loss: 0.928 | Train PPL:   2.529\n",
      "\t Val. Loss: 1.730 |  Val. PPL:   5.640\n"
     ]
    },
    {
     "name": "stderr",
     "output_type": "stream",
     "text": [
      " 65%|██████▌   | 13/20 [02:43<01:26, 12.42s/it]"
     ]
    },
    {
     "name": "stdout",
     "output_type": "stream",
     "text": [
      "Epoch: 13 | Time: 0m 12s\n",
      "\tTrain Loss: 0.859 | Train PPL:   2.362\n",
      "\t Val. Loss: 1.769 |  Val. PPL:   5.866\n"
     ]
    },
    {
     "name": "stderr",
     "output_type": "stream",
     "text": [
      " 70%|███████   | 14/20 [02:55<01:14, 12.41s/it]"
     ]
    },
    {
     "name": "stdout",
     "output_type": "stream",
     "text": [
      "Epoch: 14 | Time: 0m 12s\n",
      "\tTrain Loss: 0.796 | Train PPL:   2.217\n",
      "\t Val. Loss: 1.819 |  Val. PPL:   6.163\n"
     ]
    },
    {
     "name": "stderr",
     "output_type": "stream",
     "text": [
      " 70%|███████   | 14/20 [03:07<01:20, 13.41s/it]"
     ]
    },
    {
     "name": "stdout",
     "output_type": "stream",
     "text": [
      "Epoch: 15 | Time: 0m 12s\n",
      "\tTrain Loss: 0.741 | Train PPL:   2.097\n",
      "\t Val. Loss: 1.845 |  Val. PPL:   6.330\n",
      "Early Stopping since validation count did not decrease after 5 patience!\n"
     ]
    },
    {
     "name": "stderr",
     "output_type": "stream",
     "text": [
      "\n"
     ]
    }
   ],
   "source": [
    "N_EPOCHS = 20\n",
    "CLIP = 1\n",
    "patience = 5\n",
    "\n",
    "best_valid_loss = float('inf')\n",
    "\n",
    "patience_count = 0\n",
    "\n",
    "# loop through each epoch\n",
    "for epoch in tqdm(range(N_EPOCHS)):\n",
    "    \n",
    "    start_time = time.time()\n",
    "\n",
    "    # calculate the train loss and update the parameters\n",
    "    train_loss = train(model, train_iter, optimizer, criterion, CLIP)\n",
    "\n",
    "    # calculate the loss on the validation set\n",
    "    valid_loss = evaluate(model, valid_iter, criterion)\n",
    "    \n",
    "    end_time = time.time()\n",
    "\n",
    "    # calculate how long the epoch took\n",
    "    epoch_mins, epoch_secs = epoch_time(start_time, end_time)\n",
    "\n",
    "    # save the model when it performs better than the previous run\n",
    "    if valid_loss < best_valid_loss:\n",
    "        best_valid_loss = valid_loss\n",
    "        torch.save(model.state_dict(), 'transformer-model.pt')\n",
    "        patience_count = 0\n",
    "    else:\n",
    "        patience_count += 1\n",
    "    \n",
    "    print(f'Epoch: {epoch+1:02} | Time: {epoch_mins}m {epoch_secs}s')\n",
    "    print(f'\\tTrain Loss: {train_loss:.3f} | Train PPL: {math.exp(train_loss):7.3f}')\n",
    "    print(f'\\t Val. Loss: {valid_loss:.3f} |  Val. PPL: {math.exp(valid_loss):7.3f}')\n",
    "    \n",
    "    if patience is not None and patience_count == patience:\n",
    "        print(f\"Early Stopping since validation count did not decrease after {patience_count} patience!\")\n",
    "        break"
   ]
  },
  {
   "cell_type": "code",
   "execution_count": 41,
   "id": "e3ef5364",
   "metadata": {
    "execution": {
     "iopub.execute_input": "2024-01-22T10:09:27.849068Z",
     "iopub.status.busy": "2024-01-22T10:09:27.848722Z",
     "iopub.status.idle": "2024-01-22T10:09:28.115263Z",
     "shell.execute_reply": "2024-01-22T10:09:28.114271Z"
    },
    "papermill": {
     "duration": 0.294073,
     "end_time": "2024-01-22T10:09:28.117269",
     "exception": false,
     "start_time": "2024-01-22T10:09:27.823196",
     "status": "completed"
    },
    "tags": []
   },
   "outputs": [
    {
     "name": "stdout",
     "output_type": "stream",
     "text": [
      "Test Loss: 1.703 | Test PPL:   5.490\n"
     ]
    }
   ],
   "source": [
    "model.load_state_dict(torch.load('transformer-model.pt'))\n",
    "\n",
    "# calculate the loss on the test set\n",
    "test_loss = evaluate(model, test_iter, criterion)\n",
    "\n",
    "print(f'Test Loss: {test_loss:.3f} | Test PPL: {math.exp(test_loss):7.3f}')"
   ]
  },
  {
   "cell_type": "code",
   "execution_count": 42,
   "id": "52493266",
   "metadata": {
    "execution": {
     "iopub.execute_input": "2024-01-22T10:09:28.169258Z",
     "iopub.status.busy": "2024-01-22T10:09:28.168928Z",
     "iopub.status.idle": "2024-01-22T10:09:28.179577Z",
     "shell.execute_reply": "2024-01-22T10:09:28.178682Z"
    },
    "papermill": {
     "duration": 0.038487,
     "end_time": "2024-01-22T10:09:28.181483",
     "exception": false,
     "start_time": "2024-01-22T10:09:28.142996",
     "status": "completed"
    },
    "tags": []
   },
   "outputs": [],
   "source": [
    "def translate_sentence(sentence, model, device, max_length = 50):\n",
    "    \"\"\"\n",
    "    Translate a German sentence to its English equivalent.\n",
    "\n",
    "    Args:\n",
    "        sentence:     German sentence to be translated to English; list or str\n",
    "        model:        Transformer model used for translation\n",
    "        device:       device to perform translation on\n",
    "        max_length:   maximum token length for translation\n",
    "\n",
    "    Returns:\n",
    "        src:                  return the tokenized input\n",
    "        trg_input:            return the input to the decoder before the final output \n",
    "        trg_output:           return the final translation, shifted right\n",
    "        attn_probs:           return the attention scores for the decoder heads\n",
    "        masked_attn_probs:    return the masked attention scores for the decoder heads\n",
    "    \"\"\"\n",
    "    \n",
    "    model.eval()\n",
    "\n",
    "    # tokenize and index the provided string\n",
    "    if isinstance(sentence, str):\n",
    "        src = ['<bos>'] + [token.text.lower() for token in spacy_de(sentence)] +  ['<eos>']\n",
    "    else:\n",
    "        src = ['<bos>'] + sentence + ['<eos>']\n",
    "\n",
    "    # convert to integers\n",
    "    src_indexes = [vocab_src[token] for token in src]\n",
    "\n",
    "    # convert list to tensor\n",
    "    src_tensor = torch.tensor(src_indexes).int().unsqueeze(0).to(device)\n",
    "\n",
    "    # set <bos> token for target generation\n",
    "    trg_indexes = [vocab_trg.get_stoi()['<bos>']]\n",
    "\n",
    "    # generate new tokens\n",
    "    for i in range(max_length):\n",
    "\n",
    "        # convert the list to a tensor\n",
    "        trg_tensor = torch.tensor(trg_indexes).int().unsqueeze(0).to(device)\n",
    "\n",
    "        # generate the next token \n",
    "        with torch.no_grad():\n",
    "\n",
    "            # generate the logits\n",
    "            logits = model.forward(src_tensor, trg_tensor)\n",
    "\n",
    "            # select the newly predicted token\n",
    "            pred_token = logits.argmax(2)[:,-1].item()\n",
    "\n",
    "            # if <eos> token or max length, stop generating\n",
    "            if pred_token == vocab_trg.get_stoi()['<eos>'] or i == (max_length-1):\n",
    "\n",
    "                # decoder input\n",
    "                trg_input = vocab_trg.lookup_tokens(trg_indexes)\n",
    "\n",
    "                # decoder output\n",
    "                trg_output = vocab_trg.lookup_tokens(logits.argmax(2).squeeze(0).tolist())\n",
    "\n",
    "                return src, trg_input, trg_output\n",
    "      \n",
    "            # else, continue generating\n",
    "            else:\n",
    "                # add the token\n",
    "                trg_indexes.append(pred_token)"
   ]
  },
  {
   "cell_type": "code",
   "execution_count": 43,
   "id": "a0cfc21e",
   "metadata": {
    "execution": {
     "iopub.execute_input": "2024-01-22T10:09:28.232321Z",
     "iopub.status.busy": "2024-01-22T10:09:28.231614Z",
     "iopub.status.idle": "2024-01-22T10:09:28.460889Z",
     "shell.execute_reply": "2024-01-22T10:09:28.459978Z"
    },
    "papermill": {
     "duration": 0.25694,
     "end_time": "2024-01-22T10:09:28.462947",
     "exception": false,
     "start_time": "2024-01-22T10:09:28.206007",
     "status": "completed"
    },
    "tags": []
   },
   "outputs": [
    {
     "name": "stdout",
     "output_type": "stream",
     "text": [
      "source = ['<bos>', 'eine', 'frau', 'mit', 'einer', 'großen', 'geldbörse', 'geht', 'an', 'einem', 'tor', 'vorbei', '.', '<eos>']\n",
      "target input = ['<bos>', 'a', 'woman', 'with', 'a', 'large', 'purse', 'walks', 'past', 'a', 'goal', 'past', 'a', 'goal', 'with', 'a', 'large', 'basket', '.']\n",
      "target output = ['a', 'woman', 'with', 'a', 'large', 'purse', 'walks', 'past', 'a', 'goal', 'past', 'a', 'goal', 'with', 'a', 'large', 'basket', '.', '<eos>']\n"
     ]
    }
   ],
   "source": [
    "# 'a woman with a large purse is walking by a gate'\n",
    "src = ['eine', 'frau', 'mit', 'einer', 'großen', 'geldbörse', 'geht', 'an', 'einem', 'tor', 'vorbei', '.']\n",
    "trg = [\"a\", \"woman\", \"with\", \"a\", \"large\", \"purse\", \"is\", \"walking\", \"by\", \"a\", \"gate\"]\n",
    "\n",
    "src, trg_input, trg_output = translate_sentence(src, model, device)\n",
    "\n",
    "print(f'source = {src}')\n",
    "print(f'target input = {trg_input}')\n",
    "print(f'target output = {trg_output}')"
   ]
  },
  {
   "cell_type": "markdown",
   "id": "050deb30",
   "metadata": {
    "papermill": {
     "duration": 0.024992,
     "end_time": "2024-01-22T10:09:28.513183",
     "exception": false,
     "start_time": "2024-01-22T10:09:28.488191",
     "status": "completed"
    },
    "tags": []
   },
   "source": [
    "# Calculate Bleu Score"
   ]
  },
  {
   "cell_type": "code",
   "execution_count": 44,
   "id": "9334a2c4",
   "metadata": {
    "execution": {
     "iopub.execute_input": "2024-01-22T10:09:28.564255Z",
     "iopub.status.busy": "2024-01-22T10:09:28.563950Z",
     "iopub.status.idle": "2024-01-22T10:09:40.567430Z",
     "shell.execute_reply": "2024-01-22T10:09:40.566210Z"
    },
    "papermill": {
     "duration": 12.032091,
     "end_time": "2024-01-22T10:09:40.569919",
     "exception": false,
     "start_time": "2024-01-22T10:09:28.537828",
     "status": "completed"
    },
    "tags": []
   },
   "outputs": [
    {
     "name": "stdout",
     "output_type": "stream",
     "text": [
      "Collecting torcheval\r\n",
      "  Obtaining dependency information for torcheval from https://files.pythonhosted.org/packages/e4/de/e7abc784b00de9d05999657d29187f1f7a3406ed10ecaf164de06482608f/torcheval-0.0.7-py3-none-any.whl.metadata\r\n",
      "  Downloading torcheval-0.0.7-py3-none-any.whl.metadata (8.6 kB)\r\n",
      "Requirement already satisfied: typing-extensions in /opt/conda/lib/python3.10/site-packages (from torcheval) (4.5.0)\r\n",
      "Downloading torcheval-0.0.7-py3-none-any.whl (179 kB)\r\n",
      "\u001b[2K   \u001b[90m━━━━━━━━━━━━━━━━━━━━━━━━━━━━━━━━━━━━━━━━\u001b[0m \u001b[32m179.2/179.2 kB\u001b[0m \u001b[31m4.8 MB/s\u001b[0m eta \u001b[36m0:00:00\u001b[0m\r\n",
      "\u001b[?25hInstalling collected packages: torcheval\r\n",
      "Successfully installed torcheval-0.0.7\r\n"
     ]
    }
   ],
   "source": [
    "!pip install torcheval"
   ]
  },
  {
   "cell_type": "code",
   "execution_count": 45,
   "id": "b9999106",
   "metadata": {
    "execution": {
     "iopub.execute_input": "2024-01-22T10:09:40.624184Z",
     "iopub.status.busy": "2024-01-22T10:09:40.623752Z",
     "iopub.status.idle": "2024-01-22T10:09:41.158368Z",
     "shell.execute_reply": "2024-01-22T10:09:41.157586Z"
    },
    "papermill": {
     "duration": 0.564435,
     "end_time": "2024-01-22T10:09:41.160729",
     "exception": false,
     "start_time": "2024-01-22T10:09:40.596294",
     "status": "completed"
    },
    "tags": []
   },
   "outputs": [],
   "source": [
    "from torcheval.metrics.functional.text import bleu_score\n",
    "import re"
   ]
  },
  {
   "cell_type": "code",
   "execution_count": 46,
   "id": "8bc2bcfc",
   "metadata": {
    "execution": {
     "iopub.execute_input": "2024-01-22T10:09:41.213838Z",
     "iopub.status.busy": "2024-01-22T10:09:41.213476Z",
     "iopub.status.idle": "2024-01-22T10:09:41.219700Z",
     "shell.execute_reply": "2024-01-22T10:09:41.218841Z"
    },
    "papermill": {
     "duration": 0.035211,
     "end_time": "2024-01-22T10:09:41.221863",
     "exception": false,
     "start_time": "2024-01-22T10:09:41.186652",
     "status": "completed"
    },
    "tags": []
   },
   "outputs": [
    {
     "data": {
      "text/plain": [
       "['a woman with a large purse walks past a goal past a goal with a large basket .']"
      ]
     },
     "execution_count": 46,
     "metadata": {},
     "output_type": "execute_result"
    }
   ],
   "source": [
    "candidates = \" \".join(trg_output[:-1])\n",
    "candidates = [candidates]\n",
    "candidates"
   ]
  },
  {
   "cell_type": "code",
   "execution_count": 47,
   "id": "a74b50e8",
   "metadata": {
    "execution": {
     "iopub.execute_input": "2024-01-22T10:09:41.275178Z",
     "iopub.status.busy": "2024-01-22T10:09:41.274793Z",
     "iopub.status.idle": "2024-01-22T10:09:41.280800Z",
     "shell.execute_reply": "2024-01-22T10:09:41.279916Z"
    },
    "papermill": {
     "duration": 0.035198,
     "end_time": "2024-01-22T10:09:41.282694",
     "exception": false,
     "start_time": "2024-01-22T10:09:41.247496",
     "status": "completed"
    },
    "tags": []
   },
   "outputs": [
    {
     "data": {
      "text/plain": [
       "['a woman with a large purse is walking by a gate']"
      ]
     },
     "execution_count": 47,
     "metadata": {},
     "output_type": "execute_result"
    }
   ],
   "source": [
    "references = \" \".join(trg)\n",
    "references = [references]\n",
    "references"
   ]
  },
  {
   "cell_type": "code",
   "execution_count": 48,
   "id": "8f542216",
   "metadata": {
    "execution": {
     "iopub.execute_input": "2024-01-22T10:09:41.337198Z",
     "iopub.status.busy": "2024-01-22T10:09:41.336217Z",
     "iopub.status.idle": "2024-01-22T10:09:41.352092Z",
     "shell.execute_reply": "2024-01-22T10:09:41.351164Z"
    },
    "papermill": {
     "duration": 0.044555,
     "end_time": "2024-01-22T10:09:41.354077",
     "exception": false,
     "start_time": "2024-01-22T10:09:41.309522",
     "status": "completed"
    },
    "tags": []
   },
   "outputs": [
    {
     "data": {
      "text/plain": [
       "tensor(0.2750)"
      ]
     },
     "execution_count": 48,
     "metadata": {},
     "output_type": "execute_result"
    }
   ],
   "source": [
    "bleu_score(candidates, references, n_gram=4)"
   ]
  },
  {
   "cell_type": "code",
   "execution_count": 49,
   "id": "3e2ed029",
   "metadata": {
    "execution": {
     "iopub.execute_input": "2024-01-22T10:09:41.407257Z",
     "iopub.status.busy": "2024-01-22T10:09:41.406614Z",
     "iopub.status.idle": "2024-01-22T10:12:31.405978Z",
     "shell.execute_reply": "2024-01-22T10:12:31.404924Z"
    },
    "papermill": {
     "duration": 170.02864,
     "end_time": "2024-01-22T10:12:31.408633",
     "exception": false,
     "start_time": "2024-01-22T10:09:41.379993",
     "status": "completed"
    },
    "tags": []
   },
   "outputs": [
    {
     "name": "stderr",
     "output_type": "stream",
     "text": [
      "100%|██████████| 1000/1000 [02:49<00:00,  5.88it/s]\n"
     ]
    }
   ],
   "source": [
    "bleu_score_list = []\n",
    "for i in tqdm(range(len(test_df))):\n",
    "    row = test_df.iloc[i,:]\n",
    "    reference = row.english\n",
    "    src = row.german\n",
    "    # Remove punctuation\n",
    "    reference = re.sub(r'[^\\w\\s]', '', reference)\n",
    "    src = re.sub(r'[^\\w\\s]', '', src)\n",
    "    # Ready the sentence for translation\n",
    "    src = src.split(\" \")\n",
    "    src2, trg_input, trg_output = translate_sentence(src, model, device)\n",
    "    # Prepare candidates and references for bleu scores\n",
    "    candidate = \" \".join(trg_output[:-1])\n",
    "    score = bleu_score([candidate], [reference], n_gram=4)\n",
    "    bleu_score_list.append(score.item())\n",
    "#     print(reference, src, src2, candidate, score)\n"
   ]
  },
  {
   "cell_type": "code",
   "execution_count": 50,
   "id": "33052378",
   "metadata": {
    "execution": {
     "iopub.execute_input": "2024-01-22T10:12:31.616387Z",
     "iopub.status.busy": "2024-01-22T10:12:31.615679Z",
     "iopub.status.idle": "2024-01-22T10:12:31.621036Z",
     "shell.execute_reply": "2024-01-22T10:12:31.620200Z"
    },
    "papermill": {
     "duration": 0.110967,
     "end_time": "2024-01-22T10:12:31.623115",
     "exception": false,
     "start_time": "2024-01-22T10:12:31.512148",
     "status": "completed"
    },
    "tags": []
   },
   "outputs": [
    {
     "name": "stdout",
     "output_type": "stream",
     "text": [
      "Average bleu score on test data: 0.010585090696811676\n"
     ]
    }
   ],
   "source": [
    "avg_bleu_score = np.mean(bleu_score_list)\n",
    "print(f\"Average bleu score on test data: {avg_bleu_score}\")"
   ]
  },
  {
   "cell_type": "code",
   "execution_count": null,
   "id": "6cbc6dc2",
   "metadata": {
    "papermill": {
     "duration": 0.102256,
     "end_time": "2024-01-22T10:12:31.827192",
     "exception": false,
     "start_time": "2024-01-22T10:12:31.724936",
     "status": "completed"
    },
    "tags": []
   },
   "outputs": [],
   "source": []
  }
 ],
 "metadata": {
  "kaggle": {
   "accelerator": "gpu",
   "dataSources": [
    {
     "datasetId": 1800581,
     "sourceId": 2936819,
     "sourceType": "datasetVersion"
    }
   ],
   "dockerImageVersionId": 30636,
   "isGpuEnabled": true,
   "isInternetEnabled": true,
   "language": "python",
   "sourceType": "notebook"
  },
  "kernelspec": {
   "display_name": "Python 3",
   "language": "python",
   "name": "python3"
  },
  "language_info": {
   "codemirror_mode": {
    "name": "ipython",
    "version": 3
   },
   "file_extension": ".py",
   "mimetype": "text/x-python",
   "name": "python",
   "nbconvert_exporter": "python",
   "pygments_lexer": "ipython3",
   "version": "3.10.12"
  },
  "papermill": {
   "default_parameters": {},
   "duration": 430.384583,
   "end_time": "2024-01-22T10:12:33.654641",
   "environment_variables": {},
   "exception": null,
   "input_path": "__notebook__.ipynb",
   "output_path": "__notebook__.ipynb",
   "parameters": {},
   "start_time": "2024-01-22T10:05:23.270058",
   "version": "2.4.0"
  }
 },
 "nbformat": 4,
 "nbformat_minor": 5
}
